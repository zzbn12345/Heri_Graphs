{
 "cells": [
  {
   "cell_type": "code",
   "execution_count": 1,
   "metadata": {},
   "outputs": [],
   "source": [
    "import flickrapi\n",
    "import json\n",
    "import pandas as pd\n",
    "import numpy as np\n",
    "from argparse import Namespace\n",
    "from collections import Counter\n",
    "import pickle\n",
    "import os\n",
    "\n",
    "args = Namespace(\n",
    "    # Data and Path information\n",
    "    api_key = u'9e32e17383e134335b5cabf2eb186b7a',\n",
    "    api_secret = u'781aa9cac0a656c9',\n",
    "    radius = 5,\n",
    "    save_dir = 'data_storage/'\n",
    ")"
   ]
  },
  {
   "cell_type": "code",
   "execution_count": 212,
   "metadata": {},
   "outputs": [],
   "source": [
    "with open(args.save_dir+'grid/Photo_info.p', 'rb') as fp:\n",
    "    Photos = pickle.load(fp)"
   ]
  },
  {
   "cell_type": "code",
   "execution_count": 214,
   "metadata": {},
   "outputs": [],
   "source": [
    "with open(args.save_dir+'grid/completed.p', 'rb') as fp:\n",
    "    comp = pickle.load(fp)"
   ]
  },
  {
   "cell_type": "code",
   "execution_count": 213,
   "metadata": {},
   "outputs": [
    {
     "data": {
      "text/plain": [
       "22281"
      ]
     },
     "execution_count": 213,
     "metadata": {},
     "output_type": "execute_result"
    }
   ],
   "source": [
    "len(Photos.keys())"
   ]
  },
  {
   "cell_type": "code",
   "execution_count": 215,
   "metadata": {},
   "outputs": [
    {
     "data": {
      "text/plain": [
       "73"
      ]
     },
     "execution_count": 215,
     "metadata": {},
     "output_type": "execute_result"
    }
   ],
   "source": [
    "len(comp)"
   ]
  },
  {
   "cell_type": "code",
   "execution_count": 216,
   "metadata": {},
   "outputs": [
    {
     "data": {
      "text/html": [
       "<div>\n",
       "<style scoped>\n",
       "    .dataframe tbody tr th:only-of-type {\n",
       "        vertical-align: middle;\n",
       "    }\n",
       "\n",
       "    .dataframe tbody tr th {\n",
       "        vertical-align: top;\n",
       "    }\n",
       "\n",
       "    .dataframe thead th {\n",
       "        text-align: right;\n",
       "    }\n",
       "</style>\n",
       "<table border=\"1\" class=\"dataframe\">\n",
       "  <thead>\n",
       "    <tr style=\"text-align: right;\">\n",
       "      <th></th>\n",
       "      <th>Unnamed: 0</th>\n",
       "      <th>Unnamed: 1</th>\n",
       "      <th>lat</th>\n",
       "      <th>lon</th>\n",
       "      <th>collected</th>\n",
       "      <th>total</th>\n",
       "    </tr>\n",
       "  </thead>\n",
       "  <tbody>\n",
       "    <tr>\n",
       "      <th>71</th>\n",
       "      <td>3</td>\n",
       "      <td>11</td>\n",
       "      <td>45.425186</td>\n",
       "      <td>12.336316</td>\n",
       "      <td>2869.0</td>\n",
       "      <td>21246.0</td>\n",
       "    </tr>\n",
       "    <tr>\n",
       "      <th>72</th>\n",
       "      <td>3</td>\n",
       "      <td>12</td>\n",
       "      <td>45.425186</td>\n",
       "      <td>12.340431</td>\n",
       "      <td>2012.0</td>\n",
       "      <td>21820.0</td>\n",
       "    </tr>\n",
       "  </tbody>\n",
       "</table>\n",
       "</div>"
      ],
      "text/plain": [
       "    Unnamed: 0  Unnamed: 1        lat        lon  collected    total\n",
       "71           3          11  45.425186  12.336316     2869.0  21246.0\n",
       "72           3          12  45.425186  12.340431     2012.0  21820.0"
      ]
     },
     "execution_count": 216,
     "metadata": {},
     "output_type": "execute_result"
    }
   ],
   "source": [
    "completed = pd.read_csv(args.save_dir+'grid/completed.csv')\n",
    "completed.iloc[-2:]"
   ]
  },
  {
   "cell_type": "code",
   "execution_count": 217,
   "metadata": {},
   "outputs": [],
   "source": [
    "df=pd.read_csv(args.save_dir+'grid/photos.csv',sep='\\t').rename(columns={'Unnamed: 0':'ids'})"
   ]
  },
  {
   "cell_type": "code",
   "execution_count": 218,
   "metadata": {},
   "outputs": [
    {
     "data": {
      "text/plain": [
       "22341"
      ]
     },
     "execution_count": 218,
     "metadata": {},
     "output_type": "execute_result"
    }
   ],
   "source": [
    "len(df)"
   ]
  },
  {
   "cell_type": "code",
   "execution_count": 237,
   "metadata": {},
   "outputs": [
    {
     "data": {
      "text/html": [
       "<div>\n",
       "<style scoped>\n",
       "    .dataframe tbody tr th:only-of-type {\n",
       "        vertical-align: middle;\n",
       "    }\n",
       "\n",
       "    .dataframe tbody tr th {\n",
       "        vertical-align: top;\n",
       "    }\n",
       "\n",
       "    .dataframe thead th {\n",
       "        text-align: right;\n",
       "    }\n",
       "</style>\n",
       "<table border=\"1\" class=\"dataframe\">\n",
       "  <thead>\n",
       "    <tr style=\"text-align: right;\">\n",
       "      <th></th>\n",
       "      <th>ids</th>\n",
       "      <th>owner</th>\n",
       "      <th>owner_loc</th>\n",
       "      <th>title</th>\n",
       "      <th>description</th>\n",
       "      <th>comments</th>\n",
       "      <th>taken</th>\n",
       "      <th>views</th>\n",
       "      <th>people</th>\n",
       "      <th>tags</th>\n",
       "      <th>lat</th>\n",
       "      <th>lon</th>\n",
       "      <th>neighbourhood</th>\n",
       "      <th>url</th>\n",
       "      <th>date</th>\n",
       "    </tr>\n",
       "  </thead>\n",
       "  <tbody>\n",
       "    <tr>\n",
       "      <th>0</th>\n",
       "      <td>50770182122</td>\n",
       "      <td>51973207@N00</td>\n",
       "      <td>NaN</td>\n",
       "      <td>Campo Santi Apostoli</td>\n",
       "      <td>Venice - January 2019</td>\n",
       "      <td>0</td>\n",
       "      <td>2019-01-06 09:20:55</td>\n",
       "      <td>6</td>\n",
       "      <td>0</td>\n",
       "      <td>[{'id': '6867053-50770182122-166', 'author': '...</td>\n",
       "      <td>45.440298</td>\n",
       "      <td>12.336573</td>\n",
       "      <td>Rialto</td>\n",
       "      <td>https://www.flickr.com/photos/noukorama/507701...</td>\n",
       "      <td>2019</td>\n",
       "    </tr>\n",
       "    <tr>\n",
       "      <th>1</th>\n",
       "      <td>50770181367</td>\n",
       "      <td>51973207@N00</td>\n",
       "      <td>NaN</td>\n",
       "      <td>Sestiere di Cannaregio</td>\n",
       "      <td>Venice - January 2019</td>\n",
       "      <td>0</td>\n",
       "      <td>2019-01-06 09:19:10</td>\n",
       "      <td>0</td>\n",
       "      <td>0</td>\n",
       "      <td>[{'id': '6867053-50770181367-166', 'author': '...</td>\n",
       "      <td>45.440064</td>\n",
       "      <td>12.336573</td>\n",
       "      <td>Rialto</td>\n",
       "      <td>https://www.flickr.com/photos/noukorama/507701...</td>\n",
       "      <td>2019</td>\n",
       "    </tr>\n",
       "    <tr>\n",
       "      <th>2</th>\n",
       "      <td>50770065816</td>\n",
       "      <td>51973207@N00</td>\n",
       "      <td>NaN</td>\n",
       "      <td>Sestiere di Cannaregio</td>\n",
       "      <td>Venice - January 2019</td>\n",
       "      <td>0</td>\n",
       "      <td>2019-01-06 09:17:36</td>\n",
       "      <td>0</td>\n",
       "      <td>0</td>\n",
       "      <td>[{'id': '6867053-50770065816-166', 'author': '...</td>\n",
       "      <td>45.440064</td>\n",
       "      <td>12.336573</td>\n",
       "      <td>Rialto</td>\n",
       "      <td>https://www.flickr.com/photos/noukorama/507700...</td>\n",
       "      <td>2019</td>\n",
       "    </tr>\n",
       "    <tr>\n",
       "      <th>3</th>\n",
       "      <td>50770737177</td>\n",
       "      <td>54945580@N04</td>\n",
       "      <td>Bergamo</td>\n",
       "      <td>Characteristic Venetian alley</td>\n",
       "      <td>Sony a7rII | LA-EA3 | Sony AF 70-400 F4-5.6 G SSM</td>\n",
       "      <td>3</td>\n",
       "      <td>2018-10-14 14:20:37</td>\n",
       "      <td>85</td>\n",
       "      <td>0</td>\n",
       "      <td>[{'id': '54913441-50770737177-5196', 'author':...</td>\n",
       "      <td>45.437688</td>\n",
       "      <td>12.334850</td>\n",
       "      <td>Rialto</td>\n",
       "      <td>https://www.flickr.com/photos/mario_alpha/5077...</td>\n",
       "      <td>2018</td>\n",
       "    </tr>\n",
       "    <tr>\n",
       "      <th>4</th>\n",
       "      <td>50769627753</td>\n",
       "      <td>127349327@N05</td>\n",
       "      <td>Perth, Western Australia</td>\n",
       "      <td>Arch and Steps, Corte dei Conti, Campo Sant'An...</td>\n",
       "      <td>NaN</td>\n",
       "      <td>2</td>\n",
       "      <td>2017-10-03 11:35:09</td>\n",
       "      <td>64</td>\n",
       "      <td>0</td>\n",
       "      <td>[{'id': '127343987-50769627753-747', 'author':...</td>\n",
       "      <td>45.434138</td>\n",
       "      <td>12.331500</td>\n",
       "      <td>Venice</td>\n",
       "      <td>https://www.flickr.com/photos/studiaphotos/507...</td>\n",
       "      <td>2017</td>\n",
       "    </tr>\n",
       "  </tbody>\n",
       "</table>\n",
       "</div>"
      ],
      "text/plain": [
       "           ids          owner                 owner_loc  \\\n",
       "0  50770182122   51973207@N00                       NaN   \n",
       "1  50770181367   51973207@N00                       NaN   \n",
       "2  50770065816   51973207@N00                       NaN   \n",
       "3  50770737177   54945580@N04                   Bergamo   \n",
       "4  50769627753  127349327@N05  Perth, Western Australia   \n",
       "\n",
       "                                               title  \\\n",
       "0                               Campo Santi Apostoli   \n",
       "1                             Sestiere di Cannaregio   \n",
       "2                             Sestiere di Cannaregio   \n",
       "3                      Characteristic Venetian alley   \n",
       "4  Arch and Steps, Corte dei Conti, Campo Sant'An...   \n",
       "\n",
       "                                         description  comments  \\\n",
       "0                              Venice - January 2019         0   \n",
       "1                              Venice - January 2019         0   \n",
       "2                              Venice - January 2019         0   \n",
       "3  Sony a7rII | LA-EA3 | Sony AF 70-400 F4-5.6 G SSM         3   \n",
       "4                                                NaN         2   \n",
       "\n",
       "                 taken  views  people  \\\n",
       "0  2019-01-06 09:20:55      6       0   \n",
       "1  2019-01-06 09:19:10      0       0   \n",
       "2  2019-01-06 09:17:36      0       0   \n",
       "3  2018-10-14 14:20:37     85       0   \n",
       "4  2017-10-03 11:35:09     64       0   \n",
       "\n",
       "                                                tags        lat        lon  \\\n",
       "0  [{'id': '6867053-50770182122-166', 'author': '...  45.440298  12.336573   \n",
       "1  [{'id': '6867053-50770181367-166', 'author': '...  45.440064  12.336573   \n",
       "2  [{'id': '6867053-50770065816-166', 'author': '...  45.440064  12.336573   \n",
       "3  [{'id': '54913441-50770737177-5196', 'author':...  45.437688  12.334850   \n",
       "4  [{'id': '127343987-50769627753-747', 'author':...  45.434138  12.331500   \n",
       "\n",
       "  neighbourhood                                                url  date  \n",
       "0        Rialto  https://www.flickr.com/photos/noukorama/507701...  2019  \n",
       "1        Rialto  https://www.flickr.com/photos/noukorama/507701...  2019  \n",
       "2        Rialto  https://www.flickr.com/photos/noukorama/507700...  2019  \n",
       "3        Rialto  https://www.flickr.com/photos/mario_alpha/5077...  2018  \n",
       "4        Venice  https://www.flickr.com/photos/studiaphotos/507...  2017  "
      ]
     },
     "execution_count": 237,
     "metadata": {},
     "output_type": "execute_result"
    }
   ],
   "source": [
    "df.head()"
   ]
  },
  {
   "cell_type": "code",
   "execution_count": 219,
   "metadata": {},
   "outputs": [
    {
     "data": {
      "text/plain": [
       "array(['Rialto', 'Venice', nan, 'Dorsoduro', 'San Marco', 'Cannaregio',\n",
       "       'Sestière di San Polo', 'Piazzale Roma', 'Santa Croce', 'Castello',\n",
       "       'Giudecca', 'San Nicolò di Lido', 'San Lazzaro degli Armeni',\n",
       "       'Murano', 'Punta Sabbioni', 'Mazzorbo', 'San Giorgio Maggiore',\n",
       "       'Quartiere S. Elena', 'Quartiere San Giacomo', \"Sant'Erasmo\",\n",
       "       'Moranzani', 'Venice-Lido', 'Quartiere Campo di Marte',\n",
       "       'Città Giardino', \"Sant'Elena\", 'Fusina', 'Tessera', 'Mestre',\n",
       "       'San Giuliano - Venezia', 'Vignola Piccola', 'Malamocco',\n",
       "       'San Polo', 'San Croce', 'Isola Sacca Fisola',\n",
       "       'Isola della Guidella', 'Isola dis Giorgio', 'Lido di Venezia',\n",
       "       'Isola delle Tesse'], dtype=object)"
      ]
     },
     "execution_count": 219,
     "metadata": {},
     "output_type": "execute_result"
    }
   ],
   "source": [
    "df['neighbourhood'].unique()"
   ]
  },
  {
   "cell_type": "code",
   "execution_count": 220,
   "metadata": {},
   "outputs": [
    {
     "data": {
      "text/plain": [
       "count    22341.000000\n",
       "mean         0.003178\n",
       "std          0.056285\n",
       "min          0.000000\n",
       "25%          0.000000\n",
       "50%          0.000000\n",
       "75%          0.000000\n",
       "max          1.000000\n",
       "Name: people, dtype: float64"
      ]
     },
     "execution_count": 220,
     "metadata": {},
     "output_type": "execute_result"
    }
   ],
   "source": [
    "df['people'].describe()"
   ]
  },
  {
   "cell_type": "code",
   "execution_count": 221,
   "metadata": {
    "scrolled": false
   },
   "outputs": [
    {
     "data": {
      "text/plain": [
       "'https://www.flickr.com/photos/alessiacross/50247909213/'"
      ]
     },
     "execution_count": 221,
     "metadata": {},
     "output_type": "execute_result"
    }
   ],
   "source": [
    "df[df.people==1]['url'].iloc[0]"
   ]
  },
  {
   "cell_type": "code",
   "execution_count": 236,
   "metadata": {},
   "outputs": [],
   "source": [
    "df['date'] = df['taken'].apply(lambda x: int(x[:4]))"
   ]
  },
  {
   "cell_type": "code",
   "execution_count": 238,
   "metadata": {},
   "outputs": [
    {
     "data": {
      "text/plain": [
       "count    22341.000000\n",
       "mean      2014.188667\n",
       "std          4.431624\n",
       "min       1875.000000\n",
       "25%       2011.000000\n",
       "50%       2014.000000\n",
       "75%       2018.000000\n",
       "max       2020.000000\n",
       "Name: date, dtype: float64"
      ]
     },
     "execution_count": 238,
     "metadata": {},
     "output_type": "execute_result"
    }
   ],
   "source": [
    "df['date'].describe()"
   ]
  },
  {
   "cell_type": "code",
   "execution_count": 248,
   "metadata": {},
   "outputs": [
    {
     "data": {
      "text/plain": [
       "2720"
      ]
     },
     "execution_count": 248,
     "metadata": {},
     "output_type": "execute_result"
    }
   ],
   "source": [
    "len(df[df.date<2010])"
   ]
  },
  {
   "cell_type": "code",
   "execution_count": 251,
   "metadata": {},
   "outputs": [
    {
     "data": {
      "text/plain": [
       "array([nan, 'Bergamo', 'Perth, Western Australia', ..., 'Méru, France',\n",
       "       'Martellago  (Venezia), Italia',\n",
       "       'Seattle, WA (SEA), United States'], dtype=object)"
      ]
     },
     "execution_count": 251,
     "metadata": {},
     "output_type": "execute_result"
    }
   ],
   "source": [
    "df['owner_loc'].unique()"
   ]
  },
  {
   "cell_type": "code",
   "execution_count": 222,
   "metadata": {},
   "outputs": [
    {
     "data": {
      "text/plain": [
       "count    22341.000000\n",
       "mean        45.429423\n",
       "std          0.006294\n",
       "min         45.383501\n",
       "25%         45.426053\n",
       "50%         45.427875\n",
       "75%         45.433093\n",
       "max         45.505277\n",
       "Name: lat, dtype: float64"
      ]
     },
     "execution_count": 222,
     "metadata": {},
     "output_type": "execute_result"
    }
   ],
   "source": [
    "df['lat'].describe()"
   ]
  },
  {
   "cell_type": "code",
   "execution_count": 223,
   "metadata": {},
   "outputs": [
    {
     "data": {
      "text/plain": [
       "count    22341.000000\n",
       "mean        12.337221\n",
       "std          0.013858\n",
       "min         12.227775\n",
       "25%         12.327060\n",
       "50%         12.333152\n",
       "75%         12.342367\n",
       "max         12.416074\n",
       "Name: lon, dtype: float64"
      ]
     },
     "execution_count": 223,
     "metadata": {},
     "output_type": "execute_result"
    }
   ],
   "source": [
    "df['lon'].describe()"
   ]
  },
  {
   "cell_type": "code",
   "execution_count": 224,
   "metadata": {},
   "outputs": [
    {
     "data": {
      "text/plain": [
       "<matplotlib.collections.PathCollection at 0x7fae745ed8d0>"
      ]
     },
     "execution_count": 224,
     "metadata": {},
     "output_type": "execute_result"
    },
    {
     "data": {
      "image/png": "[encoded data removed]",
      "text/plain": [
       "<Figure size 432x288 with 1 Axes>"
      ]
     },
     "metadata": {
      "needs_background": "light"
     },
     "output_type": "display_data"
    }
   ],
   "source": [
    "import matplotlib.pyplot as plt\n",
    "plt.scatter(df['lat'],df['lon'])"
   ]
  },
  {
   "cell_type": "code",
   "execution_count": 245,
   "metadata": {},
   "outputs": [
    {
     "data": {
      "text/plain": [
       "(array([1.0000e+00, 4.0000e+00, 1.3760e+03, 1.5128e+04, 5.4040e+03,\n",
       "        3.6900e+02, 5.0000e+01, 1.0000e+00, 2.0000e+00, 6.0000e+00]),\n",
       " array([45.383501 , 45.3956786, 45.4078562, 45.4200338, 45.4322114,\n",
       "        45.444389 , 45.4565666, 45.4687442, 45.4809218, 45.4930994,\n",
       "        45.505277 ]),\n",
       " <BarContainer object of 10 artists>)"
      ]
     },
     "execution_count": 245,
     "metadata": {},
     "output_type": "execute_result"
    },
    {
     "data": {
      "image/png": "[encoded data removed]",
      "text/plain": [
       "<Figure size 432x288 with 1 Axes>"
      ]
     },
     "metadata": {
      "needs_background": "light"
     },
     "output_type": "display_data"
    }
   ],
   "source": [
    "plt.hist(df['lat'],log=True)"
   ]
  },
  {
   "cell_type": "code",
   "execution_count": 244,
   "metadata": {},
   "outputs": [
    {
     "data": {
      "text/plain": [
       "(array([1.0000e+00, 1.0000e+00, 2.0000e+00, 2.9000e+01, 1.6290e+03,\n",
       "        1.4551e+04, 4.0000e+03, 2.1170e+03, 8.0000e+00, 3.0000e+00]),\n",
       " array([12.227775 , 12.2466049, 12.2654348, 12.2842647, 12.3030946,\n",
       "        12.3219245, 12.3407544, 12.3595843, 12.3784142, 12.3972441,\n",
       "        12.416074 ]),\n",
       " <BarContainer object of 10 artists>)"
      ]
     },
     "execution_count": 244,
     "metadata": {},
     "output_type": "execute_result"
    },
    {
     "data": {
      "image/png": "[encoded data removed]",
      "text/plain": [
       "<Figure size 432x288 with 1 Axes>"
      ]
     },
     "metadata": {
      "needs_background": "light"
     },
     "output_type": "display_data"
    }
   ],
   "source": [
    "plt.hist(df['lon'],log=True)"
   ]
  },
  {
   "cell_type": "code",
   "execution_count": 246,
   "metadata": {},
   "outputs": [
    {
     "data": {
      "text/plain": [
       "(array([2.2147e+04, 1.2600e+02, 3.4000e+01, 1.9000e+01, 3.0000e+00,\n",
       "        7.0000e+00, 3.0000e+00, 0.0000e+00, 1.0000e+00, 1.0000e+00]),\n",
       " array([    0.,  6303., 12606., 18909., 25212., 31515., 37818., 44121.,\n",
       "        50424., 56727., 63030.]),\n",
       " <BarContainer object of 10 artists>)"
      ]
     },
     "execution_count": 246,
     "metadata": {},
     "output_type": "execute_result"
    },
    {
     "data": {
      "image/png": "[encoded data removed]",
      "text/plain": [
       "<Figure size 432x288 with 1 Axes>"
      ]
     },
     "metadata": {
      "needs_background": "light"
     },
     "output_type": "display_data"
    }
   ],
   "source": [
    "plt.hist(df['views'],log=True)"
   ]
  },
  {
   "cell_type": "code",
   "execution_count": 242,
   "metadata": {},
   "outputs": [
    {
     "data": {
      "text/plain": [
       "(array([1762., 1756., 1859., 1738., 1532., 2098., 1597., 1302., 1983.,\n",
       "        2490.]),\n",
       " array([2011. , 2011.9, 2012.8, 2013.7, 2014.6, 2015.5, 2016.4, 2017.3,\n",
       "        2018.2, 2019.1, 2020. ]),\n",
       " <BarContainer object of 10 artists>)"
      ]
     },
     "execution_count": 242,
     "metadata": {},
     "output_type": "execute_result"
    },
    {
     "data": {
      "image/png": "[encoded data removed]",
      "text/plain": [
       "<Figure size 432x288 with 1 Axes>"
      ]
     },
     "metadata": {
      "needs_background": "light"
     },
     "output_type": "display_data"
    }
   ],
   "source": [
    "plt.hist(df[df.date>2010]['date'])"
   ]
  },
  {
   "cell_type": "code",
   "execution_count": 243,
   "metadata": {},
   "outputs": [
    {
     "data": {
      "text/plain": [
       "(array([1.0000e+00, 0.0000e+00, 0.0000e+00, 0.0000e+00, 0.0000e+00,\n",
       "        3.0000e+00, 6.0000e+00, 3.3000e+01, 2.8500e+02, 2.2013e+04]),\n",
       " array([1875. , 1889.5, 1904. , 1918.5, 1933. , 1947.5, 1962. , 1976.5,\n",
       "        1991. , 2005.5, 2020. ]),\n",
       " <BarContainer object of 10 artists>)"
      ]
     },
     "execution_count": 243,
     "metadata": {},
     "output_type": "execute_result"
    },
    {
     "data": {
      "image/png": "[encoded data removed]",
      "text/plain": [
       "<Figure size 432x288 with 1 Axes>"
      ]
     },
     "metadata": {
      "needs_background": "light"
     },
     "output_type": "display_data"
    }
   ],
   "source": [
    "plt.hist(df['date'],log=True)"
   ]
  },
  {
   "cell_type": "code",
   "execution_count": null,
   "metadata": {},
   "outputs": [],
   "source": []
  }
 ],
 "metadata": {
  "kernelspec": {
   "display_name": "Python 3",
   "language": "python",
   "name": "python3"
  },
  "language_info": {
   "codemirror_mode": {
    "name": "ipython",
    "version": 3
   },
   "file_extension": ".py",
   "mimetype": "text/x-python",
   "name": "python",
   "nbconvert_exporter": "python",
   "pygments_lexer": "ipython3",
   "version": "3.7.4"
  }
 },
 "nbformat": 4,
 "nbformat_minor": 4
}
