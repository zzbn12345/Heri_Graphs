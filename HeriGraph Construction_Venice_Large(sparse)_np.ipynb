{
 "cells": [
  {
   "cell_type": "code",
   "execution_count": 1,
   "id": "bfce3ee2",
   "metadata": {},
   "outputs": [],
   "source": [
    "import json\n",
    "import pandas as pd\n",
    "import numpy as np\n",
    "from argparse import Namespace\n",
    "from collections import Counter\n",
    "import pickle\n",
    "import os\n",
    "import urllib\n",
    "import networkx as nx"
   ]
  },
  {
   "cell_type": "markdown",
   "id": "8b99f5b8",
   "metadata": {},
   "source": [
    "## Venezia-Large"
   ]
  },
  {
   "cell_type": "markdown",
   "id": "3df77c6f",
   "metadata": {},
   "source": [
    "### Importing Useful Data"
   ]
  },
  {
   "cell_type": "code",
   "execution_count": 2,
   "id": "f1cbf99a",
   "metadata": {},
   "outputs": [
    {
     "name": "stderr",
     "output_type": "stream",
     "text": [
      "/opt/miniconda3/lib/python3.7/site-packages/IPython/core/interactiveshell.py:3063: DtypeWarning: Columns (8) have mixed types.Specify dtype option on import or set low_memory=False.\n",
      "  interactivity=interactivity, compiler=compiler, result=result)\n"
     ]
    }
   ],
   "source": [
    "GEO_metadata = pd.read_csv('data_storage/images/GEO_metadata.csv', sep='\\t', index_col='Unnamed: 0')"
   ]
  },
  {
   "cell_type": "code",
   "execution_count": 3,
   "id": "930bdb69",
   "metadata": {},
   "outputs": [],
   "source": [
    "metadata = pd.read_csv('data_storage/images/metadata.csv', sep='\\t', index_col='Unnamed: 0')"
   ]
  },
  {
   "cell_type": "code",
   "execution_count": 4,
   "id": "87e1b763",
   "metadata": {},
   "outputs": [
    {
     "data": {
      "text/plain": [
       "Index(['y', 'x', 'street_count', 'pr', 'bc', 'dg', 'cl', 'highway', 'geometry',\n",
       "       'index', 'index.2', 'index.1', 'owner', 'owner_loc', 'title',\n",
       "       'description', 'comments', 'taken', 'views', 'people', 'tags', 'lat',\n",
       "       'lon', 'neighbourhood', 'url', 'candownload', 'local', 'tag_list',\n",
       "       'tag_len', 'NOT', 'year', 'time', 'week', 'unique_week', 'English',\n",
       "       'Italian', 'Other_Lang', 'num_sent', 'revised_text', 'text_data',\n",
       "       'text_len', 'GEO_node', 'posts_num', 'week_adjust', 'adjusted_week'],\n",
       "      dtype='object')"
      ]
     },
     "execution_count": 4,
     "metadata": {},
     "output_type": "execute_result"
    }
   ],
   "source": [
    "GEO_metadata.columns"
   ]
  },
  {
   "cell_type": "code",
   "execution_count": 5,
   "id": "6add845e",
   "metadata": {
    "scrolled": false
   },
   "outputs": [
    {
     "data": {
      "text/html": [
       "<div>\n",
       "<style scoped>\n",
       "    .dataframe tbody tr th:only-of-type {\n",
       "        vertical-align: middle;\n",
       "    }\n",
       "\n",
       "    .dataframe tbody tr th {\n",
       "        vertical-align: top;\n",
       "    }\n",
       "\n",
       "    .dataframe thead th {\n",
       "        text-align: right;\n",
       "    }\n",
       "</style>\n",
       "<table border=\"1\" class=\"dataframe\">\n",
       "  <thead>\n",
       "    <tr style=\"text-align: right;\">\n",
       "      <th></th>\n",
       "      <th>y</th>\n",
       "      <th>x</th>\n",
       "      <th>street_count</th>\n",
       "      <th>pr</th>\n",
       "      <th>bc</th>\n",
       "      <th>dg</th>\n",
       "      <th>cl</th>\n",
       "      <th>highway</th>\n",
       "      <th>geometry</th>\n",
       "      <th>index</th>\n",
       "      <th>...</th>\n",
       "      <th>Italian</th>\n",
       "      <th>Other_Lang</th>\n",
       "      <th>num_sent</th>\n",
       "      <th>revised_text</th>\n",
       "      <th>text_data</th>\n",
       "      <th>text_len</th>\n",
       "      <th>GEO_node</th>\n",
       "      <th>posts_num</th>\n",
       "      <th>week_adjust</th>\n",
       "      <th>adjusted_week</th>\n",
       "    </tr>\n",
       "  </thead>\n",
       "  <tbody>\n",
       "    <tr>\n",
       "      <th>0</th>\n",
       "      <td>45.435812</td>\n",
       "      <td>12.335472</td>\n",
       "      <td>1</td>\n",
       "      <td>0.000063</td>\n",
       "      <td>0.000000</td>\n",
       "      <td>0.000342</td>\n",
       "      <td>0.005654</td>\n",
       "      <td>NaN</td>\n",
       "      <td>POINT (12.3354722 45.4358123)</td>\n",
       "      <td>6</td>\n",
       "      <td>...</td>\n",
       "      <td>0.0</td>\n",
       "      <td>0.0</td>\n",
       "      <td>12.0</td>\n",
       "      <td>It has title of Venice - Minelli Palace Courty...</td>\n",
       "      <td>El palacio Contarini del Bovolo (también llama...</td>\n",
       "      <td>236.0</td>\n",
       "      <td>49973409</td>\n",
       "      <td>2</td>\n",
       "      <td>0</td>\n",
       "      <td>201012</td>\n",
       "    </tr>\n",
       "    <tr>\n",
       "      <th>1</th>\n",
       "      <td>45.435643</td>\n",
       "      <td>12.335290</td>\n",
       "      <td>3</td>\n",
       "      <td>0.000246</td>\n",
       "      <td>0.021225</td>\n",
       "      <td>0.001026</td>\n",
       "      <td>0.005649</td>\n",
       "      <td>NaN</td>\n",
       "      <td>POINT (12.3352903 45.4356434)</td>\n",
       "      <td>7</td>\n",
       "      <td>...</td>\n",
       "      <td>0.0</td>\n",
       "      <td>0.0</td>\n",
       "      <td>12.0</td>\n",
       "      <td>It has title of Venice - Minelli Palace. It ha...</td>\n",
       "      <td>El palacio Contarini del Bovolo (también llama...</td>\n",
       "      <td>234.0</td>\n",
       "      <td>49981281</td>\n",
       "      <td>2</td>\n",
       "      <td>0</td>\n",
       "      <td>201012</td>\n",
       "    </tr>\n",
       "    <tr>\n",
       "      <th>2</th>\n",
       "      <td>45.437798</td>\n",
       "      <td>12.336022</td>\n",
       "      <td>3</td>\n",
       "      <td>0.000126</td>\n",
       "      <td>0.000000</td>\n",
       "      <td>0.000684</td>\n",
       "      <td>0.005971</td>\n",
       "      <td>NaN</td>\n",
       "      <td>POINT (12.3360219 45.4377985)</td>\n",
       "      <td>10</td>\n",
       "      <td>...</td>\n",
       "      <td>0.0</td>\n",
       "      <td>0.0</td>\n",
       "      <td>6.0</td>\n",
       "      <td>It has tags of canalgrande, canal, bridge, pie...</td>\n",
       "      <td>Canal Grande on Venetsian pääliikenneväylä. Ku...</td>\n",
       "      <td>84.0</td>\n",
       "      <td>5128847037</td>\n",
       "      <td>26</td>\n",
       "      <td>0</td>\n",
       "      <td>202033</td>\n",
       "    </tr>\n",
       "    <tr>\n",
       "      <th>3</th>\n",
       "      <td>45.437500</td>\n",
       "      <td>12.334590</td>\n",
       "      <td>3</td>\n",
       "      <td>0.000245</td>\n",
       "      <td>0.001504</td>\n",
       "      <td>0.001026</td>\n",
       "      <td>0.005941</td>\n",
       "      <td>NaN</td>\n",
       "      <td>POINT (12.3345897 45.4374995)</td>\n",
       "      <td>11</td>\n",
       "      <td>...</td>\n",
       "      <td>0.0</td>\n",
       "      <td>0.0</td>\n",
       "      <td>4.0</td>\n",
       "      <td>It has tags of pier, italy, venice, gondola, c...</td>\n",
       "      <td>Corona-rajoitusten aikaan oli hyvä tilaisuus k...</td>\n",
       "      <td>80.0</td>\n",
       "      <td>4370729275</td>\n",
       "      <td>42</td>\n",
       "      <td>0</td>\n",
       "      <td>202033</td>\n",
       "    </tr>\n",
       "    <tr>\n",
       "      <th>4</th>\n",
       "      <td>45.437222</td>\n",
       "      <td>12.333909</td>\n",
       "      <td>3</td>\n",
       "      <td>0.000262</td>\n",
       "      <td>0.001188</td>\n",
       "      <td>0.001026</td>\n",
       "      <td>0.005937</td>\n",
       "      <td>NaN</td>\n",
       "      <td>POINT (12.333909 45.4372222)</td>\n",
       "      <td>12</td>\n",
       "      <td>...</td>\n",
       "      <td>0.0</td>\n",
       "      <td>0.0</td>\n",
       "      <td>4.0</td>\n",
       "      <td>It has tags of commercialbuildings, italy, ven...</td>\n",
       "      <td>Corona-rajoitusten aikaan oli hyvä tilaisuus k...</td>\n",
       "      <td>76.0</td>\n",
       "      <td>1840378053</td>\n",
       "      <td>48</td>\n",
       "      <td>0</td>\n",
       "      <td>202033</td>\n",
       "    </tr>\n",
       "    <tr>\n",
       "      <th>...</th>\n",
       "      <td>...</td>\n",
       "      <td>...</td>\n",
       "      <td>...</td>\n",
       "      <td>...</td>\n",
       "      <td>...</td>\n",
       "      <td>...</td>\n",
       "      <td>...</td>\n",
       "      <td>...</td>\n",
       "      <td>...</td>\n",
       "      <td>...</td>\n",
       "      <td>...</td>\n",
       "      <td>...</td>\n",
       "      <td>...</td>\n",
       "      <td>...</td>\n",
       "      <td>...</td>\n",
       "      <td>...</td>\n",
       "      <td>...</td>\n",
       "      <td>...</td>\n",
       "      <td>...</td>\n",
       "      <td>...</td>\n",
       "      <td>...</td>\n",
       "    </tr>\n",
       "    <tr>\n",
       "      <th>80958</th>\n",
       "      <td>45.444009</td>\n",
       "      <td>12.332236</td>\n",
       "      <td>1</td>\n",
       "      <td>0.000046</td>\n",
       "      <td>0.000000</td>\n",
       "      <td>0.000342</td>\n",
       "      <td>0.005174</td>\n",
       "      <td>NaN</td>\n",
       "      <td>POINT (12.3322356 45.444009)</td>\n",
       "      <td>116670</td>\n",
       "      <td>...</td>\n",
       "      <td>0.0</td>\n",
       "      <td>0.0</td>\n",
       "      <td>2.0</td>\n",
       "      <td>It has title of Here the packages are delivere...</td>\n",
       "      <td>&lt;a href=\"http://www.brusatotrasporti.it/index....</td>\n",
       "      <td>35.0</td>\n",
       "      <td>5244439847</td>\n",
       "      <td>16</td>\n",
       "      <td>0</td>\n",
       "      <td>201527</td>\n",
       "    </tr>\n",
       "    <tr>\n",
       "      <th>80959</th>\n",
       "      <td>45.444009</td>\n",
       "      <td>12.332236</td>\n",
       "      <td>1</td>\n",
       "      <td>0.000046</td>\n",
       "      <td>0.000000</td>\n",
       "      <td>0.000342</td>\n",
       "      <td>0.005174</td>\n",
       "      <td>NaN</td>\n",
       "      <td>POINT (12.3322356 45.444009)</td>\n",
       "      <td>116671</td>\n",
       "      <td>...</td>\n",
       "      <td>0.0</td>\n",
       "      <td>0.0</td>\n",
       "      <td>2.0</td>\n",
       "      <td>It has title of Door No.342. It has tags of Ve...</td>\n",
       "      <td>. It has title of Tür No.342. It has tags of v...</td>\n",
       "      <td>25.0</td>\n",
       "      <td>5244439847</td>\n",
       "      <td>16</td>\n",
       "      <td>0</td>\n",
       "      <td>201527</td>\n",
       "    </tr>\n",
       "    <tr>\n",
       "      <th>80960</th>\n",
       "      <td>45.444009</td>\n",
       "      <td>12.332236</td>\n",
       "      <td>1</td>\n",
       "      <td>0.000046</td>\n",
       "      <td>0.000000</td>\n",
       "      <td>0.000342</td>\n",
       "      <td>0.005174</td>\n",
       "      <td>NaN</td>\n",
       "      <td>POINT (12.3322356 45.444009)</td>\n",
       "      <td>116672</td>\n",
       "      <td>...</td>\n",
       "      <td>0.0</td>\n",
       "      <td>0.0</td>\n",
       "      <td>2.0</td>\n",
       "      <td>It has title of Ave Maria. It has tags of Vene...</td>\n",
       "      <td>. It has title of Ave Maria. It has tags of ve...</td>\n",
       "      <td>26.0</td>\n",
       "      <td>5244439847</td>\n",
       "      <td>16</td>\n",
       "      <td>0</td>\n",
       "      <td>201527</td>\n",
       "    </tr>\n",
       "    <tr>\n",
       "      <th>80961</th>\n",
       "      <td>45.444009</td>\n",
       "      <td>12.332236</td>\n",
       "      <td>1</td>\n",
       "      <td>0.000046</td>\n",
       "      <td>0.000000</td>\n",
       "      <td>0.000342</td>\n",
       "      <td>0.005174</td>\n",
       "      <td>NaN</td>\n",
       "      <td>POINT (12.3322356 45.444009)</td>\n",
       "      <td>116673</td>\n",
       "      <td>...</td>\n",
       "      <td>0.0</td>\n",
       "      <td>0.0</td>\n",
       "      <td>2.0</td>\n",
       "      <td>It has title of Kirchenportal der Church of Sa...</td>\n",
       "      <td>. It has title of Kirchenportal der Chiesa di ...</td>\n",
       "      <td>33.0</td>\n",
       "      <td>5244439847</td>\n",
       "      <td>16</td>\n",
       "      <td>0</td>\n",
       "      <td>201527</td>\n",
       "    </tr>\n",
       "    <tr>\n",
       "      <th>80962</th>\n",
       "      <td>45.444009</td>\n",
       "      <td>12.332236</td>\n",
       "      <td>1</td>\n",
       "      <td>0.000046</td>\n",
       "      <td>0.000000</td>\n",
       "      <td>0.000342</td>\n",
       "      <td>0.005174</td>\n",
       "      <td>NaN</td>\n",
       "      <td>POINT (12.3322356 45.444009)</td>\n",
       "      <td>116674</td>\n",
       "      <td>...</td>\n",
       "      <td>0.0</td>\n",
       "      <td>0.0</td>\n",
       "      <td>2.0</td>\n",
       "      <td>It has title of Door in the Jewish district of...</td>\n",
       "      <td>&lt;a href=\"http://www.venediginformationen.eu/ue...</td>\n",
       "      <td>28.0</td>\n",
       "      <td>5244439847</td>\n",
       "      <td>16</td>\n",
       "      <td>0</td>\n",
       "      <td>201527</td>\n",
       "    </tr>\n",
       "  </tbody>\n",
       "</table>\n",
       "<p>80963 rows × 45 columns</p>\n",
       "</div>"
      ],
      "text/plain": [
       "               y          x  street_count        pr        bc        dg  \\\n",
       "0      45.435812  12.335472             1  0.000063  0.000000  0.000342   \n",
       "1      45.435643  12.335290             3  0.000246  0.021225  0.001026   \n",
       "2      45.437798  12.336022             3  0.000126  0.000000  0.000684   \n",
       "3      45.437500  12.334590             3  0.000245  0.001504  0.001026   \n",
       "4      45.437222  12.333909             3  0.000262  0.001188  0.001026   \n",
       "...          ...        ...           ...       ...       ...       ...   \n",
       "80958  45.444009  12.332236             1  0.000046  0.000000  0.000342   \n",
       "80959  45.444009  12.332236             1  0.000046  0.000000  0.000342   \n",
       "80960  45.444009  12.332236             1  0.000046  0.000000  0.000342   \n",
       "80961  45.444009  12.332236             1  0.000046  0.000000  0.000342   \n",
       "80962  45.444009  12.332236             1  0.000046  0.000000  0.000342   \n",
       "\n",
       "             cl highway                       geometry   index  ...  Italian  \\\n",
       "0      0.005654     NaN  POINT (12.3354722 45.4358123)       6  ...      0.0   \n",
       "1      0.005649     NaN  POINT (12.3352903 45.4356434)       7  ...      0.0   \n",
       "2      0.005971     NaN  POINT (12.3360219 45.4377985)      10  ...      0.0   \n",
       "3      0.005941     NaN  POINT (12.3345897 45.4374995)      11  ...      0.0   \n",
       "4      0.005937     NaN   POINT (12.333909 45.4372222)      12  ...      0.0   \n",
       "...         ...     ...                            ...     ...  ...      ...   \n",
       "80958  0.005174     NaN   POINT (12.3322356 45.444009)  116670  ...      0.0   \n",
       "80959  0.005174     NaN   POINT (12.3322356 45.444009)  116671  ...      0.0   \n",
       "80960  0.005174     NaN   POINT (12.3322356 45.444009)  116672  ...      0.0   \n",
       "80961  0.005174     NaN   POINT (12.3322356 45.444009)  116673  ...      0.0   \n",
       "80962  0.005174     NaN   POINT (12.3322356 45.444009)  116674  ...      0.0   \n",
       "\n",
       "       Other_Lang num_sent                                       revised_text  \\\n",
       "0             0.0     12.0  It has title of Venice - Minelli Palace Courty...   \n",
       "1             0.0     12.0  It has title of Venice - Minelli Palace. It ha...   \n",
       "2             0.0      6.0  It has tags of canalgrande, canal, bridge, pie...   \n",
       "3             0.0      4.0  It has tags of pier, italy, venice, gondola, c...   \n",
       "4             0.0      4.0  It has tags of commercialbuildings, italy, ven...   \n",
       "...           ...      ...                                                ...   \n",
       "80958         0.0      2.0  It has title of Here the packages are delivere...   \n",
       "80959         0.0      2.0  It has title of Door No.342. It has tags of Ve...   \n",
       "80960         0.0      2.0  It has title of Ave Maria. It has tags of Vene...   \n",
       "80961         0.0      2.0  It has title of Kirchenportal der Church of Sa...   \n",
       "80962         0.0      2.0  It has title of Door in the Jewish district of...   \n",
       "\n",
       "                                               text_data text_len    GEO_node  \\\n",
       "0      El palacio Contarini del Bovolo (también llama...    236.0    49973409   \n",
       "1      El palacio Contarini del Bovolo (también llama...    234.0    49981281   \n",
       "2      Canal Grande on Venetsian pääliikenneväylä. Ku...     84.0  5128847037   \n",
       "3      Corona-rajoitusten aikaan oli hyvä tilaisuus k...     80.0  4370729275   \n",
       "4      Corona-rajoitusten aikaan oli hyvä tilaisuus k...     76.0  1840378053   \n",
       "...                                                  ...      ...         ...   \n",
       "80958  <a href=\"http://www.brusatotrasporti.it/index....     35.0  5244439847   \n",
       "80959  . It has title of Tür No.342. It has tags of v...     25.0  5244439847   \n",
       "80960  . It has title of Ave Maria. It has tags of ve...     26.0  5244439847   \n",
       "80961  . It has title of Kirchenportal der Chiesa di ...     33.0  5244439847   \n",
       "80962  <a href=\"http://www.venediginformationen.eu/ue...     28.0  5244439847   \n",
       "\n",
       "      posts_num  week_adjust  adjusted_week  \n",
       "0             2            0         201012  \n",
       "1             2            0         201012  \n",
       "2            26            0         202033  \n",
       "3            42            0         202033  \n",
       "4            48            0         202033  \n",
       "...         ...          ...            ...  \n",
       "80958        16            0         201527  \n",
       "80959        16            0         201527  \n",
       "80960        16            0         201527  \n",
       "80961        16            0         201527  \n",
       "80962        16            0         201527  \n",
       "\n",
       "[80963 rows x 45 columns]"
      ]
     },
     "execution_count": 5,
     "metadata": {},
     "output_type": "execute_result"
    }
   ],
   "source": [
    "GEO_metadata"
   ]
  },
  {
   "cell_type": "code",
   "execution_count": 6,
   "id": "5991badc",
   "metadata": {},
   "outputs": [
    {
     "data": {
      "text/html": [
       "<div>\n",
       "<style scoped>\n",
       "    .dataframe tbody tr th:only-of-type {\n",
       "        vertical-align: middle;\n",
       "    }\n",
       "\n",
       "    .dataframe tbody tr th {\n",
       "        vertical-align: top;\n",
       "    }\n",
       "\n",
       "    .dataframe thead th {\n",
       "        text-align: right;\n",
       "    }\n",
       "</style>\n",
       "<table border=\"1\" class=\"dataframe\">\n",
       "  <thead>\n",
       "    <tr style=\"text-align: right;\">\n",
       "      <th></th>\n",
       "      <th>y</th>\n",
       "      <th>x</th>\n",
       "      <th>street_count</th>\n",
       "      <th>pr</th>\n",
       "      <th>bc</th>\n",
       "      <th>dg</th>\n",
       "      <th>cl</th>\n",
       "      <th>highway</th>\n",
       "      <th>geometry</th>\n",
       "    </tr>\n",
       "    <tr>\n",
       "      <th>osmid</th>\n",
       "      <th></th>\n",
       "      <th></th>\n",
       "      <th></th>\n",
       "      <th></th>\n",
       "      <th></th>\n",
       "      <th></th>\n",
       "      <th></th>\n",
       "      <th></th>\n",
       "      <th></th>\n",
       "    </tr>\n",
       "  </thead>\n",
       "  <tbody>\n",
       "    <tr>\n",
       "      <th>27178184</th>\n",
       "      <td>45.438197</td>\n",
       "      <td>12.335686</td>\n",
       "      <td>4</td>\n",
       "      <td>0.000197</td>\n",
       "      <td>0.208517</td>\n",
       "      <td>0.001368</td>\n",
       "      <td>0.005999</td>\n",
       "      <td>NaN</td>\n",
       "      <td>POINT (12.3356863 45.4381974)</td>\n",
       "    </tr>\n",
       "    <tr>\n",
       "      <th>764403528</th>\n",
       "      <td>45.438128</td>\n",
       "      <td>12.335605</td>\n",
       "      <td>3</td>\n",
       "      <td>0.000175</td>\n",
       "      <td>0.025767</td>\n",
       "      <td>0.001026</td>\n",
       "      <td>0.005985</td>\n",
       "      <td>NaN</td>\n",
       "      <td>POINT (12.3356054 45.4381284)</td>\n",
       "    </tr>\n",
       "    <tr>\n",
       "      <th>1675825096</th>\n",
       "      <td>45.438233</td>\n",
       "      <td>12.335728</td>\n",
       "      <td>3</td>\n",
       "      <td>0.000186</td>\n",
       "      <td>0.048636</td>\n",
       "      <td>0.001026</td>\n",
       "      <td>0.005990</td>\n",
       "      <td>NaN</td>\n",
       "      <td>POINT (12.3357281 45.4382329)</td>\n",
       "    </tr>\n",
       "    <tr>\n",
       "      <th>8670969688</th>\n",
       "      <td>45.438255</td>\n",
       "      <td>12.335601</td>\n",
       "      <td>3</td>\n",
       "      <td>0.000111</td>\n",
       "      <td>0.207535</td>\n",
       "      <td>0.001026</td>\n",
       "      <td>0.005998</td>\n",
       "      <td>NaN</td>\n",
       "      <td>POINT (12.3356013 45.4382549)</td>\n",
       "    </tr>\n",
       "    <tr>\n",
       "      <th>5395065019</th>\n",
       "      <td>45.438053</td>\n",
       "      <td>12.335932</td>\n",
       "      <td>4</td>\n",
       "      <td>0.000236</td>\n",
       "      <td>0.196443</td>\n",
       "      <td>0.001368</td>\n",
       "      <td>0.006001</td>\n",
       "      <td>NaN</td>\n",
       "      <td>POINT (12.3359319 45.4380532)</td>\n",
       "    </tr>\n",
       "    <tr>\n",
       "      <th>...</th>\n",
       "      <td>...</td>\n",
       "      <td>...</td>\n",
       "      <td>...</td>\n",
       "      <td>...</td>\n",
       "      <td>...</td>\n",
       "      <td>...</td>\n",
       "      <td>...</td>\n",
       "      <td>...</td>\n",
       "      <td>...</td>\n",
       "    </tr>\n",
       "    <tr>\n",
       "      <th>9196476006</th>\n",
       "      <td>45.441902</td>\n",
       "      <td>12.307559</td>\n",
       "      <td>3</td>\n",
       "      <td>0.000119</td>\n",
       "      <td>0.000691</td>\n",
       "      <td>0.001026</td>\n",
       "      <td>0.004071</td>\n",
       "      <td>NaN</td>\n",
       "      <td>POINT (12.3075592 45.4419018)</td>\n",
       "    </tr>\n",
       "    <tr>\n",
       "      <th>9196521176</th>\n",
       "      <td>45.438670</td>\n",
       "      <td>12.326683</td>\n",
       "      <td>1</td>\n",
       "      <td>0.000077</td>\n",
       "      <td>0.000000</td>\n",
       "      <td>0.000342</td>\n",
       "      <td>0.005886</td>\n",
       "      <td>NaN</td>\n",
       "      <td>POINT (12.326683 45.4386701)</td>\n",
       "    </tr>\n",
       "    <tr>\n",
       "      <th>9221655954</th>\n",
       "      <td>45.467211</td>\n",
       "      <td>12.279144</td>\n",
       "      <td>1</td>\n",
       "      <td>0.000030</td>\n",
       "      <td>0.000000</td>\n",
       "      <td>0.000342</td>\n",
       "      <td>0.001992</td>\n",
       "      <td>NaN</td>\n",
       "      <td>POINT (12.2791441 45.467211)</td>\n",
       "    </tr>\n",
       "    <tr>\n",
       "      <th>9379177140</th>\n",
       "      <td>45.432392</td>\n",
       "      <td>12.331032</td>\n",
       "      <td>1</td>\n",
       "      <td>0.000073</td>\n",
       "      <td>0.000000</td>\n",
       "      <td>0.000342</td>\n",
       "      <td>0.005220</td>\n",
       "      <td>NaN</td>\n",
       "      <td>POINT (12.3310316 45.4323915)</td>\n",
       "    </tr>\n",
       "    <tr>\n",
       "      <th>9439079311</th>\n",
       "      <td>45.445912</td>\n",
       "      <td>12.317267</td>\n",
       "      <td>1</td>\n",
       "      <td>0.000130</td>\n",
       "      <td>0.000000</td>\n",
       "      <td>0.000342</td>\n",
       "      <td>0.004516</td>\n",
       "      <td>NaN</td>\n",
       "      <td>POINT (12.3172675 45.4459124)</td>\n",
       "    </tr>\n",
       "  </tbody>\n",
       "</table>\n",
       "<p>5848 rows × 9 columns</p>\n",
       "</div>"
      ],
      "text/plain": [
       "                    y          x  street_count        pr        bc        dg  \\\n",
       "osmid                                                                          \n",
       "27178184    45.438197  12.335686             4  0.000197  0.208517  0.001368   \n",
       "764403528   45.438128  12.335605             3  0.000175  0.025767  0.001026   \n",
       "1675825096  45.438233  12.335728             3  0.000186  0.048636  0.001026   \n",
       "8670969688  45.438255  12.335601             3  0.000111  0.207535  0.001026   \n",
       "5395065019  45.438053  12.335932             4  0.000236  0.196443  0.001368   \n",
       "...               ...        ...           ...       ...       ...       ...   \n",
       "9196476006  45.441902  12.307559             3  0.000119  0.000691  0.001026   \n",
       "9196521176  45.438670  12.326683             1  0.000077  0.000000  0.000342   \n",
       "9221655954  45.467211  12.279144             1  0.000030  0.000000  0.000342   \n",
       "9379177140  45.432392  12.331032             1  0.000073  0.000000  0.000342   \n",
       "9439079311  45.445912  12.317267             1  0.000130  0.000000  0.000342   \n",
       "\n",
       "                  cl highway                       geometry  \n",
       "osmid                                                        \n",
       "27178184    0.005999     NaN  POINT (12.3356863 45.4381974)  \n",
       "764403528   0.005985     NaN  POINT (12.3356054 45.4381284)  \n",
       "1675825096  0.005990     NaN  POINT (12.3357281 45.4382329)  \n",
       "8670969688  0.005998     NaN  POINT (12.3356013 45.4382549)  \n",
       "5395065019  0.006001     NaN  POINT (12.3359319 45.4380532)  \n",
       "...              ...     ...                            ...  \n",
       "9196476006  0.004071     NaN  POINT (12.3075592 45.4419018)  \n",
       "9196521176  0.005886     NaN   POINT (12.326683 45.4386701)  \n",
       "9221655954  0.001992     NaN   POINT (12.2791441 45.467211)  \n",
       "9379177140  0.005220     NaN  POINT (12.3310316 45.4323915)  \n",
       "9439079311  0.004516     NaN  POINT (12.3172675 45.4459124)  \n",
       "\n",
       "[5848 rows x 9 columns]"
      ]
     },
     "execution_count": 6,
     "metadata": {},
     "output_type": "execute_result"
    }
   ],
   "source": [
    "GEO_nodes = pd.read_csv('data_storage/images/GEO_nodes.csv', sep='\\t').set_index('osmid')\n",
    "GEO_nodes"
   ]
  },
  {
   "cell_type": "code",
   "execution_count": 7,
   "id": "f4dce379",
   "metadata": {},
   "outputs": [],
   "source": [
    "def check_last_week(line):\n",
    "    if line['week']>50:\n",
    "        if line['taken'][5:7] == '01':\n",
    "            return int(-100)\n",
    "    return int(0)"
   ]
  },
  {
   "cell_type": "code",
   "execution_count": 8,
   "id": "eaae996d",
   "metadata": {},
   "outputs": [],
   "source": [
    "GEO_metadata['week_adjust'] = GEO_metadata.apply(lambda x: check_last_week(x),axis=1)"
   ]
  },
  {
   "cell_type": "code",
   "execution_count": 9,
   "id": "578096fe",
   "metadata": {},
   "outputs": [],
   "source": [
    "metadata['week_adjust'] = metadata.apply(lambda x: check_last_week(x),axis=1)"
   ]
  },
  {
   "cell_type": "code",
   "execution_count": 10,
   "id": "8796eaab",
   "metadata": {},
   "outputs": [],
   "source": [
    "GEO_metadata['adjusted_week'] = (GEO_metadata['unique_week'].astype(int) + GEO_metadata['week_adjust']).astype(str)"
   ]
  },
  {
   "cell_type": "code",
   "execution_count": 11,
   "id": "b3e725ea",
   "metadata": {},
   "outputs": [],
   "source": [
    "metadata['adjusted_week'] = (metadata['unique_week'].astype(int) + metadata['week_adjust']).astype(str)"
   ]
  },
  {
   "cell_type": "code",
   "execution_count": 12,
   "id": "a037d0d2",
   "metadata": {
    "scrolled": false
   },
   "outputs": [
    {
     "data": {
      "text/html": [
       "<div>\n",
       "<style scoped>\n",
       "    .dataframe tbody tr th:only-of-type {\n",
       "        vertical-align: middle;\n",
       "    }\n",
       "\n",
       "    .dataframe tbody tr th {\n",
       "        vertical-align: top;\n",
       "    }\n",
       "\n",
       "    .dataframe thead th {\n",
       "        text-align: right;\n",
       "    }\n",
       "</style>\n",
       "<table border=\"1\" class=\"dataframe\">\n",
       "  <thead>\n",
       "    <tr style=\"text-align: right;\">\n",
       "      <th></th>\n",
       "      <th>taken</th>\n",
       "      <th>unique_week</th>\n",
       "      <th>adjusted_week</th>\n",
       "      <th>week_adjust</th>\n",
       "    </tr>\n",
       "  </thead>\n",
       "  <tbody>\n",
       "    <tr>\n",
       "      <th>28</th>\n",
       "      <td>2020-12-22 11:15:23</td>\n",
       "      <td>202052</td>\n",
       "      <td>202052</td>\n",
       "      <td>0</td>\n",
       "    </tr>\n",
       "    <tr>\n",
       "      <th>29</th>\n",
       "      <td>2020-12-23 18:13:12</td>\n",
       "      <td>202052</td>\n",
       "      <td>202052</td>\n",
       "      <td>0</td>\n",
       "    </tr>\n",
       "    <tr>\n",
       "      <th>30</th>\n",
       "      <td>2020-12-23 17:33:12</td>\n",
       "      <td>202052</td>\n",
       "      <td>202052</td>\n",
       "      <td>0</td>\n",
       "    </tr>\n",
       "    <tr>\n",
       "      <th>31</th>\n",
       "      <td>2020-12-23 17:21:30</td>\n",
       "      <td>202052</td>\n",
       "      <td>202052</td>\n",
       "      <td>0</td>\n",
       "    </tr>\n",
       "    <tr>\n",
       "      <th>1132</th>\n",
       "      <td>2017-01-01 00:00:00</td>\n",
       "      <td>201752</td>\n",
       "      <td>201652</td>\n",
       "      <td>-100</td>\n",
       "    </tr>\n",
       "    <tr>\n",
       "      <th>...</th>\n",
       "      <td>...</td>\n",
       "      <td>...</td>\n",
       "      <td>...</td>\n",
       "      <td>...</td>\n",
       "    </tr>\n",
       "    <tr>\n",
       "      <th>116651</th>\n",
       "      <td>2015-12-23 13:40:50</td>\n",
       "      <td>201552</td>\n",
       "      <td>201552</td>\n",
       "      <td>0</td>\n",
       "    </tr>\n",
       "    <tr>\n",
       "      <th>116652</th>\n",
       "      <td>2015-12-24 11:45:42</td>\n",
       "      <td>201552</td>\n",
       "      <td>201552</td>\n",
       "      <td>0</td>\n",
       "    </tr>\n",
       "    <tr>\n",
       "      <th>116653</th>\n",
       "      <td>2015-12-24 11:47:39</td>\n",
       "      <td>201552</td>\n",
       "      <td>201552</td>\n",
       "      <td>0</td>\n",
       "    </tr>\n",
       "    <tr>\n",
       "      <th>116654</th>\n",
       "      <td>2015-12-24 11:46:53</td>\n",
       "      <td>201552</td>\n",
       "      <td>201552</td>\n",
       "      <td>0</td>\n",
       "    </tr>\n",
       "    <tr>\n",
       "      <th>116658</th>\n",
       "      <td>2015-12-14 09:23:06</td>\n",
       "      <td>201551</td>\n",
       "      <td>201551</td>\n",
       "      <td>0</td>\n",
       "    </tr>\n",
       "  </tbody>\n",
       "</table>\n",
       "<p>1152 rows × 4 columns</p>\n",
       "</div>"
      ],
      "text/plain": [
       "                      taken  unique_week adjusted_week  week_adjust\n",
       "28      2020-12-22 11:15:23       202052        202052            0\n",
       "29      2020-12-23 18:13:12       202052        202052            0\n",
       "30      2020-12-23 17:33:12       202052        202052            0\n",
       "31      2020-12-23 17:21:30       202052        202052            0\n",
       "1132    2017-01-01 00:00:00       201752        201652         -100\n",
       "...                     ...          ...           ...          ...\n",
       "116651  2015-12-23 13:40:50       201552        201552            0\n",
       "116652  2015-12-24 11:45:42       201552        201552            0\n",
       "116653  2015-12-24 11:47:39       201552        201552            0\n",
       "116654  2015-12-24 11:46:53       201552        201552            0\n",
       "116658  2015-12-14 09:23:06       201551        201551            0\n",
       "\n",
       "[1152 rows x 4 columns]"
      ]
     },
     "execution_count": 12,
     "metadata": {},
     "output_type": "execute_result"
    }
   ],
   "source": [
    "metadata[metadata.week>50][['taken','unique_week','adjusted_week','week_adjust']]"
   ]
  },
  {
   "cell_type": "code",
   "execution_count": 13,
   "id": "d2eefcf4",
   "metadata": {},
   "outputs": [],
   "source": [
    "GEO_metadata.to_csv('data_storage/images/GEO_metadata.csv', sep='\\t')"
   ]
  },
  {
   "cell_type": "code",
   "execution_count": 14,
   "id": "a2c41077",
   "metadata": {},
   "outputs": [],
   "source": [
    "metadata.to_csv('data_storage/images/metadata.csv', sep='\\t')"
   ]
  },
  {
   "cell_type": "code",
   "execution_count": 7,
   "id": "3fad5f39",
   "metadata": {},
   "outputs": [],
   "source": [
    "social_links = pd.read_csv('data_storage/images/social_links.csv', sep='\\t').rename(columns={'Unnamed: 0': 'User0', \n",
    "                                                                                              'Unnamed: 1': 'User1'})"
   ]
  },
  {
   "cell_type": "code",
   "execution_count": 8,
   "id": "32b50a89",
   "metadata": {},
   "outputs": [
    {
     "data": {
      "text/html": [
       "<div>\n",
       "<style scoped>\n",
       "    .dataframe tbody tr th:only-of-type {\n",
       "        vertical-align: middle;\n",
       "    }\n",
       "\n",
       "    .dataframe tbody tr th {\n",
       "        vertical-align: top;\n",
       "    }\n",
       "\n",
       "    .dataframe thead th {\n",
       "        text-align: right;\n",
       "    }\n",
       "</style>\n",
       "<table border=\"1\" class=\"dataframe\">\n",
       "  <thead>\n",
       "    <tr style=\"text-align: right;\">\n",
       "      <th></th>\n",
       "      <th>User0</th>\n",
       "      <th>User1</th>\n",
       "      <th>self</th>\n",
       "      <th>friend</th>\n",
       "      <th>interest</th>\n",
       "      <th>mutual</th>\n",
       "    </tr>\n",
       "  </thead>\n",
       "  <tbody>\n",
       "    <tr>\n",
       "      <th>0</th>\n",
       "      <td>148125504@N04</td>\n",
       "      <td>148125504@N04</td>\n",
       "      <td>1</td>\n",
       "      <td>1</td>\n",
       "      <td>1.000000</td>\n",
       "      <td>True</td>\n",
       "    </tr>\n",
       "    <tr>\n",
       "      <th>1</th>\n",
       "      <td>148125504@N04</td>\n",
       "      <td>32980384@N05</td>\n",
       "      <td>0</td>\n",
       "      <td>False</td>\n",
       "      <td>0.004769</td>\n",
       "      <td>False</td>\n",
       "    </tr>\n",
       "    <tr>\n",
       "      <th>2</th>\n",
       "      <td>148125504@N04</td>\n",
       "      <td>96038677@N06</td>\n",
       "      <td>0</td>\n",
       "      <td>False</td>\n",
       "      <td>0.000000</td>\n",
       "      <td>False</td>\n",
       "    </tr>\n",
       "    <tr>\n",
       "      <th>3</th>\n",
       "      <td>148125504@N04</td>\n",
       "      <td>88380809@N07</td>\n",
       "      <td>0</td>\n",
       "      <td>False</td>\n",
       "      <td>0.012162</td>\n",
       "      <td>False</td>\n",
       "    </tr>\n",
       "    <tr>\n",
       "      <th>4</th>\n",
       "      <td>148125504@N04</td>\n",
       "      <td>138486769@N02</td>\n",
       "      <td>0</td>\n",
       "      <td>False</td>\n",
       "      <td>0.033613</td>\n",
       "      <td>False</td>\n",
       "    </tr>\n",
       "    <tr>\n",
       "      <th>...</th>\n",
       "      <td>...</td>\n",
       "      <td>...</td>\n",
       "      <td>...</td>\n",
       "      <td>...</td>\n",
       "      <td>...</td>\n",
       "      <td>...</td>\n",
       "    </tr>\n",
       "    <tr>\n",
       "      <th>36929924</th>\n",
       "      <td>48150664@N07</td>\n",
       "      <td>46856873@N05</td>\n",
       "      <td>0</td>\n",
       "      <td>False</td>\n",
       "      <td>0.087719</td>\n",
       "      <td>False</td>\n",
       "    </tr>\n",
       "    <tr>\n",
       "      <th>36929925</th>\n",
       "      <td>48150664@N07</td>\n",
       "      <td>142199786@N05</td>\n",
       "      <td>0</td>\n",
       "      <td>False</td>\n",
       "      <td>0.000000</td>\n",
       "      <td>False</td>\n",
       "    </tr>\n",
       "    <tr>\n",
       "      <th>36929926</th>\n",
       "      <td>48150664@N07</td>\n",
       "      <td>132571827@N06</td>\n",
       "      <td>0</td>\n",
       "      <td>False</td>\n",
       "      <td>0.047859</td>\n",
       "      <td>False</td>\n",
       "    </tr>\n",
       "    <tr>\n",
       "      <th>36929927</th>\n",
       "      <td>48150664@N07</td>\n",
       "      <td>29127542@N04</td>\n",
       "      <td>0</td>\n",
       "      <td>False</td>\n",
       "      <td>0.000000</td>\n",
       "      <td>False</td>\n",
       "    </tr>\n",
       "    <tr>\n",
       "      <th>36929928</th>\n",
       "      <td>48150664@N07</td>\n",
       "      <td>48150664@N07</td>\n",
       "      <td>1</td>\n",
       "      <td>1</td>\n",
       "      <td>1.000000</td>\n",
       "      <td>True</td>\n",
       "    </tr>\n",
       "  </tbody>\n",
       "</table>\n",
       "<p>36929929 rows × 6 columns</p>\n",
       "</div>"
      ],
      "text/plain": [
       "                  User0          User1  self friend  interest  mutual\n",
       "0         148125504@N04  148125504@N04     1      1  1.000000    True\n",
       "1         148125504@N04   32980384@N05     0  False  0.004769   False\n",
       "2         148125504@N04   96038677@N06     0  False  0.000000   False\n",
       "3         148125504@N04   88380809@N07     0  False  0.012162   False\n",
       "4         148125504@N04  138486769@N02     0  False  0.033613   False\n",
       "...                 ...            ...   ...    ...       ...     ...\n",
       "36929924   48150664@N07   46856873@N05     0  False  0.087719   False\n",
       "36929925   48150664@N07  142199786@N05     0  False  0.000000   False\n",
       "36929926   48150664@N07  132571827@N06     0  False  0.047859   False\n",
       "36929927   48150664@N07   29127542@N04     0  False  0.000000   False\n",
       "36929928   48150664@N07   48150664@N07     1      1  1.000000    True\n",
       "\n",
       "[36929929 rows x 6 columns]"
      ]
     },
     "execution_count": 8,
     "metadata": {},
     "output_type": "execute_result"
    }
   ],
   "source": [
    "social_links"
   ]
  },
  {
   "cell_type": "code",
   "execution_count": 9,
   "id": "25b90cd6",
   "metadata": {},
   "outputs": [],
   "source": [
    "GEO_node_dist = pd.read_csv('data_storage/images/GEO_node_dist.csv', sep='\\t', index_col='Unnamed: 0')"
   ]
  },
  {
   "cell_type": "code",
   "execution_count": 10,
   "id": "78cbf7f6",
   "metadata": {},
   "outputs": [
    {
     "data": {
      "text/html": [
       "<div>\n",
       "<style scoped>\n",
       "    .dataframe tbody tr th:only-of-type {\n",
       "        vertical-align: middle;\n",
       "    }\n",
       "\n",
       "    .dataframe tbody tr th {\n",
       "        vertical-align: top;\n",
       "    }\n",
       "\n",
       "    .dataframe thead th {\n",
       "        text-align: right;\n",
       "    }\n",
       "</style>\n",
       "<table border=\"1\" class=\"dataframe\">\n",
       "  <thead>\n",
       "    <tr style=\"text-align: right;\">\n",
       "      <th></th>\n",
       "      <th>27178184</th>\n",
       "      <th>764403528</th>\n",
       "      <th>1675825096</th>\n",
       "      <th>8670969688</th>\n",
       "      <th>5395065019</th>\n",
       "      <th>27178422</th>\n",
       "      <th>223527689</th>\n",
       "      <th>1863759223</th>\n",
       "      <th>2962858842</th>\n",
       "      <th>4212293019</th>\n",
       "      <th>...</th>\n",
       "      <th>9127965093</th>\n",
       "      <th>9127993414</th>\n",
       "      <th>9128012220</th>\n",
       "      <th>9196476004</th>\n",
       "      <th>9196476007</th>\n",
       "      <th>9196476006</th>\n",
       "      <th>9196521176</th>\n",
       "      <th>9221655954</th>\n",
       "      <th>9379177140</th>\n",
       "      <th>9439079311</th>\n",
       "    </tr>\n",
       "  </thead>\n",
       "  <tbody>\n",
       "    <tr>\n",
       "      <th>27178184</th>\n",
       "      <td>0.0</td>\n",
       "      <td>0.7</td>\n",
       "      <td>0.4</td>\n",
       "      <td>0.7</td>\n",
       "      <td>1.8</td>\n",
       "      <td>59.5</td>\n",
       "      <td>60.0</td>\n",
       "      <td>59.3</td>\n",
       "      <td>61.4</td>\n",
       "      <td>60.7</td>\n",
       "      <td>...</td>\n",
       "      <td>78.2</td>\n",
       "      <td>127.1</td>\n",
       "      <td>147.2</td>\n",
       "      <td>216.5</td>\n",
       "      <td>215.3</td>\n",
       "      <td>215.6</td>\n",
       "      <td>89.6</td>\n",
       "      <td>555.6</td>\n",
       "      <td>75.7</td>\n",
       "      <td>165.3</td>\n",
       "    </tr>\n",
       "    <tr>\n",
       "      <th>764403528</th>\n",
       "      <td>0.7</td>\n",
       "      <td>0.0</td>\n",
       "      <td>1.1</td>\n",
       "      <td>1.4</td>\n",
       "      <td>2.5</td>\n",
       "      <td>58.8</td>\n",
       "      <td>59.3</td>\n",
       "      <td>58.6</td>\n",
       "      <td>60.7</td>\n",
       "      <td>60.0</td>\n",
       "      <td>...</td>\n",
       "      <td>77.5</td>\n",
       "      <td>127.0</td>\n",
       "      <td>147.1</td>\n",
       "      <td>217.2</td>\n",
       "      <td>216.0</td>\n",
       "      <td>216.3</td>\n",
       "      <td>90.3</td>\n",
       "      <td>556.3</td>\n",
       "      <td>75.0</td>\n",
       "      <td>166.0</td>\n",
       "    </tr>\n",
       "    <tr>\n",
       "      <th>1675825096</th>\n",
       "      <td>0.4</td>\n",
       "      <td>1.1</td>\n",
       "      <td>0.0</td>\n",
       "      <td>1.1</td>\n",
       "      <td>2.2</td>\n",
       "      <td>59.9</td>\n",
       "      <td>60.4</td>\n",
       "      <td>59.7</td>\n",
       "      <td>61.8</td>\n",
       "      <td>61.1</td>\n",
       "      <td>...</td>\n",
       "      <td>78.6</td>\n",
       "      <td>127.5</td>\n",
       "      <td>147.6</td>\n",
       "      <td>216.8</td>\n",
       "      <td>215.6</td>\n",
       "      <td>215.9</td>\n",
       "      <td>89.9</td>\n",
       "      <td>555.9</td>\n",
       "      <td>76.1</td>\n",
       "      <td>165.6</td>\n",
       "    </tr>\n",
       "    <tr>\n",
       "      <th>8670969688</th>\n",
       "      <td>0.7</td>\n",
       "      <td>1.4</td>\n",
       "      <td>1.1</td>\n",
       "      <td>0.0</td>\n",
       "      <td>2.5</td>\n",
       "      <td>60.2</td>\n",
       "      <td>60.7</td>\n",
       "      <td>60.0</td>\n",
       "      <td>62.1</td>\n",
       "      <td>61.4</td>\n",
       "      <td>...</td>\n",
       "      <td>78.9</td>\n",
       "      <td>127.8</td>\n",
       "      <td>147.9</td>\n",
       "      <td>215.8</td>\n",
       "      <td>214.6</td>\n",
       "      <td>214.9</td>\n",
       "      <td>88.9</td>\n",
       "      <td>554.9</td>\n",
       "      <td>76.4</td>\n",
       "      <td>164.6</td>\n",
       "    </tr>\n",
       "    <tr>\n",
       "      <th>5395065019</th>\n",
       "      <td>1.8</td>\n",
       "      <td>2.5</td>\n",
       "      <td>2.2</td>\n",
       "      <td>2.5</td>\n",
       "      <td>0.0</td>\n",
       "      <td>57.7</td>\n",
       "      <td>58.2</td>\n",
       "      <td>57.5</td>\n",
       "      <td>59.6</td>\n",
       "      <td>58.9</td>\n",
       "      <td>...</td>\n",
       "      <td>76.4</td>\n",
       "      <td>125.3</td>\n",
       "      <td>145.4</td>\n",
       "      <td>218.3</td>\n",
       "      <td>217.1</td>\n",
       "      <td>217.4</td>\n",
       "      <td>91.4</td>\n",
       "      <td>557.4</td>\n",
       "      <td>73.9</td>\n",
       "      <td>167.1</td>\n",
       "    </tr>\n",
       "    <tr>\n",
       "      <th>...</th>\n",
       "      <td>...</td>\n",
       "      <td>...</td>\n",
       "      <td>...</td>\n",
       "      <td>...</td>\n",
       "      <td>...</td>\n",
       "      <td>...</td>\n",
       "      <td>...</td>\n",
       "      <td>...</td>\n",
       "      <td>...</td>\n",
       "      <td>...</td>\n",
       "      <td>...</td>\n",
       "      <td>...</td>\n",
       "      <td>...</td>\n",
       "      <td>...</td>\n",
       "      <td>...</td>\n",
       "      <td>...</td>\n",
       "      <td>...</td>\n",
       "      <td>...</td>\n",
       "      <td>...</td>\n",
       "      <td>...</td>\n",
       "      <td>...</td>\n",
       "    </tr>\n",
       "    <tr>\n",
       "      <th>9196476006</th>\n",
       "      <td>216.6</td>\n",
       "      <td>217.3</td>\n",
       "      <td>216.9</td>\n",
       "      <td>215.9</td>\n",
       "      <td>218.4</td>\n",
       "      <td>269.4</td>\n",
       "      <td>269.9</td>\n",
       "      <td>269.2</td>\n",
       "      <td>271.3</td>\n",
       "      <td>270.6</td>\n",
       "      <td>...</td>\n",
       "      <td>233.2</td>\n",
       "      <td>343.7</td>\n",
       "      <td>363.8</td>\n",
       "      <td>1.8</td>\n",
       "      <td>0.6</td>\n",
       "      <td>0.0</td>\n",
       "      <td>140.4</td>\n",
       "      <td>443.4</td>\n",
       "      <td>230.7</td>\n",
       "      <td>169.9</td>\n",
       "    </tr>\n",
       "    <tr>\n",
       "      <th>9196521176</th>\n",
       "      <td>89.6</td>\n",
       "      <td>90.3</td>\n",
       "      <td>89.9</td>\n",
       "      <td>88.9</td>\n",
       "      <td>91.4</td>\n",
       "      <td>149.1</td>\n",
       "      <td>149.6</td>\n",
       "      <td>148.9</td>\n",
       "      <td>151.0</td>\n",
       "      <td>150.3</td>\n",
       "      <td>...</td>\n",
       "      <td>132.3</td>\n",
       "      <td>216.7</td>\n",
       "      <td>236.8</td>\n",
       "      <td>140.3</td>\n",
       "      <td>139.1</td>\n",
       "      <td>139.4</td>\n",
       "      <td>0.0</td>\n",
       "      <td>479.4</td>\n",
       "      <td>129.8</td>\n",
       "      <td>102.2</td>\n",
       "    </tr>\n",
       "    <tr>\n",
       "      <th>9221655954</th>\n",
       "      <td>548.6</td>\n",
       "      <td>549.3</td>\n",
       "      <td>548.9</td>\n",
       "      <td>547.9</td>\n",
       "      <td>550.4</td>\n",
       "      <td>601.4</td>\n",
       "      <td>601.9</td>\n",
       "      <td>601.2</td>\n",
       "      <td>603.3</td>\n",
       "      <td>602.6</td>\n",
       "      <td>...</td>\n",
       "      <td>565.2</td>\n",
       "      <td>675.7</td>\n",
       "      <td>695.8</td>\n",
       "      <td>447.1</td>\n",
       "      <td>445.9</td>\n",
       "      <td>446.2</td>\n",
       "      <td>472.4</td>\n",
       "      <td>0.0</td>\n",
       "      <td>562.7</td>\n",
       "      <td>501.9</td>\n",
       "    </tr>\n",
       "    <tr>\n",
       "      <th>9379177140</th>\n",
       "      <td>75.7</td>\n",
       "      <td>75.0</td>\n",
       "      <td>76.1</td>\n",
       "      <td>76.4</td>\n",
       "      <td>73.9</td>\n",
       "      <td>48.3</td>\n",
       "      <td>48.8</td>\n",
       "      <td>48.1</td>\n",
       "      <td>50.2</td>\n",
       "      <td>49.5</td>\n",
       "      <td>...</td>\n",
       "      <td>4.9</td>\n",
       "      <td>141.0</td>\n",
       "      <td>161.1</td>\n",
       "      <td>230.6</td>\n",
       "      <td>229.4</td>\n",
       "      <td>229.7</td>\n",
       "      <td>129.8</td>\n",
       "      <td>569.7</td>\n",
       "      <td>0.0</td>\n",
       "      <td>224.0</td>\n",
       "    </tr>\n",
       "    <tr>\n",
       "      <th>9439079311</th>\n",
       "      <td>165.3</td>\n",
       "      <td>166.0</td>\n",
       "      <td>165.6</td>\n",
       "      <td>164.6</td>\n",
       "      <td>167.1</td>\n",
       "      <td>224.8</td>\n",
       "      <td>225.3</td>\n",
       "      <td>224.6</td>\n",
       "      <td>226.7</td>\n",
       "      <td>226.0</td>\n",
       "      <td>...</td>\n",
       "      <td>226.5</td>\n",
       "      <td>292.4</td>\n",
       "      <td>312.5</td>\n",
       "      <td>169.8</td>\n",
       "      <td>168.6</td>\n",
       "      <td>168.9</td>\n",
       "      <td>102.2</td>\n",
       "      <td>508.9</td>\n",
       "      <td>224.0</td>\n",
       "      <td>0.0</td>\n",
       "    </tr>\n",
       "  </tbody>\n",
       "</table>\n",
       "<p>5848 rows × 5848 columns</p>\n",
       "</div>"
      ],
      "text/plain": [
       "            27178184  764403528  1675825096  8670969688  5395065019  27178422  \\\n",
       "27178184         0.0        0.7         0.4         0.7         1.8      59.5   \n",
       "764403528        0.7        0.0         1.1         1.4         2.5      58.8   \n",
       "1675825096       0.4        1.1         0.0         1.1         2.2      59.9   \n",
       "8670969688       0.7        1.4         1.1         0.0         2.5      60.2   \n",
       "5395065019       1.8        2.5         2.2         2.5         0.0      57.7   \n",
       "...              ...        ...         ...         ...         ...       ...   \n",
       "9196476006     216.6      217.3       216.9       215.9       218.4     269.4   \n",
       "9196521176      89.6       90.3        89.9        88.9        91.4     149.1   \n",
       "9221655954     548.6      549.3       548.9       547.9       550.4     601.4   \n",
       "9379177140      75.7       75.0        76.1        76.4        73.9      48.3   \n",
       "9439079311     165.3      166.0       165.6       164.6       167.1     224.8   \n",
       "\n",
       "            223527689  1863759223  2962858842  4212293019  ...  9127965093  \\\n",
       "27178184         60.0        59.3        61.4        60.7  ...        78.2   \n",
       "764403528        59.3        58.6        60.7        60.0  ...        77.5   \n",
       "1675825096       60.4        59.7        61.8        61.1  ...        78.6   \n",
       "8670969688       60.7        60.0        62.1        61.4  ...        78.9   \n",
       "5395065019       58.2        57.5        59.6        58.9  ...        76.4   \n",
       "...               ...         ...         ...         ...  ...         ...   \n",
       "9196476006      269.9       269.2       271.3       270.6  ...       233.2   \n",
       "9196521176      149.6       148.9       151.0       150.3  ...       132.3   \n",
       "9221655954      601.9       601.2       603.3       602.6  ...       565.2   \n",
       "9379177140       48.8        48.1        50.2        49.5  ...         4.9   \n",
       "9439079311      225.3       224.6       226.7       226.0  ...       226.5   \n",
       "\n",
       "            9127993414  9128012220  9196476004  9196476007  9196476006  \\\n",
       "27178184         127.1       147.2       216.5       215.3       215.6   \n",
       "764403528        127.0       147.1       217.2       216.0       216.3   \n",
       "1675825096       127.5       147.6       216.8       215.6       215.9   \n",
       "8670969688       127.8       147.9       215.8       214.6       214.9   \n",
       "5395065019       125.3       145.4       218.3       217.1       217.4   \n",
       "...                ...         ...         ...         ...         ...   \n",
       "9196476006       343.7       363.8         1.8         0.6         0.0   \n",
       "9196521176       216.7       236.8       140.3       139.1       139.4   \n",
       "9221655954       675.7       695.8       447.1       445.9       446.2   \n",
       "9379177140       141.0       161.1       230.6       229.4       229.7   \n",
       "9439079311       292.4       312.5       169.8       168.6       168.9   \n",
       "\n",
       "            9196521176  9221655954  9379177140  9439079311  \n",
       "27178184          89.6       555.6        75.7       165.3  \n",
       "764403528         90.3       556.3        75.0       166.0  \n",
       "1675825096        89.9       555.9        76.1       165.6  \n",
       "8670969688        88.9       554.9        76.4       164.6  \n",
       "5395065019        91.4       557.4        73.9       167.1  \n",
       "...                ...         ...         ...         ...  \n",
       "9196476006       140.4       443.4       230.7       169.9  \n",
       "9196521176         0.0       479.4       129.8       102.2  \n",
       "9221655954       472.4         0.0       562.7       501.9  \n",
       "9379177140       129.8       569.7         0.0       224.0  \n",
       "9439079311       102.2       508.9       224.0         0.0  \n",
       "\n",
       "[5848 rows x 5848 columns]"
      ]
     },
     "execution_count": 10,
     "metadata": {},
     "output_type": "execute_result"
    }
   ],
   "source": [
    "GEO_node_dist"
   ]
  },
  {
   "cell_type": "code",
   "execution_count": 11,
   "id": "410b2955",
   "metadata": {},
   "outputs": [
    {
     "data": {
      "text/plain": [
       "2299"
      ]
     },
     "execution_count": 11,
     "metadata": {},
     "output_type": "execute_result"
    }
   ],
   "source": [
    "5848-3549"
   ]
  },
  {
   "cell_type": "markdown",
   "id": "2c51b17c",
   "metadata": {},
   "source": [
    "### Construct Sparse Matrix of Features"
   ]
  },
  {
   "cell_type": "code",
   "execution_count": 3,
   "id": "7ceb6a38",
   "metadata": {},
   "outputs": [],
   "source": [
    "import scipy"
   ]
  },
  {
   "cell_type": "markdown",
   "id": "7c8083ef",
   "metadata": {},
   "source": [
    "#### Spatial Relationship"
   ]
  },
  {
   "cell_type": "code",
   "execution_count": 14,
   "id": "fd6578b5",
   "metadata": {},
   "outputs": [
    {
     "data": {
      "text/plain": [
       "3571"
      ]
     },
     "execution_count": 14,
     "metadata": {},
     "output_type": "execute_result"
    }
   ],
   "source": [
    "len(GEO_metadata['GEO_node'].unique())"
   ]
  },
  {
   "cell_type": "code",
   "execution_count": 8,
   "id": "2992ba94",
   "metadata": {},
   "outputs": [],
   "source": [
    "GEO_nodes = GEO_metadata['GEO_node'].unique()"
   ]
  },
  {
   "cell_type": "code",
   "execution_count": 9,
   "id": "fdb979ee",
   "metadata": {},
   "outputs": [],
   "source": [
    "GEO_dict = {GEO_nodes[i]:i for i in range(len(GEO_nodes))}"
   ]
  },
  {
   "cell_type": "code",
   "execution_count": 92,
   "id": "1e4606f0",
   "metadata": {},
   "outputs": [
    {
     "data": {
      "text/plain": [
       "3571"
      ]
     },
     "execution_count": 92,
     "metadata": {},
     "output_type": "execute_result"
    }
   ],
   "source": [
    "len(GEO_dict)"
   ]
  },
  {
   "cell_type": "code",
   "execution_count": 29,
   "id": "cc49ac10",
   "metadata": {},
   "outputs": [],
   "source": [
    "GEO_node_dist_s = GEO_node_dist[GEO_nodes.astype(str)].loc[GEO_nodes]"
   ]
  },
  {
   "cell_type": "code",
   "execution_count": 187,
   "id": "11f2c25e",
   "metadata": {},
   "outputs": [],
   "source": [
    "GEO_node_dist_sym = (np.array(GEO_node_dist_s) + np.array(GEO_node_dist_s).T)/2"
   ]
  },
  {
   "cell_type": "code",
   "execution_count": 189,
   "id": "d362677e",
   "metadata": {},
   "outputs": [
    {
     "name": "stderr",
     "output_type": "stream",
     "text": [
      "/opt/miniconda3/lib/python3.7/site-packages/ipykernel_launcher.py:1: RuntimeWarning: invalid value encountered in multiply\n",
      "  \"\"\"Entry point for launching an IPython kernel.\n"
     ]
    }
   ],
   "source": [
    "SPA_dense =  ((20 - GEO_node_dist_sym)/20 * ((GEO_node_dist_sym<20).astype(int)))"
   ]
  },
  {
   "cell_type": "code",
   "execution_count": 190,
   "id": "d060d80c",
   "metadata": {},
   "outputs": [
    {
     "data": {
      "text/plain": [
       "array([[ 1.   ,  0.86 , -0.   , ..., -0.   , -0.   , -0.   ],\n",
       "       [ 0.86 ,  1.   , -0.   , ..., -0.   , -0.   , -0.   ],\n",
       "       [-0.   , -0.   ,  1.   , ..., -0.   , -0.   , -0.   ],\n",
       "       ...,\n",
       "       [-0.   , -0.   , -0.   , ...,  1.   ,  0.705, -0.   ],\n",
       "       [-0.   , -0.   , -0.   , ...,  0.705,  1.   , -0.   ],\n",
       "       [-0.   , -0.   , -0.   , ..., -0.   , -0.   ,  1.   ]])"
      ]
     },
     "execution_count": 190,
     "metadata": {},
     "output_type": "execute_result"
    }
   ],
   "source": [
    "SPA_dense"
   ]
  },
  {
   "cell_type": "code",
   "execution_count": 191,
   "id": "8c983cd2",
   "metadata": {},
   "outputs": [],
   "source": [
    "SPA_sparse = scipy.sparse.csr_matrix(SPA_dense)"
   ]
  },
  {
   "cell_type": "code",
   "execution_count": 192,
   "id": "47d656e2",
   "metadata": {},
   "outputs": [
    {
     "data": {
      "text/plain": [
       "<3571x3571 sparse matrix of type '<class 'numpy.float64'>'\n",
       "\twith 265053 stored elements in Compressed Sparse Row format>"
      ]
     },
     "execution_count": 192,
     "metadata": {},
     "output_type": "execute_result"
    }
   ],
   "source": [
    "SPA_sparse"
   ]
  },
  {
   "cell_type": "code",
   "execution_count": 193,
   "id": "e58b62a0",
   "metadata": {},
   "outputs": [
    {
     "data": {
      "text/plain": [
       "array([[1.   , 0.86 , 0.   , ..., 0.   , 0.   , 0.   ],\n",
       "       [0.86 , 1.   , 0.   , ..., 0.   , 0.   , 0.   ],\n",
       "       [0.   , 0.   , 1.   , ..., 0.   , 0.   , 0.   ],\n",
       "       ...,\n",
       "       [0.   , 0.   , 0.   , ..., 1.   , 0.705, 0.   ],\n",
       "       [0.   , 0.   , 0.   , ..., 0.705, 1.   , 0.   ],\n",
       "       [0.   , 0.   , 0.   , ..., 0.   , 0.   , 1.   ]])"
      ]
     },
     "execution_count": 193,
     "metadata": {},
     "output_type": "execute_result"
    }
   ],
   "source": [
    "SPA_sparse.toarray()"
   ]
  },
  {
   "cell_type": "code",
   "execution_count": 194,
   "id": "13d15364",
   "metadata": {},
   "outputs": [],
   "source": [
    "scipy.sparse.save_npz('data_storage/images/sparse_SPA_matrix.npz', SPA_sparse)"
   ]
  },
  {
   "cell_type": "code",
   "execution_count": 4,
   "id": "9bf36b17",
   "metadata": {},
   "outputs": [],
   "source": [
    "SPA_sparse = scipy.sparse.load_npz('data_storage/images/sparse_SPA_matrix.npz')"
   ]
  },
  {
   "cell_type": "markdown",
   "id": "93369077",
   "metadata": {},
   "source": [
    "#### Social Relationship"
   ]
  },
  {
   "cell_type": "code",
   "execution_count": 10,
   "id": "2a0b50d5",
   "metadata": {},
   "outputs": [],
   "source": [
    "owners = GEO_metadata['owner'].unique()"
   ]
  },
  {
   "cell_type": "code",
   "execution_count": 63,
   "id": "aa561925",
   "metadata": {},
   "outputs": [],
   "source": [
    "social_links['relationship'] = (((social_links['self'].astype(int)*2 + (social_links['friend']=='True').astype(int) + (social_links['interest']>0.05).astype(int))).astype(int))/3"
   ]
  },
  {
   "cell_type": "code",
   "execution_count": 64,
   "id": "09725025",
   "metadata": {},
   "outputs": [
    {
     "data": {
      "text/plain": [
       "0.000000    36726908\n",
       "0.333333      195264\n",
       "1.000000        6077\n",
       "0.666667        1680\n",
       "Name: relationship, dtype: int64"
      ]
     },
     "execution_count": 64,
     "metadata": {},
     "output_type": "execute_result"
    }
   ],
   "source": [
    "social_links['relationship'].value_counts()"
   ]
  },
  {
   "cell_type": "code",
   "execution_count": 49,
   "id": "4008ed2d",
   "metadata": {},
   "outputs": [
    {
     "data": {
      "text/plain": [
       "6077"
      ]
     },
     "execution_count": 49,
     "metadata": {},
     "output_type": "execute_result"
    }
   ],
   "source": [
    "len(owners)"
   ]
  },
  {
   "cell_type": "code",
   "execution_count": 51,
   "id": "cc5f1749",
   "metadata": {},
   "outputs": [
    {
     "data": {
      "text/plain": [
       "6077"
      ]
     },
     "execution_count": 51,
     "metadata": {},
     "output_type": "execute_result"
    }
   ],
   "source": [
    "len(social_links['User0'].unique())"
   ]
  },
  {
   "cell_type": "code",
   "execution_count": 52,
   "id": "46516921",
   "metadata": {},
   "outputs": [
    {
     "data": {
      "text/plain": [
       "6077"
      ]
     },
     "execution_count": 52,
     "metadata": {},
     "output_type": "execute_result"
    }
   ],
   "source": [
    "len(social_links['User1'].unique())"
   ]
  },
  {
   "cell_type": "code",
   "execution_count": 70,
   "id": "fe4b3eb5",
   "metadata": {},
   "outputs": [],
   "source": [
    "social_links = social_links[social_links['relationship']>0]"
   ]
  },
  {
   "cell_type": "code",
   "execution_count": 71,
   "id": "e4be448e",
   "metadata": {},
   "outputs": [
    {
     "data": {
      "text/html": [
       "<div>\n",
       "<style scoped>\n",
       "    .dataframe tbody tr th:only-of-type {\n",
       "        vertical-align: middle;\n",
       "    }\n",
       "\n",
       "    .dataframe tbody tr th {\n",
       "        vertical-align: top;\n",
       "    }\n",
       "\n",
       "    .dataframe thead th {\n",
       "        text-align: right;\n",
       "    }\n",
       "</style>\n",
       "<table border=\"1\" class=\"dataframe\">\n",
       "  <thead>\n",
       "    <tr style=\"text-align: right;\">\n",
       "      <th></th>\n",
       "      <th>User0</th>\n",
       "      <th>User1</th>\n",
       "      <th>self</th>\n",
       "      <th>friend</th>\n",
       "      <th>interest</th>\n",
       "      <th>mutual</th>\n",
       "      <th>relationship</th>\n",
       "    </tr>\n",
       "  </thead>\n",
       "  <tbody>\n",
       "    <tr>\n",
       "      <th>0</th>\n",
       "      <td>148125504@N04</td>\n",
       "      <td>148125504@N04</td>\n",
       "      <td>1</td>\n",
       "      <td>1</td>\n",
       "      <td>1.000000</td>\n",
       "      <td>True</td>\n",
       "      <td>1.000000</td>\n",
       "    </tr>\n",
       "    <tr>\n",
       "      <th>12</th>\n",
       "      <td>148125504@N04</td>\n",
       "      <td>141443760@N06</td>\n",
       "      <td>0</td>\n",
       "      <td>True</td>\n",
       "      <td>0.018692</td>\n",
       "      <td>False</td>\n",
       "      <td>0.333333</td>\n",
       "    </tr>\n",
       "    <tr>\n",
       "      <th>60</th>\n",
       "      <td>148125504@N04</td>\n",
       "      <td>90578102@N00</td>\n",
       "      <td>0</td>\n",
       "      <td>False</td>\n",
       "      <td>0.060482</td>\n",
       "      <td>False</td>\n",
       "      <td>0.333333</td>\n",
       "    </tr>\n",
       "    <tr>\n",
       "      <th>71</th>\n",
       "      <td>148125504@N04</td>\n",
       "      <td>151937434@N07</td>\n",
       "      <td>0</td>\n",
       "      <td>True</td>\n",
       "      <td>0.064120</td>\n",
       "      <td>False</td>\n",
       "      <td>0.666667</td>\n",
       "    </tr>\n",
       "    <tr>\n",
       "      <th>73</th>\n",
       "      <td>148125504@N04</td>\n",
       "      <td>74012092@N00</td>\n",
       "      <td>0</td>\n",
       "      <td>False</td>\n",
       "      <td>0.060104</td>\n",
       "      <td>False</td>\n",
       "      <td>0.333333</td>\n",
       "    </tr>\n",
       "    <tr>\n",
       "      <th>...</th>\n",
       "      <td>...</td>\n",
       "      <td>...</td>\n",
       "      <td>...</td>\n",
       "      <td>...</td>\n",
       "      <td>...</td>\n",
       "      <td>...</td>\n",
       "      <td>...</td>\n",
       "    </tr>\n",
       "    <tr>\n",
       "      <th>36929911</th>\n",
       "      <td>48150664@N07</td>\n",
       "      <td>61500086@N03</td>\n",
       "      <td>0</td>\n",
       "      <td>False</td>\n",
       "      <td>0.081551</td>\n",
       "      <td>False</td>\n",
       "      <td>0.333333</td>\n",
       "    </tr>\n",
       "    <tr>\n",
       "      <th>36929912</th>\n",
       "      <td>48150664@N07</td>\n",
       "      <td>114215508@N06</td>\n",
       "      <td>0</td>\n",
       "      <td>True</td>\n",
       "      <td>0.052805</td>\n",
       "      <td>False</td>\n",
       "      <td>0.666667</td>\n",
       "    </tr>\n",
       "    <tr>\n",
       "      <th>36929919</th>\n",
       "      <td>48150664@N07</td>\n",
       "      <td>92727359@N04</td>\n",
       "      <td>0</td>\n",
       "      <td>False</td>\n",
       "      <td>0.081081</td>\n",
       "      <td>False</td>\n",
       "      <td>0.333333</td>\n",
       "    </tr>\n",
       "    <tr>\n",
       "      <th>36929924</th>\n",
       "      <td>48150664@N07</td>\n",
       "      <td>46856873@N05</td>\n",
       "      <td>0</td>\n",
       "      <td>False</td>\n",
       "      <td>0.087719</td>\n",
       "      <td>False</td>\n",
       "      <td>0.333333</td>\n",
       "    </tr>\n",
       "    <tr>\n",
       "      <th>36929928</th>\n",
       "      <td>48150664@N07</td>\n",
       "      <td>48150664@N07</td>\n",
       "      <td>1</td>\n",
       "      <td>1</td>\n",
       "      <td>1.000000</td>\n",
       "      <td>True</td>\n",
       "      <td>1.000000</td>\n",
       "    </tr>\n",
       "  </tbody>\n",
       "</table>\n",
       "<p>203021 rows × 7 columns</p>\n",
       "</div>"
      ],
      "text/plain": [
       "                  User0          User1  self friend  interest  mutual  \\\n",
       "0         148125504@N04  148125504@N04     1      1  1.000000    True   \n",
       "12        148125504@N04  141443760@N06     0   True  0.018692   False   \n",
       "60        148125504@N04   90578102@N00     0  False  0.060482   False   \n",
       "71        148125504@N04  151937434@N07     0   True  0.064120   False   \n",
       "73        148125504@N04   74012092@N00     0  False  0.060104   False   \n",
       "...                 ...            ...   ...    ...       ...     ...   \n",
       "36929911   48150664@N07   61500086@N03     0  False  0.081551   False   \n",
       "36929912   48150664@N07  114215508@N06     0   True  0.052805   False   \n",
       "36929919   48150664@N07   92727359@N04     0  False  0.081081   False   \n",
       "36929924   48150664@N07   46856873@N05     0  False  0.087719   False   \n",
       "36929928   48150664@N07   48150664@N07     1      1  1.000000    True   \n",
       "\n",
       "          relationship  \n",
       "0             1.000000  \n",
       "12            0.333333  \n",
       "60            0.333333  \n",
       "71            0.666667  \n",
       "73            0.333333  \n",
       "...                ...  \n",
       "36929911      0.333333  \n",
       "36929912      0.666667  \n",
       "36929919      0.333333  \n",
       "36929924      0.333333  \n",
       "36929928      1.000000  \n",
       "\n",
       "[203021 rows x 7 columns]"
      ]
     },
     "execution_count": 71,
     "metadata": {},
     "output_type": "execute_result"
    }
   ],
   "source": [
    "social_links"
   ]
  },
  {
   "cell_type": "code",
   "execution_count": 11,
   "id": "d968aef6",
   "metadata": {},
   "outputs": [],
   "source": [
    "user_dict = {owners[i]:i for i in range(len(owners))}"
   ]
  },
  {
   "cell_type": "code",
   "execution_count": 89,
   "id": "6b425124",
   "metadata": {},
   "outputs": [
    {
     "data": {
      "text/plain": [
       "6077"
      ]
     },
     "execution_count": 89,
     "metadata": {},
     "output_type": "execute_result"
    }
   ],
   "source": [
    "len(user_dict)"
   ]
  },
  {
   "cell_type": "code",
   "execution_count": 93,
   "id": "a4193191",
   "metadata": {},
   "outputs": [],
   "source": [
    "row = np.array(social_links['User0'].apply(lambda x: user_dict[x]))\n",
    "col = np.array(social_links['User1'].apply(lambda x: user_dict[x]))\n",
    "data = np.array(social_links['relationship'])"
   ]
  },
  {
   "cell_type": "code",
   "execution_count": 123,
   "id": "41fe2f84",
   "metadata": {},
   "outputs": [],
   "source": [
    "SOC_sparse = scipy.sparse.coo_matrix((data, (row, col)), shape=(len(owners), len(owners))).tocsr()"
   ]
  },
  {
   "cell_type": "code",
   "execution_count": 137,
   "id": "8d8c6259",
   "metadata": {},
   "outputs": [
    {
     "data": {
      "text/plain": [
       "array([[1., 0., 0., ..., 0., 0., 0.],\n",
       "       [0., 1., 0., ..., 0., 0., 0.],\n",
       "       [0., 0., 1., ..., 0., 0., 0.],\n",
       "       ...,\n",
       "       [0., 0., 0., ..., 1., 0., 0.],\n",
       "       [0., 0., 0., ..., 0., 1., 0.],\n",
       "       [0., 0., 0., ..., 0., 0., 1.]])"
      ]
     },
     "execution_count": 137,
     "metadata": {},
     "output_type": "execute_result"
    }
   ],
   "source": [
    "SOC_sparse.toarray()"
   ]
  },
  {
   "cell_type": "code",
   "execution_count": 138,
   "id": "b38b9929",
   "metadata": {},
   "outputs": [
    {
     "data": {
      "text/plain": [
       "<6077x6077 sparse matrix of type '<class 'numpy.float64'>'\n",
       "\twith 203021 stored elements in Compressed Sparse Row format>"
      ]
     },
     "execution_count": 138,
     "metadata": {},
     "output_type": "execute_result"
    }
   ],
   "source": [
    "SOC_sparse"
   ]
  },
  {
   "cell_type": "code",
   "execution_count": 125,
   "id": "59aa2d5c",
   "metadata": {},
   "outputs": [],
   "source": [
    "scipy.sparse.save_npz('data_storage/images/sparse_SOC_matrix.npz', SOC_sparse)"
   ]
  },
  {
   "cell_type": "code",
   "execution_count": 5,
   "id": "3b2ab935",
   "metadata": {},
   "outputs": [],
   "source": [
    "SOC_sparse = scipy.sparse.load_npz('data_storage/images/sparse_SOC_matrix.npz')"
   ]
  },
  {
   "cell_type": "markdown",
   "id": "00cc56a5",
   "metadata": {},
   "source": [
    "#### Temporal Relationship"
   ]
  },
  {
   "cell_type": "code",
   "execution_count": 12,
   "id": "33a8dc66",
   "metadata": {},
   "outputs": [],
   "source": [
    "times = sorted(GEO_metadata['adjusted_week'].unique())"
   ]
  },
  {
   "cell_type": "code",
   "execution_count": 113,
   "id": "ddc99c52",
   "metadata": {},
   "outputs": [
    {
     "data": {
      "text/plain": [
       "912"
      ]
     },
     "execution_count": 113,
     "metadata": {},
     "output_type": "execute_result"
    }
   ],
   "source": [
    "len(times)"
   ]
  },
  {
   "cell_type": "code",
   "execution_count": 13,
   "id": "82754b9d",
   "metadata": {},
   "outputs": [],
   "source": [
    "time_dict = {times[i]:i for i in range(len(times))}"
   ]
  },
  {
   "cell_type": "code",
   "execution_count": 115,
   "id": "2684b23c",
   "metadata": {},
   "outputs": [
    {
     "data": {
      "text/plain": [
       "912"
      ]
     },
     "execution_count": 115,
     "metadata": {},
     "output_type": "execute_result"
    }
   ],
   "source": [
    "len(time_dict)"
   ]
  },
  {
   "cell_type": "code",
   "execution_count": 117,
   "id": "7cbdb6a7",
   "metadata": {},
   "outputs": [],
   "source": [
    "from scipy.sparse import diags"
   ]
  },
  {
   "cell_type": "code",
   "execution_count": 131,
   "id": "d191f4b9",
   "metadata": {},
   "outputs": [],
   "source": [
    "TEM_sparse = diags([0.5, 1, 0.5], [-1, 0, 1], shape=(len(times), len(times))).tocsr()"
   ]
  },
  {
   "cell_type": "code",
   "execution_count": 140,
   "id": "e7d7dc22",
   "metadata": {},
   "outputs": [
    {
     "data": {
      "text/plain": [
       "<912x912 sparse matrix of type '<class 'numpy.float64'>'\n",
       "\twith 2734 stored elements in Compressed Sparse Row format>"
      ]
     },
     "execution_count": 140,
     "metadata": {},
     "output_type": "execute_result"
    }
   ],
   "source": [
    "TEM_sparse"
   ]
  },
  {
   "cell_type": "code",
   "execution_count": 136,
   "id": "1ed7c9cd",
   "metadata": {},
   "outputs": [
    {
     "data": {
      "text/plain": [
       "array([[1. , 0.5, 0. , ..., 0. , 0. , 0. ],\n",
       "       [0.5, 1. , 0.5, ..., 0. , 0. , 0. ],\n",
       "       [0. , 0.5, 1. , ..., 0. , 0. , 0. ],\n",
       "       ...,\n",
       "       [0. , 0. , 0. , ..., 1. , 0.5, 0. ],\n",
       "       [0. , 0. , 0. , ..., 0.5, 1. , 0.5],\n",
       "       [0. , 0. , 0. , ..., 0. , 0.5, 1. ]])"
      ]
     },
     "execution_count": 136,
     "metadata": {},
     "output_type": "execute_result"
    }
   ],
   "source": [
    "TEM_sparse.toarray()"
   ]
  },
  {
   "cell_type": "code",
   "execution_count": 133,
   "id": "43a45710",
   "metadata": {},
   "outputs": [],
   "source": [
    "scipy.sparse.save_npz('data_storage/images/sparse_TEM_matrix.npz', TEM_sparse)"
   ]
  },
  {
   "cell_type": "code",
   "execution_count": 6,
   "id": "371121af",
   "metadata": {},
   "outputs": [],
   "source": [
    "TEM_sparse = scipy.sparse.load_npz('data_storage/images/sparse_TEM_matrix.npz')"
   ]
  },
  {
   "cell_type": "markdown",
   "id": "420c711b",
   "metadata": {},
   "source": [
    "### Constructing Sparse Matrix for One-hot Encodings"
   ]
  },
  {
   "cell_type": "code",
   "execution_count": 14,
   "id": "848a8f5f",
   "metadata": {},
   "outputs": [
    {
     "data": {
      "text/plain": [
       "0           0\n",
       "1           1\n",
       "2           2\n",
       "3           3\n",
       "4           4\n",
       "         ... \n",
       "80958    3567\n",
       "80959    3567\n",
       "80960    3567\n",
       "80961    3567\n",
       "80962    3567\n",
       "Name: GEO_node, Length: 80963, dtype: int64"
      ]
     },
     "execution_count": 14,
     "metadata": {},
     "output_type": "execute_result"
    }
   ],
   "source": [
    "SPA = GEO_metadata['GEO_node'].apply(lambda x: GEO_dict[x])\n",
    "SPA"
   ]
  },
  {
   "cell_type": "code",
   "execution_count": 15,
   "id": "eadac288",
   "metadata": {},
   "outputs": [],
   "source": [
    "SPA_enc = scipy.sparse.coo_matrix((np.ones(len(SPA)), (np.array(SPA), range(len(SPA)))), shape=(len(GEO_nodes), len(SPA))).tocsr()"
   ]
  },
  {
   "cell_type": "code",
   "execution_count": 16,
   "id": "9dbcaf77",
   "metadata": {},
   "outputs": [
    {
     "data": {
      "text/plain": [
       "<3571x80963 sparse matrix of type '<class 'numpy.float64'>'\n",
       "\twith 80963 stored elements in Compressed Sparse Row format>"
      ]
     },
     "execution_count": 16,
     "metadata": {},
     "output_type": "execute_result"
    }
   ],
   "source": [
    "SPA_enc"
   ]
  },
  {
   "cell_type": "code",
   "execution_count": 17,
   "id": "6050067e",
   "metadata": {},
   "outputs": [
    {
     "data": {
      "text/plain": [
       "array([[1., 0., 0., ..., 0., 0., 0.],\n",
       "       [0., 1., 0., ..., 0., 0., 0.],\n",
       "       [0., 0., 1., ..., 0., 0., 0.],\n",
       "       ...,\n",
       "       [0., 0., 0., ..., 0., 0., 0.],\n",
       "       [0., 0., 0., ..., 0., 0., 0.],\n",
       "       [0., 0., 0., ..., 0., 0., 0.]])"
      ]
     },
     "execution_count": 17,
     "metadata": {},
     "output_type": "execute_result"
    }
   ],
   "source": [
    "SPA_enc.toarray()"
   ]
  },
  {
   "cell_type": "code",
   "execution_count": 18,
   "id": "eaacd0b1",
   "metadata": {},
   "outputs": [
    {
     "data": {
      "text/plain": [
       "0           0\n",
       "1           0\n",
       "2           1\n",
       "3           1\n",
       "4           1\n",
       "         ... \n",
       "80958    5856\n",
       "80959    5856\n",
       "80960    5856\n",
       "80961    5856\n",
       "80962    5856\n",
       "Name: owner, Length: 80963, dtype: int64"
      ]
     },
     "execution_count": 18,
     "metadata": {},
     "output_type": "execute_result"
    }
   ],
   "source": [
    "SOC = GEO_metadata['owner'].apply(lambda x: user_dict[x])\n",
    "SOC"
   ]
  },
  {
   "cell_type": "code",
   "execution_count": 19,
   "id": "c875409b",
   "metadata": {},
   "outputs": [],
   "source": [
    "SOC_enc = scipy.sparse.coo_matrix((np.ones(len(SOC)), (np.array(SOC), range(len(SOC)))), shape=(len(owners), len(SOC))).tocsr()"
   ]
  },
  {
   "cell_type": "code",
   "execution_count": 20,
   "id": "2a64f0f2",
   "metadata": {},
   "outputs": [
    {
     "data": {
      "text/plain": [
       "<6077x80963 sparse matrix of type '<class 'numpy.float64'>'\n",
       "\twith 80963 stored elements in Compressed Sparse Row format>"
      ]
     },
     "execution_count": 20,
     "metadata": {},
     "output_type": "execute_result"
    }
   ],
   "source": [
    "SOC_enc"
   ]
  },
  {
   "cell_type": "code",
   "execution_count": 21,
   "id": "29ab64fa",
   "metadata": {},
   "outputs": [
    {
     "data": {
      "text/plain": [
       "0        351\n",
       "1        351\n",
       "2        891\n",
       "3        891\n",
       "4        891\n",
       "        ... \n",
       "80958    625\n",
       "80959    625\n",
       "80960    625\n",
       "80961    625\n",
       "80962    625\n",
       "Name: adjusted_week, Length: 80963, dtype: int64"
      ]
     },
     "execution_count": 21,
     "metadata": {},
     "output_type": "execute_result"
    }
   ],
   "source": [
    "TEM = GEO_metadata['adjusted_week'].apply(lambda x: time_dict[x])\n",
    "TEM"
   ]
  },
  {
   "cell_type": "code",
   "execution_count": 22,
   "id": "a274ee58",
   "metadata": {},
   "outputs": [],
   "source": [
    "TEM_enc = scipy.sparse.coo_matrix((np.ones(len(TEM)), (np.array(TEM), range(len(TEM)))), shape=(len(times), len(TEM))).tocsr()"
   ]
  },
  {
   "cell_type": "code",
   "execution_count": 23,
   "id": "a5b4f851",
   "metadata": {},
   "outputs": [
    {
     "data": {
      "text/plain": [
       "<912x80963 sparse matrix of type '<class 'numpy.float64'>'\n",
       "\twith 80963 stored elements in Compressed Sparse Row format>"
      ]
     },
     "execution_count": 23,
     "metadata": {},
     "output_type": "execute_result"
    }
   ],
   "source": [
    "TEM_enc"
   ]
  },
  {
   "cell_type": "markdown",
   "id": "7a494988",
   "metadata": {},
   "source": [
    "### Constructing Adjacent Matrices"
   ]
  },
  {
   "cell_type": "code",
   "execution_count": 24,
   "id": "70f03eb8",
   "metadata": {},
   "outputs": [],
   "source": [
    "A_SPA = SPA_enc.T * SPA_sparse * SPA_enc"
   ]
  },
  {
   "cell_type": "code",
   "execution_count": 25,
   "id": "1b325456",
   "metadata": {},
   "outputs": [
    {
     "data": {
      "text/plain": [
       "<80963x80963 sparse matrix of type '<class 'numpy.float64'>'\n",
       "\twith 202173159 stored elements in Compressed Sparse Column format>"
      ]
     },
     "execution_count": 25,
     "metadata": {},
     "output_type": "execute_result"
    }
   ],
   "source": [
    "A_SPA"
   ]
  },
  {
   "cell_type": "code",
   "execution_count": 34,
   "id": "f02da334",
   "metadata": {},
   "outputs": [
    {
     "data": {
      "text/plain": [
       "101046098.0"
      ]
     },
     "execution_count": 34,
     "metadata": {},
     "output_type": "execute_result"
    }
   ],
   "source": [
    "(202173159-80963)/2"
   ]
  },
  {
   "cell_type": "code",
   "execution_count": 38,
   "id": "bd665307",
   "metadata": {},
   "outputs": [
    {
     "data": {
      "text/plain": [
       "1248.052789545842"
      ]
     },
     "execution_count": 38,
     "metadata": {},
     "output_type": "execute_result"
    }
   ],
   "source": [
    "(202173159-80963)/2/80963"
   ]
  },
  {
   "cell_type": "code",
   "execution_count": 42,
   "id": "dd28c7b9",
   "metadata": {},
   "outputs": [
    {
     "data": {
      "text/plain": [
       "0.03083058199021373"
      ]
     },
     "execution_count": 42,
     "metadata": {},
     "output_type": "execute_result"
    }
   ],
   "source": [
    "(202173159-80963)/80963/80962"
   ]
  },
  {
   "cell_type": "code",
   "execution_count": 201,
   "id": "b338f912",
   "metadata": {},
   "outputs": [
    {
     "data": {
      "text/plain": [
       "array([[1.  , 0.86, 0.  , ..., 0.  , 0.  , 0.  ],\n",
       "       [0.86, 1.  , 0.  , ..., 0.  , 0.  , 0.  ],\n",
       "       [0.  , 0.  , 1.  , ..., 0.  , 0.  , 0.  ],\n",
       "       ...,\n",
       "       [0.  , 0.  , 0.  , ..., 1.  , 1.  , 1.  ],\n",
       "       [0.  , 0.  , 0.  , ..., 1.  , 1.  , 1.  ],\n",
       "       [0.  , 0.  , 0.  , ..., 1.  , 1.  , 1.  ]])"
      ]
     },
     "execution_count": 201,
     "metadata": {},
     "output_type": "execute_result"
    }
   ],
   "source": [
    "A_SPA.toarray()"
   ]
  },
  {
   "cell_type": "code",
   "execution_count": 26,
   "id": "957cf5a2",
   "metadata": {},
   "outputs": [],
   "source": [
    "A_SOC = SOC_enc.T * SOC_sparse * SOC_enc"
   ]
  },
  {
   "cell_type": "code",
   "execution_count": 27,
   "id": "bd69c479",
   "metadata": {},
   "outputs": [
    {
     "data": {
      "text/plain": [
       "<80963x80963 sparse matrix of type '<class 'numpy.float64'>'\n",
       "\twith 76422265 stored elements in Compressed Sparse Column format>"
      ]
     },
     "execution_count": 27,
     "metadata": {},
     "output_type": "execute_result"
    }
   ],
   "source": [
    "A_SOC"
   ]
  },
  {
   "cell_type": "code",
   "execution_count": 35,
   "id": "792126c5",
   "metadata": {},
   "outputs": [
    {
     "data": {
      "text/plain": [
       "38170651.0"
      ]
     },
     "execution_count": 35,
     "metadata": {},
     "output_type": "execute_result"
    }
   ],
   "source": [
    "(76422265-80963)/2"
   ]
  },
  {
   "cell_type": "code",
   "execution_count": 39,
   "id": "54191f01",
   "metadata": {},
   "outputs": [
    {
     "data": {
      "text/plain": [
       "471.4579622790657"
      ]
     },
     "execution_count": 39,
     "metadata": {},
     "output_type": "execute_result"
    }
   ],
   "source": [
    "(76422265-80963)/2/80963"
   ]
  },
  {
   "cell_type": "code",
   "execution_count": 43,
   "id": "bdd16b9c",
   "metadata": {},
   "outputs": [
    {
     "data": {
      "text/plain": [
       "0.011646401083942238"
      ]
     },
     "execution_count": 43,
     "metadata": {},
     "output_type": "execute_result"
    }
   ],
   "source": [
    "(76422265-80963)/80963/80962"
   ]
  },
  {
   "cell_type": "code",
   "execution_count": 181,
   "id": "fcae9c7a",
   "metadata": {},
   "outputs": [
    {
     "data": {
      "text/plain": [
       "array([[1., 1., 0., ..., 0., 0., 0.],\n",
       "       [1., 1., 0., ..., 0., 0., 0.],\n",
       "       [0., 0., 1., ..., 0., 0., 0.],\n",
       "       ...,\n",
       "       [0., 0., 0., ..., 1., 1., 1.],\n",
       "       [0., 0., 0., ..., 1., 1., 1.],\n",
       "       [0., 0., 0., ..., 1., 1., 1.]])"
      ]
     },
     "execution_count": 181,
     "metadata": {},
     "output_type": "execute_result"
    }
   ],
   "source": [
    "A_SOC.toarray()"
   ]
  },
  {
   "cell_type": "code",
   "execution_count": 28,
   "id": "9bf9c815",
   "metadata": {},
   "outputs": [],
   "source": [
    "A_TEM = TEM_enc.T * TEM_sparse * TEM_enc"
   ]
  },
  {
   "cell_type": "code",
   "execution_count": 29,
   "id": "c1ede5cf",
   "metadata": {},
   "outputs": [
    {
     "data": {
      "text/plain": [
       "<80963x80963 sparse matrix of type '<class 'numpy.float64'>'\n",
       "\twith 71135671 stored elements in Compressed Sparse Column format>"
      ]
     },
     "execution_count": 29,
     "metadata": {},
     "output_type": "execute_result"
    }
   ],
   "source": [
    "A_TEM"
   ]
  },
  {
   "cell_type": "code",
   "execution_count": 36,
   "id": "8dc0dadd",
   "metadata": {},
   "outputs": [
    {
     "data": {
      "text/plain": [
       "35527354.0"
      ]
     },
     "execution_count": 36,
     "metadata": {},
     "output_type": "execute_result"
    }
   ],
   "source": [
    "(71135671-80963)/2"
   ]
  },
  {
   "cell_type": "code",
   "execution_count": 40,
   "id": "fbd3cd7b",
   "metadata": {},
   "outputs": [
    {
     "data": {
      "text/plain": [
       "438.8097526030409"
      ]
     },
     "execution_count": 40,
     "metadata": {},
     "output_type": "execute_result"
    }
   ],
   "source": [
    "(71135671-80963)/2/80963"
   ]
  },
  {
   "cell_type": "code",
   "execution_count": 44,
   "id": "d3c5be80",
   "metadata": {},
   "outputs": [
    {
     "data": {
      "text/plain": [
       "0.010839894088659888"
      ]
     },
     "execution_count": 44,
     "metadata": {},
     "output_type": "execute_result"
    }
   ],
   "source": [
    "(71135671-80963)/80963/80962"
   ]
  },
  {
   "cell_type": "code",
   "execution_count": 182,
   "id": "6490061c",
   "metadata": {},
   "outputs": [
    {
     "data": {
      "text/plain": [
       "array([[1., 1., 0., ..., 0., 0., 0.],\n",
       "       [1., 1., 0., ..., 0., 0., 0.],\n",
       "       [0., 0., 1., ..., 0., 0., 0.],\n",
       "       ...,\n",
       "       [0., 0., 0., ..., 1., 1., 1.],\n",
       "       [0., 0., 0., ..., 1., 1., 1.],\n",
       "       [0., 0., 0., ..., 1., 1., 1.]])"
      ]
     },
     "execution_count": 182,
     "metadata": {},
     "output_type": "execute_result"
    }
   ],
   "source": [
    "A_TEM.toarray()"
   ]
  },
  {
   "cell_type": "code",
   "execution_count": 31,
   "id": "b8a4d145",
   "metadata": {},
   "outputs": [],
   "source": [
    "A_simp = (((A_SOC>0) + (A_TEM>0) + (A_SPA>0))>0).astype(int)"
   ]
  },
  {
   "cell_type": "code",
   "execution_count": 32,
   "id": "b938f171",
   "metadata": {},
   "outputs": [
    {
     "data": {
      "text/plain": [
       "<80963x80963 sparse matrix of type '<class 'numpy.int64'>'\n",
       "\twith 290091503 stored elements in Compressed Sparse Column format>"
      ]
     },
     "execution_count": 32,
     "metadata": {},
     "output_type": "execute_result"
    }
   ],
   "source": [
    "A_simp"
   ]
  },
  {
   "cell_type": "code",
   "execution_count": 37,
   "id": "ae42d585",
   "metadata": {},
   "outputs": [
    {
     "data": {
      "text/plain": [
       "145005270.0"
      ]
     },
     "execution_count": 37,
     "metadata": {},
     "output_type": "execute_result"
    }
   ],
   "source": [
    "(290091503-80963)/2"
   ]
  },
  {
   "cell_type": "code",
   "execution_count": 41,
   "id": "670354ee",
   "metadata": {},
   "outputs": [
    {
     "data": {
      "text/plain": [
       "1791.0066326593628"
      ]
     },
     "execution_count": 41,
     "metadata": {},
     "output_type": "execute_result"
    }
   ],
   "source": [
    "(290091503-80963)/2/80963"
   ]
  },
  {
   "cell_type": "code",
   "execution_count": 45,
   "id": "186e1b3b",
   "metadata": {},
   "outputs": [
    {
     "data": {
      "text/plain": [
       "0.044243142033530865"
      ]
     },
     "execution_count": 45,
     "metadata": {},
     "output_type": "execute_result"
    }
   ],
   "source": [
    "(290091503-80963)/80963/80962"
   ]
  },
  {
   "cell_type": "code",
   "execution_count": 185,
   "id": "90de2c62",
   "metadata": {},
   "outputs": [
    {
     "data": {
      "text/plain": [
       "array([[1, 1, 0, ..., 0, 0, 0],\n",
       "       [1, 1, 0, ..., 0, 0, 0],\n",
       "       [0, 0, 1, ..., 0, 0, 0],\n",
       "       ...,\n",
       "       [0, 0, 0, ..., 1, 1, 1],\n",
       "       [0, 0, 0, ..., 1, 1, 1],\n",
       "       [0, 0, 0, ..., 1, 1, 1]])"
      ]
     },
     "execution_count": 185,
     "metadata": {},
     "output_type": "execute_result"
    }
   ],
   "source": [
    "A_simp.toarray()"
   ]
  },
  {
   "cell_type": "code",
   "execution_count": 177,
   "id": "b28884d8",
   "metadata": {},
   "outputs": [],
   "source": [
    "scipy.sparse.save_npz('dataset_np/Venice-XL/A_SOC.npz', A_SOC)"
   ]
  },
  {
   "cell_type": "code",
   "execution_count": 30,
   "id": "4f1b6038",
   "metadata": {},
   "outputs": [],
   "source": [
    "scipy.sparse.save_npz('dataset_np/Venice-XL/A_SPA.npz', A_SPA)"
   ]
  },
  {
   "cell_type": "code",
   "execution_count": 179,
   "id": "d6a8f5c6",
   "metadata": {},
   "outputs": [],
   "source": [
    "scipy.sparse.save_npz('dataset_np/Venice-XL/A_TEM.npz', A_TEM)"
   ]
  },
  {
   "cell_type": "code",
   "execution_count": 33,
   "id": "c2f11346",
   "metadata": {},
   "outputs": [],
   "source": [
    "scipy.sparse.save_npz('dataset_np/Venice-XL/A_simp.npz', A_simp)"
   ]
  },
  {
   "cell_type": "code",
   "execution_count": null,
   "id": "d4b3f23e",
   "metadata": {},
   "outputs": [],
   "source": []
  }
 ],
 "metadata": {
  "kernelspec": {
   "display_name": "Python 3 (ipykernel)",
   "language": "python",
   "name": "python3"
  },
  "language_info": {
   "codemirror_mode": {
    "name": "ipython",
    "version": 3
   },
   "file_extension": ".py",
   "mimetype": "text/x-python",
   "name": "python",
   "nbconvert_exporter": "python",
   "pygments_lexer": "ipython3",
   "version": "3.9.13"
  }
 },
 "nbformat": 4,
 "nbformat_minor": 5
}
