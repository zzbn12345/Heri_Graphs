{
 "cells": [
  {
   "cell_type": "code",
   "execution_count": 1,
   "id": "bf8effa3",
   "metadata": {},
   "outputs": [],
   "source": [
    "import json\n",
    "import pandas as pd\n",
    "import numpy as np\n",
    "from argparse import Namespace\n",
    "from collections import Counter\n",
    "import pickle\n",
    "import os\n",
    "import urllib\n",
    "import networkx as nx"
   ]
  },
  {
   "cell_type": "markdown",
   "id": "c85136ec",
   "metadata": {},
   "source": [
    "## Venezia"
   ]
  },
  {
   "cell_type": "markdown",
   "id": "f280ce8d",
   "metadata": {},
   "source": [
    "### Importing Useful Data"
   ]
  },
  {
   "cell_type": "code",
   "execution_count": 2,
   "id": "92cc8562",
   "metadata": {},
   "outputs": [],
   "source": [
    "GEO_metadata = pd.read_csv('Venezia/data_storage/GEO_metadata.csv', sep='\\t', index_col='Unnamed: 0')"
   ]
  },
  {
   "cell_type": "code",
   "execution_count": 6,
   "id": "8db0cf13",
   "metadata": {},
   "outputs": [
    {
     "data": {
      "text/html": [
       "<div>\n",
       "<style scoped>\n",
       "    .dataframe tbody tr th:only-of-type {\n",
       "        vertical-align: middle;\n",
       "    }\n",
       "\n",
       "    .dataframe tbody tr th {\n",
       "        vertical-align: top;\n",
       "    }\n",
       "\n",
       "    .dataframe thead th {\n",
       "        text-align: right;\n",
       "    }\n",
       "</style>\n",
       "<table border=\"1\" class=\"dataframe\">\n",
       "  <thead>\n",
       "    <tr style=\"text-align: right;\">\n",
       "      <th></th>\n",
       "      <th>y</th>\n",
       "      <th>x</th>\n",
       "      <th>street_count</th>\n",
       "      <th>pr</th>\n",
       "      <th>bc</th>\n",
       "      <th>dg</th>\n",
       "      <th>cl</th>\n",
       "      <th>highway</th>\n",
       "      <th>geometry</th>\n",
       "    </tr>\n",
       "    <tr>\n",
       "      <th>osmid</th>\n",
       "      <th></th>\n",
       "      <th></th>\n",
       "      <th></th>\n",
       "      <th></th>\n",
       "      <th></th>\n",
       "      <th></th>\n",
       "      <th></th>\n",
       "      <th></th>\n",
       "      <th></th>\n",
       "    </tr>\n",
       "  </thead>\n",
       "  <tbody>\n",
       "    <tr>\n",
       "      <th>27178184</th>\n",
       "      <td>45.438197</td>\n",
       "      <td>12.335686</td>\n",
       "      <td>4</td>\n",
       "      <td>0.000197</td>\n",
       "      <td>0.208517</td>\n",
       "      <td>0.001368</td>\n",
       "      <td>0.005999</td>\n",
       "      <td>NaN</td>\n",
       "      <td>POINT (12.3356863 45.4381974)</td>\n",
       "    </tr>\n",
       "    <tr>\n",
       "      <th>764403528</th>\n",
       "      <td>45.438128</td>\n",
       "      <td>12.335605</td>\n",
       "      <td>3</td>\n",
       "      <td>0.000175</td>\n",
       "      <td>0.025767</td>\n",
       "      <td>0.001026</td>\n",
       "      <td>0.005985</td>\n",
       "      <td>NaN</td>\n",
       "      <td>POINT (12.3356054 45.4381284)</td>\n",
       "    </tr>\n",
       "    <tr>\n",
       "      <th>1675825096</th>\n",
       "      <td>45.438233</td>\n",
       "      <td>12.335728</td>\n",
       "      <td>3</td>\n",
       "      <td>0.000186</td>\n",
       "      <td>0.048636</td>\n",
       "      <td>0.001026</td>\n",
       "      <td>0.005990</td>\n",
       "      <td>NaN</td>\n",
       "      <td>POINT (12.3357281 45.4382329)</td>\n",
       "    </tr>\n",
       "    <tr>\n",
       "      <th>8670969688</th>\n",
       "      <td>45.438255</td>\n",
       "      <td>12.335601</td>\n",
       "      <td>3</td>\n",
       "      <td>0.000111</td>\n",
       "      <td>0.207535</td>\n",
       "      <td>0.001026</td>\n",
       "      <td>0.005998</td>\n",
       "      <td>NaN</td>\n",
       "      <td>POINT (12.3356013 45.4382549)</td>\n",
       "    </tr>\n",
       "    <tr>\n",
       "      <th>5395065019</th>\n",
       "      <td>45.438053</td>\n",
       "      <td>12.335932</td>\n",
       "      <td>4</td>\n",
       "      <td>0.000236</td>\n",
       "      <td>0.196443</td>\n",
       "      <td>0.001368</td>\n",
       "      <td>0.006001</td>\n",
       "      <td>NaN</td>\n",
       "      <td>POINT (12.3359319 45.4380532)</td>\n",
       "    </tr>\n",
       "    <tr>\n",
       "      <th>...</th>\n",
       "      <td>...</td>\n",
       "      <td>...</td>\n",
       "      <td>...</td>\n",
       "      <td>...</td>\n",
       "      <td>...</td>\n",
       "      <td>...</td>\n",
       "      <td>...</td>\n",
       "      <td>...</td>\n",
       "      <td>...</td>\n",
       "    </tr>\n",
       "    <tr>\n",
       "      <th>9196476006</th>\n",
       "      <td>45.441902</td>\n",
       "      <td>12.307559</td>\n",
       "      <td>3</td>\n",
       "      <td>0.000119</td>\n",
       "      <td>0.000691</td>\n",
       "      <td>0.001026</td>\n",
       "      <td>0.004071</td>\n",
       "      <td>NaN</td>\n",
       "      <td>POINT (12.3075592 45.4419018)</td>\n",
       "    </tr>\n",
       "    <tr>\n",
       "      <th>9196521176</th>\n",
       "      <td>45.438670</td>\n",
       "      <td>12.326683</td>\n",
       "      <td>1</td>\n",
       "      <td>0.000077</td>\n",
       "      <td>0.000000</td>\n",
       "      <td>0.000342</td>\n",
       "      <td>0.005886</td>\n",
       "      <td>NaN</td>\n",
       "      <td>POINT (12.326683 45.4386701)</td>\n",
       "    </tr>\n",
       "    <tr>\n",
       "      <th>9221655954</th>\n",
       "      <td>45.467211</td>\n",
       "      <td>12.279144</td>\n",
       "      <td>1</td>\n",
       "      <td>0.000030</td>\n",
       "      <td>0.000000</td>\n",
       "      <td>0.000342</td>\n",
       "      <td>0.001992</td>\n",
       "      <td>NaN</td>\n",
       "      <td>POINT (12.2791441 45.467211)</td>\n",
       "    </tr>\n",
       "    <tr>\n",
       "      <th>9379177140</th>\n",
       "      <td>45.432392</td>\n",
       "      <td>12.331032</td>\n",
       "      <td>1</td>\n",
       "      <td>0.000073</td>\n",
       "      <td>0.000000</td>\n",
       "      <td>0.000342</td>\n",
       "      <td>0.005220</td>\n",
       "      <td>NaN</td>\n",
       "      <td>POINT (12.3310316 45.4323915)</td>\n",
       "    </tr>\n",
       "    <tr>\n",
       "      <th>9439079311</th>\n",
       "      <td>45.445912</td>\n",
       "      <td>12.317267</td>\n",
       "      <td>1</td>\n",
       "      <td>0.000130</td>\n",
       "      <td>0.000000</td>\n",
       "      <td>0.000342</td>\n",
       "      <td>0.004516</td>\n",
       "      <td>NaN</td>\n",
       "      <td>POINT (12.3172675 45.4459124)</td>\n",
       "    </tr>\n",
       "  </tbody>\n",
       "</table>\n",
       "<p>5848 rows × 9 columns</p>\n",
       "</div>"
      ],
      "text/plain": [
       "                    y          x  street_count        pr        bc        dg   \n",
       "osmid                                                                          \n",
       "27178184    45.438197  12.335686             4  0.000197  0.208517  0.001368  \\\n",
       "764403528   45.438128  12.335605             3  0.000175  0.025767  0.001026   \n",
       "1675825096  45.438233  12.335728             3  0.000186  0.048636  0.001026   \n",
       "8670969688  45.438255  12.335601             3  0.000111  0.207535  0.001026   \n",
       "5395065019  45.438053  12.335932             4  0.000236  0.196443  0.001368   \n",
       "...               ...        ...           ...       ...       ...       ...   \n",
       "9196476006  45.441902  12.307559             3  0.000119  0.000691  0.001026   \n",
       "9196521176  45.438670  12.326683             1  0.000077  0.000000  0.000342   \n",
       "9221655954  45.467211  12.279144             1  0.000030  0.000000  0.000342   \n",
       "9379177140  45.432392  12.331032             1  0.000073  0.000000  0.000342   \n",
       "9439079311  45.445912  12.317267             1  0.000130  0.000000  0.000342   \n",
       "\n",
       "                  cl highway                       geometry  \n",
       "osmid                                                        \n",
       "27178184    0.005999     NaN  POINT (12.3356863 45.4381974)  \n",
       "764403528   0.005985     NaN  POINT (12.3356054 45.4381284)  \n",
       "1675825096  0.005990     NaN  POINT (12.3357281 45.4382329)  \n",
       "8670969688  0.005998     NaN  POINT (12.3356013 45.4382549)  \n",
       "5395065019  0.006001     NaN  POINT (12.3359319 45.4380532)  \n",
       "...              ...     ...                            ...  \n",
       "9196476006  0.004071     NaN  POINT (12.3075592 45.4419018)  \n",
       "9196521176  0.005886     NaN   POINT (12.326683 45.4386701)  \n",
       "9221655954  0.001992     NaN   POINT (12.2791441 45.467211)  \n",
       "9379177140  0.005220     NaN  POINT (12.3310316 45.4323915)  \n",
       "9439079311  0.004516     NaN  POINT (12.3172675 45.4459124)  \n",
       "\n",
       "[5848 rows x 9 columns]"
      ]
     },
     "execution_count": 6,
     "metadata": {},
     "output_type": "execute_result"
    }
   ],
   "source": [
    "GEO_nodes = pd.read_csv('Venezia/data_storage/GEO_nodes.csv', sep='\\t').set_index('osmid')\n",
    "GEO_nodes"
   ]
  },
  {
   "cell_type": "code",
   "execution_count": 4,
   "id": "47eadde5",
   "metadata": {},
   "outputs": [],
   "source": [
    "social_links = pd.read_csv('Venezia/data_storage/social_links.csv', sep='\\t').rename(columns={'Unnamed: 0': 'User0', \n",
    "                                                                                              'Unnamed: 1': 'User1'})"
   ]
  },
  {
   "cell_type": "code",
   "execution_count": 5,
   "id": "6c742664",
   "metadata": {},
   "outputs": [
    {
     "data": {
      "text/html": [
       "<div>\n",
       "<style scoped>\n",
       "    .dataframe tbody tr th:only-of-type {\n",
       "        vertical-align: middle;\n",
       "    }\n",
       "\n",
       "    .dataframe tbody tr th {\n",
       "        vertical-align: top;\n",
       "    }\n",
       "\n",
       "    .dataframe thead th {\n",
       "        text-align: right;\n",
       "    }\n",
       "</style>\n",
       "<table border=\"1\" class=\"dataframe\">\n",
       "  <thead>\n",
       "    <tr style=\"text-align: right;\">\n",
       "      <th></th>\n",
       "      <th>User0</th>\n",
       "      <th>User1</th>\n",
       "      <th>self</th>\n",
       "      <th>friend</th>\n",
       "      <th>interest</th>\n",
       "      <th>mutual</th>\n",
       "    </tr>\n",
       "  </thead>\n",
       "  <tbody>\n",
       "    <tr>\n",
       "      <th>0</th>\n",
       "      <td>47954272@N06</td>\n",
       "      <td>47954272@N06</td>\n",
       "      <td>1</td>\n",
       "      <td>1</td>\n",
       "      <td>1.000000</td>\n",
       "      <td>True</td>\n",
       "    </tr>\n",
       "    <tr>\n",
       "      <th>1</th>\n",
       "      <td>47954272@N06</td>\n",
       "      <td>64148082@N02</td>\n",
       "      <td>0</td>\n",
       "      <td>False</td>\n",
       "      <td>0.000000</td>\n",
       "      <td>False</td>\n",
       "    </tr>\n",
       "    <tr>\n",
       "      <th>2</th>\n",
       "      <td>47954272@N06</td>\n",
       "      <td>186704588@N07</td>\n",
       "      <td>0</td>\n",
       "      <td>False</td>\n",
       "      <td>0.000000</td>\n",
       "      <td>False</td>\n",
       "    </tr>\n",
       "    <tr>\n",
       "      <th>3</th>\n",
       "      <td>47954272@N06</td>\n",
       "      <td>61033692@N00</td>\n",
       "      <td>0</td>\n",
       "      <td>False</td>\n",
       "      <td>0.000000</td>\n",
       "      <td>False</td>\n",
       "    </tr>\n",
       "    <tr>\n",
       "      <th>4</th>\n",
       "      <td>47954272@N06</td>\n",
       "      <td>69376724@N06</td>\n",
       "      <td>0</td>\n",
       "      <td>False</td>\n",
       "      <td>0.021277</td>\n",
       "      <td>False</td>\n",
       "    </tr>\n",
       "    <tr>\n",
       "      <th>...</th>\n",
       "      <td>...</td>\n",
       "      <td>...</td>\n",
       "      <td>...</td>\n",
       "      <td>...</td>\n",
       "      <td>...</td>\n",
       "      <td>...</td>\n",
       "    </tr>\n",
       "    <tr>\n",
       "      <th>108895</th>\n",
       "      <td>85941441@N04</td>\n",
       "      <td>144576996@N06</td>\n",
       "      <td>0</td>\n",
       "      <td>False</td>\n",
       "      <td>0.000000</td>\n",
       "      <td>False</td>\n",
       "    </tr>\n",
       "    <tr>\n",
       "      <th>108896</th>\n",
       "      <td>85941441@N04</td>\n",
       "      <td>127547040@N07</td>\n",
       "      <td>0</td>\n",
       "      <td>False</td>\n",
       "      <td>0.000000</td>\n",
       "      <td>False</td>\n",
       "    </tr>\n",
       "    <tr>\n",
       "      <th>108897</th>\n",
       "      <td>85941441@N04</td>\n",
       "      <td>87413031@N03</td>\n",
       "      <td>0</td>\n",
       "      <td>False</td>\n",
       "      <td>0.000000</td>\n",
       "      <td>False</td>\n",
       "    </tr>\n",
       "    <tr>\n",
       "      <th>108898</th>\n",
       "      <td>85941441@N04</td>\n",
       "      <td>112273443@N02</td>\n",
       "      <td>0</td>\n",
       "      <td>False</td>\n",
       "      <td>0.000000</td>\n",
       "      <td>False</td>\n",
       "    </tr>\n",
       "    <tr>\n",
       "      <th>108899</th>\n",
       "      <td>85941441@N04</td>\n",
       "      <td>85941441@N04</td>\n",
       "      <td>1</td>\n",
       "      <td>1</td>\n",
       "      <td>1.000000</td>\n",
       "      <td>True</td>\n",
       "    </tr>\n",
       "  </tbody>\n",
       "</table>\n",
       "<p>108900 rows × 6 columns</p>\n",
       "</div>"
      ],
      "text/plain": [
       "               User0          User1  self friend  interest  mutual\n",
       "0       47954272@N06   47954272@N06     1      1  1.000000    True\n",
       "1       47954272@N06   64148082@N02     0  False  0.000000   False\n",
       "2       47954272@N06  186704588@N07     0  False  0.000000   False\n",
       "3       47954272@N06   61033692@N00     0  False  0.000000   False\n",
       "4       47954272@N06   69376724@N06     0  False  0.021277   False\n",
       "...              ...            ...   ...    ...       ...     ...\n",
       "108895  85941441@N04  144576996@N06     0  False  0.000000   False\n",
       "108896  85941441@N04  127547040@N07     0  False  0.000000   False\n",
       "108897  85941441@N04   87413031@N03     0  False  0.000000   False\n",
       "108898  85941441@N04  112273443@N02     0  False  0.000000   False\n",
       "108899  85941441@N04   85941441@N04     1      1  1.000000    True\n",
       "\n",
       "[108900 rows x 6 columns]"
      ]
     },
     "execution_count": 5,
     "metadata": {},
     "output_type": "execute_result"
    }
   ],
   "source": [
    "social_links"
   ]
  },
  {
   "cell_type": "code",
   "execution_count": 11,
   "id": "27d10afb",
   "metadata": {},
   "outputs": [],
   "source": [
    "GEO_node_dist = pd.read_csv('Venezia/data_storage/GEO_node_dist.csv', sep='\\t', index_col='Unnamed: 0')"
   ]
  },
  {
   "cell_type": "code",
   "execution_count": 12,
   "id": "ecbd830c",
   "metadata": {},
   "outputs": [
    {
     "data": {
      "text/html": [
       "<div>\n",
       "<style scoped>\n",
       "    .dataframe tbody tr th:only-of-type {\n",
       "        vertical-align: middle;\n",
       "    }\n",
       "\n",
       "    .dataframe tbody tr th {\n",
       "        vertical-align: top;\n",
       "    }\n",
       "\n",
       "    .dataframe thead th {\n",
       "        text-align: right;\n",
       "    }\n",
       "</style>\n",
       "<table border=\"1\" class=\"dataframe\">\n",
       "  <thead>\n",
       "    <tr style=\"text-align: right;\">\n",
       "      <th></th>\n",
       "      <th>7636418620</th>\n",
       "      <th>1851468091</th>\n",
       "      <th>7887753052</th>\n",
       "      <th>4437784469</th>\n",
       "      <th>27231707</th>\n",
       "      <th>1996193041</th>\n",
       "      <th>1863759288</th>\n",
       "      <th>245128972</th>\n",
       "      <th>3586376601</th>\n",
       "      <th>251147479</th>\n",
       "      <th>...</th>\n",
       "      <th>1833539390</th>\n",
       "      <th>248119073</th>\n",
       "      <th>248776130</th>\n",
       "      <th>1920433297</th>\n",
       "      <th>3586674306</th>\n",
       "      <th>944189412</th>\n",
       "      <th>1327380181</th>\n",
       "      <th>944189121</th>\n",
       "      <th>4471751053</th>\n",
       "      <th>271343269</th>\n",
       "    </tr>\n",
       "  </thead>\n",
       "  <tbody>\n",
       "    <tr>\n",
       "      <th>7636418620</th>\n",
       "      <td>0.0</td>\n",
       "      <td>24.0</td>\n",
       "      <td>206.8</td>\n",
       "      <td>213.1</td>\n",
       "      <td>179.3</td>\n",
       "      <td>310.0</td>\n",
       "      <td>202.0</td>\n",
       "      <td>156.1</td>\n",
       "      <td>122.4</td>\n",
       "      <td>143.3</td>\n",
       "      <td>...</td>\n",
       "      <td>77.2</td>\n",
       "      <td>227.7</td>\n",
       "      <td>203.4</td>\n",
       "      <td>214.4</td>\n",
       "      <td>230.4</td>\n",
       "      <td>327.8</td>\n",
       "      <td>372.2</td>\n",
       "      <td>322.1</td>\n",
       "      <td>69.9</td>\n",
       "      <td>178.1</td>\n",
       "    </tr>\n",
       "    <tr>\n",
       "      <th>1851468091</th>\n",
       "      <td>24.0</td>\n",
       "      <td>0.0</td>\n",
       "      <td>190.0</td>\n",
       "      <td>190.6</td>\n",
       "      <td>160.3</td>\n",
       "      <td>287.5</td>\n",
       "      <td>179.5</td>\n",
       "      <td>133.6</td>\n",
       "      <td>116.8</td>\n",
       "      <td>120.8</td>\n",
       "      <td>...</td>\n",
       "      <td>71.6</td>\n",
       "      <td>208.7</td>\n",
       "      <td>180.9</td>\n",
       "      <td>191.9</td>\n",
       "      <td>207.9</td>\n",
       "      <td>305.3</td>\n",
       "      <td>380.3</td>\n",
       "      <td>299.6</td>\n",
       "      <td>62.0</td>\n",
       "      <td>155.6</td>\n",
       "    </tr>\n",
       "    <tr>\n",
       "      <th>7887753052</th>\n",
       "      <td>206.8</td>\n",
       "      <td>190.0</td>\n",
       "      <td>0.0</td>\n",
       "      <td>43.5</td>\n",
       "      <td>117.3</td>\n",
       "      <td>168.2</td>\n",
       "      <td>32.4</td>\n",
       "      <td>60.4</td>\n",
       "      <td>88.8</td>\n",
       "      <td>75.4</td>\n",
       "      <td>...</td>\n",
       "      <td>154.4</td>\n",
       "      <td>102.0</td>\n",
       "      <td>71.3</td>\n",
       "      <td>78.0</td>\n",
       "      <td>62.0</td>\n",
       "      <td>159.4</td>\n",
       "      <td>570.3</td>\n",
       "      <td>153.7</td>\n",
       "      <td>149.3</td>\n",
       "      <td>53.9</td>\n",
       "    </tr>\n",
       "    <tr>\n",
       "      <th>4437784469</th>\n",
       "      <td>213.1</td>\n",
       "      <td>190.6</td>\n",
       "      <td>43.5</td>\n",
       "      <td>0.0</td>\n",
       "      <td>106.1</td>\n",
       "      <td>135.0</td>\n",
       "      <td>11.1</td>\n",
       "      <td>60.5</td>\n",
       "      <td>100.4</td>\n",
       "      <td>76.0</td>\n",
       "      <td>...</td>\n",
       "      <td>166.0</td>\n",
       "      <td>73.2</td>\n",
       "      <td>48.2</td>\n",
       "      <td>45.2</td>\n",
       "      <td>21.7</td>\n",
       "      <td>119.1</td>\n",
       "      <td>570.9</td>\n",
       "      <td>113.4</td>\n",
       "      <td>160.9</td>\n",
       "      <td>71.2</td>\n",
       "    </tr>\n",
       "    <tr>\n",
       "      <th>27231707</th>\n",
       "      <td>179.3</td>\n",
       "      <td>160.3</td>\n",
       "      <td>117.3</td>\n",
       "      <td>106.1</td>\n",
       "      <td>0.0</td>\n",
       "      <td>152.3</td>\n",
       "      <td>106.3</td>\n",
       "      <td>60.0</td>\n",
       "      <td>142.3</td>\n",
       "      <td>79.0</td>\n",
       "      <td>...</td>\n",
       "      <td>207.9</td>\n",
       "      <td>49.2</td>\n",
       "      <td>60.9</td>\n",
       "      <td>77.1</td>\n",
       "      <td>116.2</td>\n",
       "      <td>202.9</td>\n",
       "      <td>535.6</td>\n",
       "      <td>197.2</td>\n",
       "      <td>177.4</td>\n",
       "      <td>88.3</td>\n",
       "    </tr>\n",
       "    <tr>\n",
       "      <th>...</th>\n",
       "      <td>...</td>\n",
       "      <td>...</td>\n",
       "      <td>...</td>\n",
       "      <td>...</td>\n",
       "      <td>...</td>\n",
       "      <td>...</td>\n",
       "      <td>...</td>\n",
       "      <td>...</td>\n",
       "      <td>...</td>\n",
       "      <td>...</td>\n",
       "      <td>...</td>\n",
       "      <td>...</td>\n",
       "      <td>...</td>\n",
       "      <td>...</td>\n",
       "      <td>...</td>\n",
       "      <td>...</td>\n",
       "      <td>...</td>\n",
       "      <td>...</td>\n",
       "      <td>...</td>\n",
       "      <td>...</td>\n",
       "      <td>...</td>\n",
       "    </tr>\n",
       "    <tr>\n",
       "      <th>944189412</th>\n",
       "      <td>327.8</td>\n",
       "      <td>305.3</td>\n",
       "      <td>159.4</td>\n",
       "      <td>119.1</td>\n",
       "      <td>202.9</td>\n",
       "      <td>185.8</td>\n",
       "      <td>127.0</td>\n",
       "      <td>175.2</td>\n",
       "      <td>216.3</td>\n",
       "      <td>190.7</td>\n",
       "      <td>...</td>\n",
       "      <td>281.9</td>\n",
       "      <td>153.7</td>\n",
       "      <td>150.4</td>\n",
       "      <td>132.4</td>\n",
       "      <td>105.4</td>\n",
       "      <td>0.0</td>\n",
       "      <td>685.6</td>\n",
       "      <td>5.7</td>\n",
       "      <td>276.8</td>\n",
       "      <td>187.1</td>\n",
       "    </tr>\n",
       "    <tr>\n",
       "      <th>1327380181</th>\n",
       "      <td>366.8</td>\n",
       "      <td>373.3</td>\n",
       "      <td>563.3</td>\n",
       "      <td>563.9</td>\n",
       "      <td>528.6</td>\n",
       "      <td>660.8</td>\n",
       "      <td>552.8</td>\n",
       "      <td>506.9</td>\n",
       "      <td>485.1</td>\n",
       "      <td>494.1</td>\n",
       "      <td>...</td>\n",
       "      <td>439.9</td>\n",
       "      <td>577.0</td>\n",
       "      <td>554.2</td>\n",
       "      <td>565.2</td>\n",
       "      <td>581.2</td>\n",
       "      <td>678.6</td>\n",
       "      <td>0.0</td>\n",
       "      <td>672.9</td>\n",
       "      <td>432.6</td>\n",
       "      <td>528.9</td>\n",
       "    </tr>\n",
       "    <tr>\n",
       "      <th>944189121</th>\n",
       "      <td>322.1</td>\n",
       "      <td>299.6</td>\n",
       "      <td>153.7</td>\n",
       "      <td>113.4</td>\n",
       "      <td>197.2</td>\n",
       "      <td>180.1</td>\n",
       "      <td>121.3</td>\n",
       "      <td>169.5</td>\n",
       "      <td>210.6</td>\n",
       "      <td>185.0</td>\n",
       "      <td>...</td>\n",
       "      <td>276.2</td>\n",
       "      <td>148.0</td>\n",
       "      <td>144.7</td>\n",
       "      <td>126.7</td>\n",
       "      <td>99.7</td>\n",
       "      <td>5.7</td>\n",
       "      <td>679.9</td>\n",
       "      <td>0.0</td>\n",
       "      <td>271.1</td>\n",
       "      <td>181.4</td>\n",
       "    </tr>\n",
       "    <tr>\n",
       "      <th>4471751053</th>\n",
       "      <td>69.9</td>\n",
       "      <td>62.0</td>\n",
       "      <td>149.3</td>\n",
       "      <td>160.9</td>\n",
       "      <td>177.4</td>\n",
       "      <td>271.3</td>\n",
       "      <td>149.8</td>\n",
       "      <td>117.4</td>\n",
       "      <td>64.9</td>\n",
       "      <td>104.6</td>\n",
       "      <td>...</td>\n",
       "      <td>51.1</td>\n",
       "      <td>195.4</td>\n",
       "      <td>164.7</td>\n",
       "      <td>175.7</td>\n",
       "      <td>179.4</td>\n",
       "      <td>276.8</td>\n",
       "      <td>439.6</td>\n",
       "      <td>271.1</td>\n",
       "      <td>0.0</td>\n",
       "      <td>121.5</td>\n",
       "    </tr>\n",
       "    <tr>\n",
       "      <th>271343269</th>\n",
       "      <td>178.1</td>\n",
       "      <td>155.6</td>\n",
       "      <td>53.9</td>\n",
       "      <td>71.2</td>\n",
       "      <td>88.3</td>\n",
       "      <td>178.7</td>\n",
       "      <td>60.1</td>\n",
       "      <td>28.3</td>\n",
       "      <td>61.0</td>\n",
       "      <td>41.0</td>\n",
       "      <td>...</td>\n",
       "      <td>126.6</td>\n",
       "      <td>102.8</td>\n",
       "      <td>72.1</td>\n",
       "      <td>83.1</td>\n",
       "      <td>89.7</td>\n",
       "      <td>187.1</td>\n",
       "      <td>535.9</td>\n",
       "      <td>181.4</td>\n",
       "      <td>121.5</td>\n",
       "      <td>0.0</td>\n",
       "    </tr>\n",
       "  </tbody>\n",
       "</table>\n",
       "<p>935 rows × 935 columns</p>\n",
       "</div>"
      ],
      "text/plain": [
       "            7636418620  1851468091  7887753052  4437784469  27231707   \n",
       "7636418620         0.0        24.0       206.8       213.1     179.3  \\\n",
       "1851468091        24.0         0.0       190.0       190.6     160.3   \n",
       "7887753052       206.8       190.0         0.0        43.5     117.3   \n",
       "4437784469       213.1       190.6        43.5         0.0     106.1   \n",
       "27231707         179.3       160.3       117.3       106.1       0.0   \n",
       "...                ...         ...         ...         ...       ...   \n",
       "944189412        327.8       305.3       159.4       119.1     202.9   \n",
       "1327380181       366.8       373.3       563.3       563.9     528.6   \n",
       "944189121        322.1       299.6       153.7       113.4     197.2   \n",
       "4471751053        69.9        62.0       149.3       160.9     177.4   \n",
       "271343269        178.1       155.6        53.9        71.2      88.3   \n",
       "\n",
       "            1996193041  1863759288  245128972  3586376601  251147479  ...   \n",
       "7636418620       310.0       202.0      156.1       122.4      143.3  ...  \\\n",
       "1851468091       287.5       179.5      133.6       116.8      120.8  ...   \n",
       "7887753052       168.2        32.4       60.4        88.8       75.4  ...   \n",
       "4437784469       135.0        11.1       60.5       100.4       76.0  ...   \n",
       "27231707         152.3       106.3       60.0       142.3       79.0  ...   \n",
       "...                ...         ...        ...         ...        ...  ...   \n",
       "944189412        185.8       127.0      175.2       216.3      190.7  ...   \n",
       "1327380181       660.8       552.8      506.9       485.1      494.1  ...   \n",
       "944189121        180.1       121.3      169.5       210.6      185.0  ...   \n",
       "4471751053       271.3       149.8      117.4        64.9      104.6  ...   \n",
       "271343269        178.7        60.1       28.3        61.0       41.0  ...   \n",
       "\n",
       "            1833539390  248119073  248776130  1920433297  3586674306   \n",
       "7636418620        77.2      227.7      203.4       214.4       230.4  \\\n",
       "1851468091        71.6      208.7      180.9       191.9       207.9   \n",
       "7887753052       154.4      102.0       71.3        78.0        62.0   \n",
       "4437784469       166.0       73.2       48.2        45.2        21.7   \n",
       "27231707         207.9       49.2       60.9        77.1       116.2   \n",
       "...                ...        ...        ...         ...         ...   \n",
       "944189412        281.9      153.7      150.4       132.4       105.4   \n",
       "1327380181       439.9      577.0      554.2       565.2       581.2   \n",
       "944189121        276.2      148.0      144.7       126.7        99.7   \n",
       "4471751053        51.1      195.4      164.7       175.7       179.4   \n",
       "271343269        126.6      102.8       72.1        83.1        89.7   \n",
       "\n",
       "            944189412  1327380181  944189121  4471751053  271343269  \n",
       "7636418620      327.8       372.2      322.1        69.9      178.1  \n",
       "1851468091      305.3       380.3      299.6        62.0      155.6  \n",
       "7887753052      159.4       570.3      153.7       149.3       53.9  \n",
       "4437784469      119.1       570.9      113.4       160.9       71.2  \n",
       "27231707        202.9       535.6      197.2       177.4       88.3  \n",
       "...               ...         ...        ...         ...        ...  \n",
       "944189412         0.0       685.6        5.7       276.8      187.1  \n",
       "1327380181      678.6         0.0      672.9       432.6      528.9  \n",
       "944189121         5.7       679.9        0.0       271.1      181.4  \n",
       "4471751053      276.8       439.6      271.1         0.0      121.5  \n",
       "271343269       187.1       535.9      181.4       121.5        0.0  \n",
       "\n",
       "[935 rows x 935 columns]"
      ]
     },
     "execution_count": 12,
     "metadata": {},
     "output_type": "execute_result"
    }
   ],
   "source": [
    "GEO_node_dist"
   ]
  },
  {
   "cell_type": "markdown",
   "id": "58a41e20",
   "metadata": {},
   "source": [
    "## Sparse Matrix Version"
   ]
  },
  {
   "cell_type": "code",
   "execution_count": 8,
   "id": "0fb59233",
   "metadata": {},
   "outputs": [],
   "source": [
    "import scipy"
   ]
  },
  {
   "cell_type": "code",
   "execution_count": 9,
   "id": "dc7515d5",
   "metadata": {},
   "outputs": [
    {
     "data": {
      "text/plain": [
       "935"
      ]
     },
     "execution_count": 9,
     "metadata": {},
     "output_type": "execute_result"
    }
   ],
   "source": [
    "len(GEO_metadata['GEO_node'].unique())"
   ]
  },
  {
   "cell_type": "code",
   "execution_count": 10,
   "id": "bc5d9377",
   "metadata": {},
   "outputs": [],
   "source": [
    "GEO_nodes = GEO_metadata['GEO_node'].unique()"
   ]
  },
  {
   "cell_type": "code",
   "execution_count": 78,
   "id": "f2ecc564",
   "metadata": {},
   "outputs": [],
   "source": [
    "GEO_dict = {GEO_nodes[i]:i for i in range(len(GEO_nodes))}"
   ]
  },
  {
   "cell_type": "code",
   "execution_count": 12,
   "id": "b0587838",
   "metadata": {},
   "outputs": [],
   "source": [
    "GEO_node_dist_s = GEO_node_dist[GEO_nodes.astype(str)].loc[GEO_nodes]"
   ]
  },
  {
   "cell_type": "code",
   "execution_count": 71,
   "id": "2a4868c2",
   "metadata": {},
   "outputs": [],
   "source": [
    "GEO_node_dist_sym = (np.array(GEO_node_dist_s) + np.array(GEO_node_dist_s).T)/2"
   ]
  },
  {
   "cell_type": "code",
   "execution_count": 72,
   "id": "0e499adb",
   "metadata": {},
   "outputs": [
    {
     "data": {
      "text/plain": [
       "array([[  0. ,  24. , 206.8, ..., 322.1,  69.9, 178.1],\n",
       "       [ 24. ,   0. , 190. , ..., 299.6,  62. , 155.6],\n",
       "       [206.8, 190. ,   0. , ..., 153.7, 149.3,  53.9],\n",
       "       ...,\n",
       "       [322.1, 299.6, 153.7, ...,   0. , 271.1, 181.4],\n",
       "       [ 69.9,  62. , 149.3, ..., 271.1,   0. , 121.5],\n",
       "       [178.1, 155.6,  53.9, ..., 181.4, 121.5,   0. ]])"
      ]
     },
     "execution_count": 72,
     "metadata": {},
     "output_type": "execute_result"
    }
   ],
   "source": [
    "GEO_node_dist_sym"
   ]
  },
  {
   "cell_type": "code",
   "execution_count": 74,
   "id": "6a94c345",
   "metadata": {},
   "outputs": [],
   "source": [
    "SPA_dense =  ((20 - GEO_node_dist_sym)/20 * ((GEO_node_dist_sym<20).astype(int)))"
   ]
  },
  {
   "cell_type": "code",
   "execution_count": 75,
   "id": "340d4038",
   "metadata": {},
   "outputs": [],
   "source": [
    "SPA_sparse = scipy.sparse.csr_matrix(SPA_dense)"
   ]
  },
  {
   "cell_type": "code",
   "execution_count": 76,
   "id": "36d46f91",
   "metadata": {},
   "outputs": [
    {
     "data": {
      "text/plain": [
       "array([[1., 0., 0., ..., 0., 0., 0.],\n",
       "       [0., 1., 0., ..., 0., 0., 0.],\n",
       "       [0., 0., 1., ..., 0., 0., 0.],\n",
       "       ...,\n",
       "       [0., 0., 0., ..., 1., 0., 0.],\n",
       "       [0., 0., 0., ..., 0., 1., 0.],\n",
       "       [0., 0., 0., ..., 0., 0., 1.]])"
      ]
     },
     "execution_count": 76,
     "metadata": {},
     "output_type": "execute_result"
    }
   ],
   "source": [
    "SPA_sparse.toarray()"
   ]
  },
  {
   "cell_type": "code",
   "execution_count": 16,
   "id": "48af1cfa",
   "metadata": {},
   "outputs": [],
   "source": [
    "owners = GEO_metadata['owner'].unique()"
   ]
  },
  {
   "cell_type": "code",
   "execution_count": 17,
   "id": "8b7a48ed",
   "metadata": {},
   "outputs": [],
   "source": [
    "social_links['relationship'] = (((social_links['self'].astype(int)*2 + (social_links['friend']=='True').astype(int) + (social_links['interest']>0.05).astype(int))).astype(int))/3"
   ]
  },
  {
   "cell_type": "code",
   "execution_count": 18,
   "id": "dc8330a3",
   "metadata": {},
   "outputs": [
    {
     "data": {
      "text/plain": [
       "0.000000    106358\n",
       "0.333333      2126\n",
       "1.000000       330\n",
       "0.666667        86\n",
       "Name: relationship, dtype: int64"
      ]
     },
     "execution_count": 18,
     "metadata": {},
     "output_type": "execute_result"
    }
   ],
   "source": [
    "social_links['relationship'].value_counts()"
   ]
  },
  {
   "cell_type": "code",
   "execution_count": 19,
   "id": "0fdd52bc",
   "metadata": {},
   "outputs": [],
   "source": [
    "social_links = social_links[social_links['relationship']>0]"
   ]
  },
  {
   "cell_type": "code",
   "execution_count": 20,
   "id": "43a477d8",
   "metadata": {},
   "outputs": [],
   "source": [
    "user_dict = {owners[i]:i for i in range(len(owners))}"
   ]
  },
  {
   "cell_type": "code",
   "execution_count": 21,
   "id": "6a5c637b",
   "metadata": {},
   "outputs": [],
   "source": [
    "row = np.array(social_links['User0'].apply(lambda x: user_dict[x]))\n",
    "col = np.array(social_links['User1'].apply(lambda x: user_dict[x]))\n",
    "data = np.array(social_links['relationship'])"
   ]
  },
  {
   "cell_type": "code",
   "execution_count": 22,
   "id": "6050b966",
   "metadata": {},
   "outputs": [],
   "source": [
    "SOC_sparse = scipy.sparse.coo_matrix((data, (row, col)), shape=(len(owners), len(owners))).tocsr()"
   ]
  },
  {
   "cell_type": "code",
   "execution_count": 23,
   "id": "df4ff4ba",
   "metadata": {},
   "outputs": [
    {
     "data": {
      "text/plain": [
       "array([[1.        , 0.        , 0.        , ..., 0.        , 0.        ,\n",
       "        0.        ],\n",
       "       [0.        , 1.        , 0.        , ..., 0.        , 0.33333333,\n",
       "        0.        ],\n",
       "       [0.        , 0.        , 1.        , ..., 0.        , 0.        ,\n",
       "        0.        ],\n",
       "       ...,\n",
       "       [0.        , 0.        , 0.        , ..., 1.        , 0.        ,\n",
       "        0.        ],\n",
       "       [0.        , 0.33333333, 0.        , ..., 0.        , 1.        ,\n",
       "        0.        ],\n",
       "       [0.        , 0.        , 0.        , ..., 0.        , 0.        ,\n",
       "        1.        ]])"
      ]
     },
     "execution_count": 23,
     "metadata": {},
     "output_type": "execute_result"
    }
   ],
   "source": [
    "SOC_sparse.toarray()"
   ]
  },
  {
   "cell_type": "code",
   "execution_count": 24,
   "id": "114f9ccd",
   "metadata": {},
   "outputs": [],
   "source": [
    "times = sorted(GEO_metadata['adjusted_week'].unique())"
   ]
  },
  {
   "cell_type": "code",
   "execution_count": 25,
   "id": "a5609df7",
   "metadata": {},
   "outputs": [],
   "source": [
    "time_dict = {times[i]:i for i in range(len(times))}"
   ]
  },
  {
   "cell_type": "code",
   "execution_count": 26,
   "id": "283c53d0",
   "metadata": {},
   "outputs": [],
   "source": [
    "from scipy.sparse import diags"
   ]
  },
  {
   "cell_type": "code",
   "execution_count": 27,
   "id": "a7025200",
   "metadata": {},
   "outputs": [],
   "source": [
    "TEM_sparse = diags([0.5, 1, 0.5], [-1, 0, 1], shape=(len(times), len(times))).tocsr()"
   ]
  },
  {
   "cell_type": "code",
   "execution_count": 28,
   "id": "680b8853",
   "metadata": {},
   "outputs": [
    {
     "data": {
      "text/plain": [
       "array([[1. , 0.5, 0. , ..., 0. , 0. , 0. ],\n",
       "       [0.5, 1. , 0.5, ..., 0. , 0. , 0. ],\n",
       "       [0. , 0.5, 1. , ..., 0. , 0. , 0. ],\n",
       "       ...,\n",
       "       [0. , 0. , 0. , ..., 1. , 0.5, 0. ],\n",
       "       [0. , 0. , 0. , ..., 0.5, 1. , 0.5],\n",
       "       [0. , 0. , 0. , ..., 0. , 0.5, 1. ]])"
      ]
     },
     "execution_count": 28,
     "metadata": {},
     "output_type": "execute_result"
    }
   ],
   "source": [
    "TEM_sparse.toarray()"
   ]
  },
  {
   "cell_type": "code",
   "execution_count": 79,
   "id": "52e0d53e",
   "metadata": {},
   "outputs": [
    {
     "data": {
      "text/plain": [
       "0         0\n",
       "1         0\n",
       "2         1\n",
       "3         2\n",
       "4         3\n",
       "       ... \n",
       "2946    278\n",
       "2947    461\n",
       "2948    459\n",
       "2949    932\n",
       "2950    930\n",
       "Name: GEO_node, Length: 2951, dtype: int64"
      ]
     },
     "execution_count": 79,
     "metadata": {},
     "output_type": "execute_result"
    }
   ],
   "source": [
    "SPA = GEO_metadata['GEO_node'].apply(lambda x: GEO_dict[x])\n",
    "SPA"
   ]
  },
  {
   "cell_type": "code",
   "execution_count": 80,
   "id": "f7f8f42d",
   "metadata": {},
   "outputs": [],
   "source": [
    "SPA_enc = scipy.sparse.coo_matrix((np.ones(len(SPA)), (np.array(SPA), range(len(SPA)))), shape=(len(GEO_nodes), len(SPA))).tocsr()"
   ]
  },
  {
   "cell_type": "code",
   "execution_count": 31,
   "id": "fcdcd647",
   "metadata": {},
   "outputs": [
    {
     "data": {
      "text/plain": [
       "array([[1., 1., 0., ..., 0., 0., 0.],\n",
       "       [0., 0., 1., ..., 0., 0., 0.],\n",
       "       [0., 0., 0., ..., 0., 0., 0.],\n",
       "       ...,\n",
       "       [0., 0., 0., ..., 0., 1., 0.],\n",
       "       [0., 0., 0., ..., 0., 0., 0.],\n",
       "       [0., 0., 0., ..., 0., 0., 0.]])"
      ]
     },
     "execution_count": 31,
     "metadata": {},
     "output_type": "execute_result"
    }
   ],
   "source": [
    "SPA_enc.toarray()"
   ]
  },
  {
   "cell_type": "code",
   "execution_count": 32,
   "id": "3762d00d",
   "metadata": {},
   "outputs": [
    {
     "data": {
      "text/plain": [
       "0         0\n",
       "1         0\n",
       "2         0\n",
       "3         1\n",
       "4         2\n",
       "       ... \n",
       "2946    136\n",
       "2947    136\n",
       "2948    136\n",
       "2949    136\n",
       "2950    136\n",
       "Name: owner, Length: 2951, dtype: int64"
      ]
     },
     "execution_count": 32,
     "metadata": {},
     "output_type": "execute_result"
    }
   ],
   "source": [
    "SOC = GEO_metadata['owner'].apply(lambda x: user_dict[x])\n",
    "SOC"
   ]
  },
  {
   "cell_type": "code",
   "execution_count": 33,
   "id": "a0544977",
   "metadata": {},
   "outputs": [],
   "source": [
    "SOC_enc = scipy.sparse.coo_matrix((np.ones(len(SOC)), (np.array(SOC), range(len(SOC)))), shape=(len(owners), len(SOC))).tocsr()"
   ]
  },
  {
   "cell_type": "code",
   "execution_count": 34,
   "id": "23cfc33e",
   "metadata": {},
   "outputs": [
    {
     "data": {
      "text/plain": [
       "0       254\n",
       "1       254\n",
       "2       254\n",
       "3       164\n",
       "4       268\n",
       "       ... \n",
       "2946    234\n",
       "2947    234\n",
       "2948    234\n",
       "2949    234\n",
       "2950    234\n",
       "Name: adjusted_week, Length: 2951, dtype: int64"
      ]
     },
     "execution_count": 34,
     "metadata": {},
     "output_type": "execute_result"
    }
   ],
   "source": [
    "TEM = GEO_metadata['adjusted_week'].apply(lambda x: time_dict[x])\n",
    "TEM"
   ]
  },
  {
   "cell_type": "code",
   "execution_count": 35,
   "id": "83d31c7a",
   "metadata": {},
   "outputs": [],
   "source": [
    "TEM_enc = scipy.sparse.coo_matrix((np.ones(len(TEM)), (np.array(TEM), range(len(TEM)))), shape=(len(times), len(TEM))).tocsr()"
   ]
  },
  {
   "cell_type": "code",
   "execution_count": 81,
   "id": "3ffd9424",
   "metadata": {},
   "outputs": [],
   "source": [
    "A_SPA = SPA_enc.T * SPA_sparse * SPA_enc"
   ]
  },
  {
   "cell_type": "code",
   "execution_count": 82,
   "id": "448bd393",
   "metadata": {},
   "outputs": [
    {
     "data": {
      "text/plain": [
       "<2951x2951 sparse matrix of type '<class 'numpy.float64'>'\n",
       "\twith 445779 stored elements in Compressed Sparse Column format>"
      ]
     },
     "execution_count": 82,
     "metadata": {},
     "output_type": "execute_result"
    }
   ],
   "source": [
    "A_SPA"
   ]
  },
  {
   "cell_type": "code",
   "execution_count": 83,
   "id": "01ad73e5",
   "metadata": {},
   "outputs": [
    {
     "data": {
      "text/plain": [
       "array([[1.   , 1.   , 0.   , ..., 0.   , 0.   , 0.   ],\n",
       "       [1.   , 1.   , 0.   , ..., 0.   , 0.   , 0.   ],\n",
       "       [0.   , 0.   , 1.   , ..., 0.   , 0.   , 0.   ],\n",
       "       ...,\n",
       "       [0.   , 0.   , 0.   , ..., 1.   , 0.3  , 0.405],\n",
       "       [0.   , 0.   , 0.   , ..., 0.3  , 1.   , 0.715],\n",
       "       [0.   , 0.   , 0.   , ..., 0.405, 0.715, 1.   ]])"
      ]
     },
     "execution_count": 83,
     "metadata": {},
     "output_type": "execute_result"
    }
   ],
   "source": [
    "A_SPA.toarray()"
   ]
  },
  {
   "cell_type": "code",
   "execution_count": 39,
   "id": "ae6db396",
   "metadata": {},
   "outputs": [],
   "source": [
    "A_SOC = SOC_enc.T * SOC_sparse * SOC_enc"
   ]
  },
  {
   "cell_type": "code",
   "execution_count": 89,
   "id": "b99ba350",
   "metadata": {},
   "outputs": [
    {
     "data": {
      "text/plain": [
       "<2951x2951 sparse matrix of type '<class 'numpy.float64'>'\n",
       "\twith 488103 stored elements in Compressed Sparse Column format>"
      ]
     },
     "execution_count": 89,
     "metadata": {},
     "output_type": "execute_result"
    }
   ],
   "source": [
    "A_SOC"
   ]
  },
  {
   "cell_type": "code",
   "execution_count": 41,
   "id": "3ff11649",
   "metadata": {},
   "outputs": [],
   "source": [
    "A_TEM = TEM_enc.T * TEM_sparse * TEM_enc"
   ]
  },
  {
   "cell_type": "code",
   "execution_count": 42,
   "id": "b92ac873",
   "metadata": {},
   "outputs": [
    {
     "data": {
      "text/plain": [
       "<2951x2951 sparse matrix of type '<class 'numpy.float64'>'\n",
       "\twith 501191 stored elements in Compressed Sparse Column format>"
      ]
     },
     "execution_count": 42,
     "metadata": {},
     "output_type": "execute_result"
    }
   ],
   "source": [
    "A_TEM"
   ]
  },
  {
   "cell_type": "code",
   "execution_count": 85,
   "id": "9186b5be",
   "metadata": {},
   "outputs": [],
   "source": [
    "A_simp = (((A_SOC>0) + (A_TEM>0) + (A_SPA>0))>0).astype(int)"
   ]
  },
  {
   "cell_type": "code",
   "execution_count": 86,
   "id": "e080a296",
   "metadata": {},
   "outputs": [
    {
     "data": {
      "text/plain": [
       "<2951x2951 sparse matrix of type '<class 'numpy.int64'>'\n",
       "\twith 1071977 stored elements in Compressed Sparse Column format>"
      ]
     },
     "execution_count": 86,
     "metadata": {},
     "output_type": "execute_result"
    }
   ],
   "source": [
    "A_simp"
   ]
  },
  {
   "cell_type": "code",
   "execution_count": 49,
   "id": "c9ca712e",
   "metadata": {},
   "outputs": [
    {
     "data": {
      "text/plain": [
       "array([[1, 1, 1, ..., 0, 0, 0],\n",
       "       [1, 1, 1, ..., 0, 0, 0],\n",
       "       [1, 1, 1, ..., 0, 0, 0],\n",
       "       ...,\n",
       "       [0, 0, 0, ..., 1, 1, 1],\n",
       "       [0, 0, 0, ..., 1, 1, 1],\n",
       "       [0, 0, 0, ..., 1, 1, 1]])"
      ]
     },
     "execution_count": 49,
     "metadata": {},
     "output_type": "execute_result"
    }
   ],
   "source": [
    "A_simp.toarray()"
   ]
  },
  {
   "cell_type": "code",
   "execution_count": 90,
   "id": "fe56d428",
   "metadata": {},
   "outputs": [],
   "source": [
    "scipy.sparse.save_npz('dataset_np/Venice/A_SOC.npz', A_SOC)"
   ]
  },
  {
   "cell_type": "code",
   "execution_count": 91,
   "id": "fccfe9e4",
   "metadata": {},
   "outputs": [],
   "source": [
    "scipy.sparse.save_npz('dataset_np/Venice/A_SPA.npz', A_SPA)"
   ]
  },
  {
   "cell_type": "code",
   "execution_count": 92,
   "id": "eb80982e",
   "metadata": {},
   "outputs": [],
   "source": [
    "scipy.sparse.save_npz('dataset_np/Venice/A_TEM.npz', A_TEM)"
   ]
  },
  {
   "cell_type": "code",
   "execution_count": 93,
   "id": "b509e26d",
   "metadata": {},
   "outputs": [],
   "source": [
    "scipy.sparse.save_npz('dataset_np/Venice/A_simp.npz', A_simp)"
   ]
  },
  {
   "cell_type": "code",
   "execution_count": null,
   "id": "27f968d4",
   "metadata": {},
   "outputs": [],
   "source": []
  }
 ],
 "metadata": {
  "kernelspec": {
   "display_name": "Python 3 (ipykernel)",
   "language": "python",
   "name": "python3"
  },
  "language_info": {
   "codemirror_mode": {
    "name": "ipython",
    "version": 3
   },
   "file_extension": ".py",
   "mimetype": "text/x-python",
   "name": "python",
   "nbconvert_exporter": "python",
   "pygments_lexer": "ipython3",
   "version": "3.9.13"
  }
 },
 "nbformat": 4,
 "nbformat_minor": 5
}
