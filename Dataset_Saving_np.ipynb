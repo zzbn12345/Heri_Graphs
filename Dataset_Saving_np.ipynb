{
 "cells": [
  {
   "cell_type": "code",
   "execution_count": null,
   "id": "dd415ec2",
   "metadata": {},
   "outputs": [],
   "source": [
    "import pandas as pd\n",
    "import os\n",
    "import numpy as np\n",
    "from scipy.sparse import coo_matrix"
   ]
  },
  {
   "cell_type": "markdown",
   "id": "00e36fa4",
   "metadata": {},
   "source": [
    "## Visual Features"
   ]
  },
  {
   "cell_type": "code",
   "execution_count": null,
   "id": "05908bad",
   "metadata": {},
   "outputs": [],
   "source": [
    "def load_labels():\n",
    "    # prepare all the labels\n",
    "    # scene category relevant\n",
    "    file_name_category = 'categories_places365.txt'\n",
    "    if not os.access(file_name_category, os.W_OK):\n",
    "        synset_url = 'https://raw.githubusercontent.com/csailvision/places365/master/categories_places365.txt'\n",
    "        os.system('wget ' + synset_url)\n",
    "    classes = list()\n",
    "    with open(file_name_category) as class_file:\n",
    "        for line in class_file:\n",
    "            classes.append(line.strip().split(' ')[0][3:])\n",
    "    classes = tuple(classes)\n",
    "\n",
    "    # indoor and outdoor relevant\n",
    "    file_name_IO = 'IO_places365.txt'\n",
    "    if not os.access(file_name_IO, os.W_OK):\n",
    "        synset_url = 'https://raw.githubusercontent.com/csailvision/places365/master/IO_places365.txt'\n",
    "        os.system('wget ' + synset_url)\n",
    "    with open(file_name_IO) as f:\n",
    "        lines = f.readlines()\n",
    "        labels_IO = []\n",
    "        for line in lines:\n",
    "            items = line.rstrip().split()\n",
    "            labels_IO.append(int(items[-1]) -1) # 0 is indoor, 1 is outdoor\n",
    "    labels_IO = np.array(labels_IO)\n",
    "\n",
    "    # scene attribute relevant\n",
    "    file_name_attribute = 'labels_sunattribute.txt'\n",
    "    if not os.access(file_name_attribute, os.W_OK):\n",
    "        synset_url = 'https://raw.githubusercontent.com/csailvision/places365/master/labels_sunattribute.txt'\n",
    "        os.system('wget ' + synset_url)\n",
    "    with open(file_name_attribute) as f:\n",
    "        lines = f.readlines()\n",
    "        labels_attribute = [item.rstrip() for item in lines]\n",
    "    file_name_W = 'W_sceneattribute_wideresnet18.npy'\n",
    "    if not os.access(file_name_W, os.W_OK):\n",
    "        synset_url = 'http://places2.csail.mit.edu/models_places365/W_sceneattribute_wideresnet18.npy'\n",
    "        os.system('wget ' + synset_url)\n",
    "    W_attribute = np.load(file_name_W)\n",
    "\n",
    "    return classes, labels_IO, labels_attribute, W_attribute"
   ]
  },
  {
   "cell_type": "code",
   "execution_count": null,
   "id": "125070bd",
   "metadata": {},
   "outputs": [],
   "source": [
    "def idx_to_mat(M, M_ori, ID, k):\n",
    "    row = np.repeat(np.arange(0,len(M))[:,None],k,axis=1).flatten()\n",
    "    col = ID.flatten()\n",
    "    data = M.flatten()\n",
    "    \n",
    "    M_new = coo_matrix((data, (row, col)), shape=M_ori.shape).toarray()\n",
    "    \n",
    "    return M_new"
   ]
  },
  {
   "cell_type": "code",
   "execution_count": null,
   "id": "bac277c7",
   "metadata": {},
   "outputs": [],
   "source": [
    "def k_hot_filter(M, k):\n",
    "    IDX = np.argsort(M,axis=1)\n",
    "    ID = IDX[:,-k:]\n",
    "    ID_rev = IDX[:,:-k]\n",
    "    \n",
    "    R_id = np.take(M,ID, axis=1)\n",
    "    M_id = np.stack([R_id[i,i,:] for i in range(len(M))])\n",
    "    \n",
    "    conf = M_id.sum(axis=1)\n",
    "    \n",
    "    R_rev = np.take(np.ones(M.shape),ID_rev, axis=1)\n",
    "    R_rev_id = np.stack([R_rev[i,i,:] for i in range(len(M))])\n",
    "    M_rev = R_rev_id*(1-conf[:,None])/(M.shape[1]-k)\n",
    "    \n",
    "    M0 = idx_to_mat(M_id, M, ID, k)\n",
    "    M1 = idx_to_mat(M_rev, M, ID_rev, M.shape[1]-k)\n",
    "    \n",
    "    return M0+M1"
   ]
  },
  {
   "cell_type": "code",
   "execution_count": null,
   "id": "6b706f35",
   "metadata": {},
   "outputs": [],
   "source": [
    "classes, labels_IO, labels_attribute, W_attribute = load_labels()"
   ]
  },
  {
   "cell_type": "code",
   "execution_count": null,
   "id": "8e133d30",
   "metadata": {},
   "outputs": [],
   "source": [
    "def take_per_row(A, indx, num_elem=1):\n",
    "    all_indx = indx[:,None] + np.arange(num_elem)\n",
    "    return A[np.arange(all_indx.shape[0])[:,None], all_indx]"
   ]
  },
  {
   "cell_type": "code",
   "execution_count": null,
   "id": "3e8aba5a",
   "metadata": {},
   "outputs": [],
   "source": [
    "VIS_FEAT = pd.read_csv('dataset/Venice/Visual_Features.csv', sep='\\t', index_col='Unnamed: 0')"
   ]
  },
  {
   "cell_type": "code",
   "execution_count": null,
   "id": "a506f2c9",
   "metadata": {},
   "outputs": [],
   "source": [
    "np.save('dataset/Venice/Visual_Features.npy',np.array(VIS_FEAT))"
   ]
  },
  {
   "cell_type": "code",
   "execution_count": null,
   "id": "8f4c4ed6",
   "metadata": {},
   "outputs": [
    {
     "data": {
      "text/plain": [
       "(2951, 984)"
      ]
     },
     "execution_count": 10,
     "metadata": {},
     "output_type": "execute_result"
    }
   ],
   "source": [
    "np.load('dataset/Venice/Visual_Features.npy', allow_pickle=True).shape"
   ]
  },
  {
   "cell_type": "code",
   "execution_count": null,
   "id": "0d10b27a",
   "metadata": {},
   "outputs": [],
   "source": [
    "VIS_FEAT = pd.read_csv('dataset/Venice-XL/Visual_Features.csv', sep='\\t', index_col='Unnamed: 0')"
   ]
  },
  {
   "cell_type": "code",
   "execution_count": null,
   "id": "3931f239",
   "metadata": {},
   "outputs": [],
   "source": [
    "np.save('dataset/Venice-XL/Visual_Features.npy',np.array(VIS_FEAT))"
   ]
  },
  {
   "cell_type": "markdown",
   "id": "f0f2a735",
   "metadata": {},
   "source": [
    "## Textual Features"
   ]
  },
  {
   "cell_type": "code",
   "execution_count": null,
   "id": "d6ed8dbd",
   "metadata": {},
   "outputs": [],
   "source": [
    "TEX_FEAT = pd.read_csv('dataset/Venice/Textual_Features.csv', sep='\\t', index_col='Unnamed: 0')"
   ]
  },
  {
   "cell_type": "code",
   "execution_count": null,
   "id": "eed88176",
   "metadata": {},
   "outputs": [],
   "source": [
    "np.save('dataset_np/Venice/Textual_Features.npy',np.array(TEX_FEAT))"
   ]
  },
  {
   "cell_type": "code",
   "execution_count": null,
   "id": "86e1af84",
   "metadata": {},
   "outputs": [],
   "source": [
    "TEX_FEAT = pd.read_csv('dataset/Venice-XL/Textual_Features.csv', sep='\\t', index_col='Unnamed: 0')"
   ]
  },
  {
   "cell_type": "code",
   "execution_count": null,
   "id": "b28927df",
   "metadata": {},
   "outputs": [],
   "source": [
    "np.save('dataset_np/Venice-XL/Textual_Features.npy',np.array(TEX_FEAT))"
   ]
  },
  {
   "cell_type": "markdown",
   "id": "cb720e84",
   "metadata": {},
   "source": [
    "## Heritage Values and Attributes Labels"
   ]
  },
  {
   "cell_type": "code",
   "execution_count": null,
   "id": "3acdac69",
   "metadata": {},
   "outputs": [],
   "source": [
    "classes = ['Criteria i', 'Criteria ii', 'Criteria iii', 'Criteria iv', 'Criteria v', 'Criteria vi', \n",
    "              'Criteria vii', 'Criteria viii', 'Criteria ix', 'Criteria x', 'Others']"
   ]
  },
  {
   "cell_type": "code",
   "execution_count": null,
   "id": "4fd7ba5d",
   "metadata": {},
   "outputs": [],
   "source": [
    "VAL_LAB = pd.read_csv('dataset/Venice/Value_Labels.csv', sep='\\t', index_col='Unnamed: 0')"
   ]
  },
  {
   "cell_type": "code",
   "execution_count": 3,
   "id": "1a2c90c9",
   "metadata": {},
   "outputs": [],
   "source": [
    "ATT_LAB = pd.read_csv('dataset/Venice/Attribute_Labels.csv', sep='\\t', index_col='Unnamed: 0')"
   ]
  },
  {
   "cell_type": "code",
   "execution_count": 223,
   "id": "43f66444",
   "metadata": {},
   "outputs": [],
   "source": [
    "np.savez('dataset_np/Venice/labels.npz', ATT_LAB=ATT_LAB, VAL_LAB=VAL_LAB)"
   ]
  },
  {
   "cell_type": "code",
   "execution_count": null,
   "id": "70689df9",
   "metadata": {},
   "outputs": [],
   "source": [
    "VAL_LAB = pd.read_csv('dataset/Venice-XL/Value_Labels.csv', sep='\\t', index_col='Unnamed: 0')"
   ]
  },
  {
   "cell_type": "code",
   "execution_count": null,
   "id": "125d6fa7",
   "metadata": {},
   "outputs": [],
   "source": [
    "ATT_LAB = pd.read_csv('dataset/Venice-XL/Attribute_Labels.csv', sep='\\t', index_col='Unnamed: 0')"
   ]
  },
  {
   "cell_type": "code",
   "execution_count": 220,
   "id": "3699169f",
   "metadata": {},
   "outputs": [],
   "source": [
    "np.savez('dataset_np/Venice-XL/labels.npz', ATT_LAB=ATT_LAB, VAL_LAB=VAL_LAB)"
   ]
  },
  {
   "cell_type": "markdown",
   "id": "1d893f4e",
   "metadata": {},
   "source": [
    "## Saving Tags as Numpy"
   ]
  },
  {
   "cell_type": "markdown",
   "id": "0fb6533f",
   "metadata": {},
   "source": [
    "### Node Types"
   ]
  },
  {
   "cell_type": "code",
   "execution_count": 66,
   "id": "11dafd10",
   "metadata": {},
   "outputs": [],
   "source": [
    "node_type = np.array(VAL_LAB['text_bool'].astype(int))"
   ]
  },
  {
   "cell_type": "code",
   "execution_count": 68,
   "id": "0cf340cc",
   "metadata": {},
   "outputs": [
    {
     "data": {
      "text/plain": [
       "(2951,)"
      ]
     },
     "execution_count": 68,
     "metadata": {},
     "output_type": "execute_result"
    }
   ],
   "source": [
    "node_type.shape"
   ]
  },
  {
   "cell_type": "code",
   "execution_count": 69,
   "id": "38adad9f",
   "metadata": {},
   "outputs": [],
   "source": [
    "np.save('dataset_np/Venice/node_types.npy', node_type)"
   ]
  },
  {
   "cell_type": "code",
   "execution_count": 61,
   "id": "63cf8109",
   "metadata": {},
   "outputs": [],
   "source": [
    "np.save('dataset_np/Venice-XL/node_types.npy', node_type)"
   ]
  },
  {
   "cell_type": "code",
   "execution_count": 125,
   "id": "b1fcac65",
   "metadata": {},
   "outputs": [],
   "source": [
    "node_type = np.load('dataset_np/Venice/node_types.npy')"
   ]
  },
  {
   "cell_type": "code",
   "execution_count": 199,
   "id": "3b50a6cb",
   "metadata": {},
   "outputs": [],
   "source": [
    "node_type = np.load('dataset_np/Venice-XL/node_types.npy')"
   ]
  },
  {
   "cell_type": "markdown",
   "id": "6af7223c",
   "metadata": {},
   "source": [
    "### Train_Val_Test_Split"
   ]
  },
  {
   "cell_type": "code",
   "execution_count": 10,
   "id": "5d29db50",
   "metadata": {},
   "outputs": [
    {
     "data": {
      "text/html": [
       "<div>\n",
       "<style scoped>\n",
       "    .dataframe tbody tr th:only-of-type {\n",
       "        vertical-align: middle;\n",
       "    }\n",
       "\n",
       "    .dataframe tbody tr th {\n",
       "        vertical-align: top;\n",
       "    }\n",
       "\n",
       "    .dataframe thead th {\n",
       "        text-align: right;\n",
       "    }\n",
       "</style>\n",
       "<table border=\"1\" class=\"dataframe\">\n",
       "  <thead>\n",
       "    <tr style=\"text-align: right;\">\n",
       "      <th></th>\n",
       "      <th>index</th>\n",
       "      <th>text_bool</th>\n",
       "      <th>Criteria i</th>\n",
       "      <th>Criteria ii</th>\n",
       "      <th>Criteria iii</th>\n",
       "      <th>Criteria iv</th>\n",
       "      <th>Criteria v</th>\n",
       "      <th>Criteria vi</th>\n",
       "      <th>Criteria vii</th>\n",
       "      <th>Criteria viii</th>\n",
       "      <th>...</th>\n",
       "      <th>max_2_col</th>\n",
       "      <th>max_3_val</th>\n",
       "      <th>max_3_col</th>\n",
       "      <th>max_1</th>\n",
       "      <th>max_3</th>\n",
       "      <th>conf_3</th>\n",
       "      <th>conf_1</th>\n",
       "      <th>same_3</th>\n",
       "      <th>same_1</th>\n",
       "      <th>labelled</th>\n",
       "    </tr>\n",
       "  </thead>\n",
       "  <tbody>\n",
       "    <tr>\n",
       "      <th>0</th>\n",
       "      <td>51859675789</td>\n",
       "      <td>True</td>\n",
       "      <td>0.023335</td>\n",
       "      <td>0.00691</td>\n",
       "      <td>0.02033</td>\n",
       "      <td>0.010409</td>\n",
       "      <td>0.003758</td>\n",
       "      <td>0.020427</td>\n",
       "      <td>0.119277</td>\n",
       "      <td>0.21231</td>\n",
       "      <td>...</td>\n",
       "      <td>Criteria x</td>\n",
       "      <td>0.21231</td>\n",
       "      <td>Criteria viii</td>\n",
       "      <td>0.325591</td>\n",
       "      <td>0.78243</td>\n",
       "      <td>0.8486</td>\n",
       "      <td>0.453421</td>\n",
       "      <td>0.5</td>\n",
       "      <td>False</td>\n",
       "      <td>True</td>\n",
       "    </tr>\n",
       "    <tr>\n",
       "      <th>1</th>\n",
       "      <td>51859339946</td>\n",
       "      <td>False</td>\n",
       "      <td>NaN</td>\n",
       "      <td>NaN</td>\n",
       "      <td>NaN</td>\n",
       "      <td>NaN</td>\n",
       "      <td>NaN</td>\n",
       "      <td>NaN</td>\n",
       "      <td>NaN</td>\n",
       "      <td>NaN</td>\n",
       "      <td>...</td>\n",
       "      <td>NaN</td>\n",
       "      <td>NaN</td>\n",
       "      <td>NaN</td>\n",
       "      <td>NaN</td>\n",
       "      <td>NaN</td>\n",
       "      <td>NaN</td>\n",
       "      <td>NaN</td>\n",
       "      <td>NaN</td>\n",
       "      <td>NaN</td>\n",
       "      <td>False</td>\n",
       "    </tr>\n",
       "    <tr>\n",
       "      <th>2</th>\n",
       "      <td>51858385807</td>\n",
       "      <td>False</td>\n",
       "      <td>NaN</td>\n",
       "      <td>NaN</td>\n",
       "      <td>NaN</td>\n",
       "      <td>NaN</td>\n",
       "      <td>NaN</td>\n",
       "      <td>NaN</td>\n",
       "      <td>NaN</td>\n",
       "      <td>NaN</td>\n",
       "      <td>...</td>\n",
       "      <td>NaN</td>\n",
       "      <td>NaN</td>\n",
       "      <td>NaN</td>\n",
       "      <td>NaN</td>\n",
       "      <td>NaN</td>\n",
       "      <td>NaN</td>\n",
       "      <td>NaN</td>\n",
       "      <td>NaN</td>\n",
       "      <td>NaN</td>\n",
       "      <td>False</td>\n",
       "    </tr>\n",
       "    <tr>\n",
       "      <th>3</th>\n",
       "      <td>51859339546</td>\n",
       "      <td>False</td>\n",
       "      <td>NaN</td>\n",
       "      <td>NaN</td>\n",
       "      <td>NaN</td>\n",
       "      <td>NaN</td>\n",
       "      <td>NaN</td>\n",
       "      <td>NaN</td>\n",
       "      <td>NaN</td>\n",
       "      <td>NaN</td>\n",
       "      <td>...</td>\n",
       "      <td>NaN</td>\n",
       "      <td>NaN</td>\n",
       "      <td>NaN</td>\n",
       "      <td>NaN</td>\n",
       "      <td>NaN</td>\n",
       "      <td>NaN</td>\n",
       "      <td>NaN</td>\n",
       "      <td>NaN</td>\n",
       "      <td>NaN</td>\n",
       "      <td>False</td>\n",
       "    </tr>\n",
       "    <tr>\n",
       "      <th>4</th>\n",
       "      <td>51858385377</td>\n",
       "      <td>False</td>\n",
       "      <td>NaN</td>\n",
       "      <td>NaN</td>\n",
       "      <td>NaN</td>\n",
       "      <td>NaN</td>\n",
       "      <td>NaN</td>\n",
       "      <td>NaN</td>\n",
       "      <td>NaN</td>\n",
       "      <td>NaN</td>\n",
       "      <td>...</td>\n",
       "      <td>NaN</td>\n",
       "      <td>NaN</td>\n",
       "      <td>NaN</td>\n",
       "      <td>NaN</td>\n",
       "      <td>NaN</td>\n",
       "      <td>NaN</td>\n",
       "      <td>NaN</td>\n",
       "      <td>NaN</td>\n",
       "      <td>NaN</td>\n",
       "      <td>False</td>\n",
       "    </tr>\n",
       "    <tr>\n",
       "      <th>...</th>\n",
       "      <td>...</td>\n",
       "      <td>...</td>\n",
       "      <td>...</td>\n",
       "      <td>...</td>\n",
       "      <td>...</td>\n",
       "      <td>...</td>\n",
       "      <td>...</td>\n",
       "      <td>...</td>\n",
       "      <td>...</td>\n",
       "      <td>...</td>\n",
       "      <td>...</td>\n",
       "      <td>...</td>\n",
       "      <td>...</td>\n",
       "      <td>...</td>\n",
       "      <td>...</td>\n",
       "      <td>...</td>\n",
       "      <td>...</td>\n",
       "      <td>...</td>\n",
       "      <td>...</td>\n",
       "      <td>...</td>\n",
       "      <td>...</td>\n",
       "    </tr>\n",
       "    <tr>\n",
       "      <th>3132</th>\n",
       "      <td>38397950426</td>\n",
       "      <td>False</td>\n",
       "      <td>NaN</td>\n",
       "      <td>NaN</td>\n",
       "      <td>NaN</td>\n",
       "      <td>NaN</td>\n",
       "      <td>NaN</td>\n",
       "      <td>NaN</td>\n",
       "      <td>NaN</td>\n",
       "      <td>NaN</td>\n",
       "      <td>...</td>\n",
       "      <td>NaN</td>\n",
       "      <td>NaN</td>\n",
       "      <td>NaN</td>\n",
       "      <td>NaN</td>\n",
       "      <td>NaN</td>\n",
       "      <td>NaN</td>\n",
       "      <td>NaN</td>\n",
       "      <td>NaN</td>\n",
       "      <td>NaN</td>\n",
       "      <td>False</td>\n",
       "    </tr>\n",
       "    <tr>\n",
       "      <th>3133</th>\n",
       "      <td>38397948496</td>\n",
       "      <td>False</td>\n",
       "      <td>NaN</td>\n",
       "      <td>NaN</td>\n",
       "      <td>NaN</td>\n",
       "      <td>NaN</td>\n",
       "      <td>NaN</td>\n",
       "      <td>NaN</td>\n",
       "      <td>NaN</td>\n",
       "      <td>NaN</td>\n",
       "      <td>...</td>\n",
       "      <td>NaN</td>\n",
       "      <td>NaN</td>\n",
       "      <td>NaN</td>\n",
       "      <td>NaN</td>\n",
       "      <td>NaN</td>\n",
       "      <td>NaN</td>\n",
       "      <td>NaN</td>\n",
       "      <td>NaN</td>\n",
       "      <td>NaN</td>\n",
       "      <td>False</td>\n",
       "    </tr>\n",
       "    <tr>\n",
       "      <th>3134</th>\n",
       "      <td>38454117381</td>\n",
       "      <td>False</td>\n",
       "      <td>NaN</td>\n",
       "      <td>NaN</td>\n",
       "      <td>NaN</td>\n",
       "      <td>NaN</td>\n",
       "      <td>NaN</td>\n",
       "      <td>NaN</td>\n",
       "      <td>NaN</td>\n",
       "      <td>NaN</td>\n",
       "      <td>...</td>\n",
       "      <td>NaN</td>\n",
       "      <td>NaN</td>\n",
       "      <td>NaN</td>\n",
       "      <td>NaN</td>\n",
       "      <td>NaN</td>\n",
       "      <td>NaN</td>\n",
       "      <td>NaN</td>\n",
       "      <td>NaN</td>\n",
       "      <td>NaN</td>\n",
       "      <td>False</td>\n",
       "    </tr>\n",
       "    <tr>\n",
       "      <th>3135</th>\n",
       "      <td>38397940256</td>\n",
       "      <td>False</td>\n",
       "      <td>NaN</td>\n",
       "      <td>NaN</td>\n",
       "      <td>NaN</td>\n",
       "      <td>NaN</td>\n",
       "      <td>NaN</td>\n",
       "      <td>NaN</td>\n",
       "      <td>NaN</td>\n",
       "      <td>NaN</td>\n",
       "      <td>...</td>\n",
       "      <td>NaN</td>\n",
       "      <td>NaN</td>\n",
       "      <td>NaN</td>\n",
       "      <td>NaN</td>\n",
       "      <td>NaN</td>\n",
       "      <td>NaN</td>\n",
       "      <td>NaN</td>\n",
       "      <td>NaN</td>\n",
       "      <td>NaN</td>\n",
       "      <td>False</td>\n",
       "    </tr>\n",
       "    <tr>\n",
       "      <th>3136</th>\n",
       "      <td>50150116276</td>\n",
       "      <td>False</td>\n",
       "      <td>NaN</td>\n",
       "      <td>NaN</td>\n",
       "      <td>NaN</td>\n",
       "      <td>NaN</td>\n",
       "      <td>NaN</td>\n",
       "      <td>NaN</td>\n",
       "      <td>NaN</td>\n",
       "      <td>NaN</td>\n",
       "      <td>...</td>\n",
       "      <td>NaN</td>\n",
       "      <td>NaN</td>\n",
       "      <td>NaN</td>\n",
       "      <td>NaN</td>\n",
       "      <td>NaN</td>\n",
       "      <td>NaN</td>\n",
       "      <td>NaN</td>\n",
       "      <td>NaN</td>\n",
       "      <td>NaN</td>\n",
       "      <td>False</td>\n",
       "    </tr>\n",
       "  </tbody>\n",
       "</table>\n",
       "<p>3137 rows × 26 columns</p>\n",
       "</div>"
      ],
      "text/plain": [
       "            index  text_bool  Criteria i  Criteria ii  Criteria iii  \\\n",
       "0     51859675789       True    0.023335      0.00691       0.02033   \n",
       "1     51859339946      False         NaN          NaN           NaN   \n",
       "2     51858385807      False         NaN          NaN           NaN   \n",
       "3     51859339546      False         NaN          NaN           NaN   \n",
       "4     51858385377      False         NaN          NaN           NaN   \n",
       "...           ...        ...         ...          ...           ...   \n",
       "3132  38397950426      False         NaN          NaN           NaN   \n",
       "3133  38397948496      False         NaN          NaN           NaN   \n",
       "3134  38454117381      False         NaN          NaN           NaN   \n",
       "3135  38397940256      False         NaN          NaN           NaN   \n",
       "3136  50150116276      False         NaN          NaN           NaN   \n",
       "\n",
       "      Criteria iv  Criteria v  Criteria vi  Criteria vii  Criteria viii  ...  \\\n",
       "0        0.010409    0.003758     0.020427      0.119277        0.21231  ...   \n",
       "1             NaN         NaN          NaN           NaN            NaN  ...   \n",
       "2             NaN         NaN          NaN           NaN            NaN  ...   \n",
       "3             NaN         NaN          NaN           NaN            NaN  ...   \n",
       "4             NaN         NaN          NaN           NaN            NaN  ...   \n",
       "...           ...         ...          ...           ...            ...  ...   \n",
       "3132          NaN         NaN          NaN           NaN            NaN  ...   \n",
       "3133          NaN         NaN          NaN           NaN            NaN  ...   \n",
       "3134          NaN         NaN          NaN           NaN            NaN  ...   \n",
       "3135          NaN         NaN          NaN           NaN            NaN  ...   \n",
       "3136          NaN         NaN          NaN           NaN            NaN  ...   \n",
       "\n",
       "       max_2_col  max_3_val      max_3_col     max_1    max_3  conf_3  \\\n",
       "0     Criteria x    0.21231  Criteria viii  0.325591  0.78243  0.8486   \n",
       "1            NaN        NaN            NaN       NaN      NaN     NaN   \n",
       "2            NaN        NaN            NaN       NaN      NaN     NaN   \n",
       "3            NaN        NaN            NaN       NaN      NaN     NaN   \n",
       "4            NaN        NaN            NaN       NaN      NaN     NaN   \n",
       "...          ...        ...            ...       ...      ...     ...   \n",
       "3132         NaN        NaN            NaN       NaN      NaN     NaN   \n",
       "3133         NaN        NaN            NaN       NaN      NaN     NaN   \n",
       "3134         NaN        NaN            NaN       NaN      NaN     NaN   \n",
       "3135         NaN        NaN            NaN       NaN      NaN     NaN   \n",
       "3136         NaN        NaN            NaN       NaN      NaN     NaN   \n",
       "\n",
       "        conf_1  same_3 same_1  labelled  \n",
       "0     0.453421     0.5  False      True  \n",
       "1          NaN     NaN    NaN     False  \n",
       "2          NaN     NaN    NaN     False  \n",
       "3          NaN     NaN    NaN     False  \n",
       "4          NaN     NaN    NaN     False  \n",
       "...        ...     ...    ...       ...  \n",
       "3132       NaN     NaN    NaN     False  \n",
       "3133       NaN     NaN    NaN     False  \n",
       "3134       NaN     NaN    NaN     False  \n",
       "3135       NaN     NaN    NaN     False  \n",
       "3136       NaN     NaN    NaN     False  \n",
       "\n",
       "[3137 rows x 26 columns]"
      ]
     },
     "execution_count": 10,
     "metadata": {},
     "output_type": "execute_result"
    }
   ],
   "source": [
    "VAL_LAB"
   ]
  },
  {
   "cell_type": "code",
   "execution_count": 11,
   "id": "a616375c",
   "metadata": {},
   "outputs": [
    {
     "data": {
      "text/html": [
       "<div>\n",
       "<style scoped>\n",
       "    .dataframe tbody tr th:only-of-type {\n",
       "        vertical-align: middle;\n",
       "    }\n",
       "\n",
       "    .dataframe tbody tr th {\n",
       "        vertical-align: top;\n",
       "    }\n",
       "\n",
       "    .dataframe thead th {\n",
       "        text-align: right;\n",
       "    }\n",
       "</style>\n",
       "<table border=\"1\" class=\"dataframe\">\n",
       "  <thead>\n",
       "    <tr style=\"text-align: right;\">\n",
       "      <th></th>\n",
       "      <th>ID</th>\n",
       "      <th>Building Elements</th>\n",
       "      <th>Urban Form Elements</th>\n",
       "      <th>Gastronomy</th>\n",
       "      <th>Interior Scenery</th>\n",
       "      <th>Natural Features and Land-scape Scenery</th>\n",
       "      <th>Monuments and Buildings</th>\n",
       "      <th>People’s Activity and Association</th>\n",
       "      <th>Artifact Products</th>\n",
       "      <th>Urban Scenery</th>\n",
       "      <th>category</th>\n",
       "      <th>category_id</th>\n",
       "      <th>category_vote</th>\n",
       "      <th>cat_id_vote</th>\n",
       "      <th>category_stack</th>\n",
       "      <th>cat_id_stack</th>\n",
       "      <th>conf</th>\n",
       "      <th>category_same</th>\n",
       "      <th>labelled</th>\n",
       "    </tr>\n",
       "  </thead>\n",
       "  <tbody>\n",
       "    <tr>\n",
       "      <th>0</th>\n",
       "      <td>23903381607</td>\n",
       "      <td>0.036499</td>\n",
       "      <td>0.056327</td>\n",
       "      <td>0.009916</td>\n",
       "      <td>0.784756</td>\n",
       "      <td>0.008825</td>\n",
       "      <td>0.013589</td>\n",
       "      <td>0.051456</td>\n",
       "      <td>0.033642</td>\n",
       "      <td>0.004991</td>\n",
       "      <td>interior</td>\n",
       "      <td>3</td>\n",
       "      <td>interior</td>\n",
       "      <td>3</td>\n",
       "      <td>interior</td>\n",
       "      <td>3</td>\n",
       "      <td>0.784756</td>\n",
       "      <td>True</td>\n",
       "      <td>True</td>\n",
       "    </tr>\n",
       "    <tr>\n",
       "      <th>1</th>\n",
       "      <td>23903645987</td>\n",
       "      <td>0.040601</td>\n",
       "      <td>0.625583</td>\n",
       "      <td>0.040528</td>\n",
       "      <td>0.023794</td>\n",
       "      <td>0.008027</td>\n",
       "      <td>0.038982</td>\n",
       "      <td>0.196209</td>\n",
       "      <td>0.013067</td>\n",
       "      <td>0.013209</td>\n",
       "      <td>form</td>\n",
       "      <td>1</td>\n",
       "      <td>form</td>\n",
       "      <td>1</td>\n",
       "      <td>form</td>\n",
       "      <td>1</td>\n",
       "      <td>0.625583</td>\n",
       "      <td>True</td>\n",
       "      <td>False</td>\n",
       "    </tr>\n",
       "    <tr>\n",
       "      <th>2</th>\n",
       "      <td>23919231927</td>\n",
       "      <td>0.073656</td>\n",
       "      <td>0.355539</td>\n",
       "      <td>0.029174</td>\n",
       "      <td>0.022502</td>\n",
       "      <td>0.358969</td>\n",
       "      <td>0.026122</td>\n",
       "      <td>0.086723</td>\n",
       "      <td>0.018699</td>\n",
       "      <td>0.028617</td>\n",
       "      <td>NaN</td>\n",
       "      <td>-1</td>\n",
       "      <td>landscape scenery and natural features</td>\n",
       "      <td>4</td>\n",
       "      <td>form</td>\n",
       "      <td>1</td>\n",
       "      <td>0.481422</td>\n",
       "      <td>False</td>\n",
       "      <td>False</td>\n",
       "    </tr>\n",
       "    <tr>\n",
       "      <th>3</th>\n",
       "      <td>23940920237</td>\n",
       "      <td>0.243404</td>\n",
       "      <td>0.300955</td>\n",
       "      <td>0.013184</td>\n",
       "      <td>0.188603</td>\n",
       "      <td>0.008440</td>\n",
       "      <td>0.129352</td>\n",
       "      <td>0.033844</td>\n",
       "      <td>0.074431</td>\n",
       "      <td>0.007787</td>\n",
       "      <td>NaN</td>\n",
       "      <td>-1</td>\n",
       "      <td>architectural elements</td>\n",
       "      <td>0</td>\n",
       "      <td>form</td>\n",
       "      <td>1</td>\n",
       "      <td>0.365565</td>\n",
       "      <td>False</td>\n",
       "      <td>False</td>\n",
       "    </tr>\n",
       "    <tr>\n",
       "      <th>4</th>\n",
       "      <td>23952125997</td>\n",
       "      <td>0.044220</td>\n",
       "      <td>0.017232</td>\n",
       "      <td>0.009817</td>\n",
       "      <td>0.842258</td>\n",
       "      <td>0.004573</td>\n",
       "      <td>0.003968</td>\n",
       "      <td>0.038865</td>\n",
       "      <td>0.035273</td>\n",
       "      <td>0.003794</td>\n",
       "      <td>interior</td>\n",
       "      <td>3</td>\n",
       "      <td>interior</td>\n",
       "      <td>3</td>\n",
       "      <td>interior</td>\n",
       "      <td>3</td>\n",
       "      <td>0.842258</td>\n",
       "      <td>True</td>\n",
       "      <td>True</td>\n",
       "    </tr>\n",
       "    <tr>\n",
       "      <th>...</th>\n",
       "      <td>...</td>\n",
       "      <td>...</td>\n",
       "      <td>...</td>\n",
       "      <td>...</td>\n",
       "      <td>...</td>\n",
       "      <td>...</td>\n",
       "      <td>...</td>\n",
       "      <td>...</td>\n",
       "      <td>...</td>\n",
       "      <td>...</td>\n",
       "      <td>...</td>\n",
       "      <td>...</td>\n",
       "      <td>...</td>\n",
       "      <td>...</td>\n",
       "      <td>...</td>\n",
       "      <td>...</td>\n",
       "      <td>...</td>\n",
       "      <td>...</td>\n",
       "      <td>...</td>\n",
       "    </tr>\n",
       "    <tr>\n",
       "      <th>3132</th>\n",
       "      <td>51859424958</td>\n",
       "      <td>0.266205</td>\n",
       "      <td>0.078821</td>\n",
       "      <td>0.007417</td>\n",
       "      <td>0.014943</td>\n",
       "      <td>0.073707</td>\n",
       "      <td>0.445106</td>\n",
       "      <td>0.022718</td>\n",
       "      <td>0.011466</td>\n",
       "      <td>0.079618</td>\n",
       "      <td>monuments</td>\n",
       "      <td>5</td>\n",
       "      <td>monuments</td>\n",
       "      <td>5</td>\n",
       "      <td>monuments</td>\n",
       "      <td>5</td>\n",
       "      <td>0.445106</td>\n",
       "      <td>True</td>\n",
       "      <td>False</td>\n",
       "    </tr>\n",
       "    <tr>\n",
       "      <th>3133</th>\n",
       "      <td>51859673444</td>\n",
       "      <td>0.158670</td>\n",
       "      <td>0.634293</td>\n",
       "      <td>0.016275</td>\n",
       "      <td>0.019310</td>\n",
       "      <td>0.014877</td>\n",
       "      <td>0.074055</td>\n",
       "      <td>0.056887</td>\n",
       "      <td>0.010266</td>\n",
       "      <td>0.015369</td>\n",
       "      <td>form</td>\n",
       "      <td>1</td>\n",
       "      <td>form</td>\n",
       "      <td>1</td>\n",
       "      <td>form</td>\n",
       "      <td>1</td>\n",
       "      <td>0.634293</td>\n",
       "      <td>True</td>\n",
       "      <td>False</td>\n",
       "    </tr>\n",
       "    <tr>\n",
       "      <th>3134</th>\n",
       "      <td>51859675789</td>\n",
       "      <td>0.370720</td>\n",
       "      <td>0.309098</td>\n",
       "      <td>0.009464</td>\n",
       "      <td>0.033456</td>\n",
       "      <td>0.141545</td>\n",
       "      <td>0.047814</td>\n",
       "      <td>0.069930</td>\n",
       "      <td>0.010328</td>\n",
       "      <td>0.007645</td>\n",
       "      <td>NaN</td>\n",
       "      <td>-1</td>\n",
       "      <td>architectural elements</td>\n",
       "      <td>0</td>\n",
       "      <td>form</td>\n",
       "      <td>1</td>\n",
       "      <td>0.435263</td>\n",
       "      <td>False</td>\n",
       "      <td>False</td>\n",
       "    </tr>\n",
       "    <tr>\n",
       "      <th>3135</th>\n",
       "      <td>51859999785</td>\n",
       "      <td>0.064675</td>\n",
       "      <td>0.553818</td>\n",
       "      <td>0.009878</td>\n",
       "      <td>0.009191</td>\n",
       "      <td>0.066401</td>\n",
       "      <td>0.222615</td>\n",
       "      <td>0.038820</td>\n",
       "      <td>0.006277</td>\n",
       "      <td>0.028325</td>\n",
       "      <td>form</td>\n",
       "      <td>1</td>\n",
       "      <td>form</td>\n",
       "      <td>1</td>\n",
       "      <td>form</td>\n",
       "      <td>1</td>\n",
       "      <td>0.553818</td>\n",
       "      <td>True</td>\n",
       "      <td>False</td>\n",
       "    </tr>\n",
       "    <tr>\n",
       "      <th>3136</th>\n",
       "      <td>51860000170</td>\n",
       "      <td>0.442481</td>\n",
       "      <td>0.252802</td>\n",
       "      <td>0.007370</td>\n",
       "      <td>0.037718</td>\n",
       "      <td>0.062420</td>\n",
       "      <td>0.138651</td>\n",
       "      <td>0.039391</td>\n",
       "      <td>0.010695</td>\n",
       "      <td>0.008471</td>\n",
       "      <td>architectural elements</td>\n",
       "      <td>0</td>\n",
       "      <td>architectural elements</td>\n",
       "      <td>0</td>\n",
       "      <td>architectural elements</td>\n",
       "      <td>0</td>\n",
       "      <td>0.442481</td>\n",
       "      <td>True</td>\n",
       "      <td>False</td>\n",
       "    </tr>\n",
       "  </tbody>\n",
       "</table>\n",
       "<p>3137 rows × 19 columns</p>\n",
       "</div>"
      ],
      "text/plain": [
       "               ID  Building Elements  Urban Form Elements  Gastronomy  \\\n",
       "0     23903381607           0.036499             0.056327    0.009916   \n",
       "1     23903645987           0.040601             0.625583    0.040528   \n",
       "2     23919231927           0.073656             0.355539    0.029174   \n",
       "3     23940920237           0.243404             0.300955    0.013184   \n",
       "4     23952125997           0.044220             0.017232    0.009817   \n",
       "...           ...                ...                  ...         ...   \n",
       "3132  51859424958           0.266205             0.078821    0.007417   \n",
       "3133  51859673444           0.158670             0.634293    0.016275   \n",
       "3134  51859675789           0.370720             0.309098    0.009464   \n",
       "3135  51859999785           0.064675             0.553818    0.009878   \n",
       "3136  51860000170           0.442481             0.252802    0.007370   \n",
       "\n",
       "      Interior Scenery  Natural Features and Land-scape Scenery  \\\n",
       "0             0.784756                                 0.008825   \n",
       "1             0.023794                                 0.008027   \n",
       "2             0.022502                                 0.358969   \n",
       "3             0.188603                                 0.008440   \n",
       "4             0.842258                                 0.004573   \n",
       "...                ...                                      ...   \n",
       "3132          0.014943                                 0.073707   \n",
       "3133          0.019310                                 0.014877   \n",
       "3134          0.033456                                 0.141545   \n",
       "3135          0.009191                                 0.066401   \n",
       "3136          0.037718                                 0.062420   \n",
       "\n",
       "      Monuments and Buildings  People’s Activity and Association  \\\n",
       "0                    0.013589                           0.051456   \n",
       "1                    0.038982                           0.196209   \n",
       "2                    0.026122                           0.086723   \n",
       "3                    0.129352                           0.033844   \n",
       "4                    0.003968                           0.038865   \n",
       "...                       ...                                ...   \n",
       "3132                 0.445106                           0.022718   \n",
       "3133                 0.074055                           0.056887   \n",
       "3134                 0.047814                           0.069930   \n",
       "3135                 0.222615                           0.038820   \n",
       "3136                 0.138651                           0.039391   \n",
       "\n",
       "      Artifact Products  Urban Scenery                category  category_id  \\\n",
       "0              0.033642       0.004991                interior            3   \n",
       "1              0.013067       0.013209                    form            1   \n",
       "2              0.018699       0.028617                     NaN           -1   \n",
       "3              0.074431       0.007787                     NaN           -1   \n",
       "4              0.035273       0.003794                interior            3   \n",
       "...                 ...            ...                     ...          ...   \n",
       "3132           0.011466       0.079618               monuments            5   \n",
       "3133           0.010266       0.015369                    form            1   \n",
       "3134           0.010328       0.007645                     NaN           -1   \n",
       "3135           0.006277       0.028325                    form            1   \n",
       "3136           0.010695       0.008471  architectural elements            0   \n",
       "\n",
       "                               category_vote  cat_id_vote  \\\n",
       "0                                   interior            3   \n",
       "1                                       form            1   \n",
       "2     landscape scenery and natural features            4   \n",
       "3                     architectural elements            0   \n",
       "4                                   interior            3   \n",
       "...                                      ...          ...   \n",
       "3132                               monuments            5   \n",
       "3133                                    form            1   \n",
       "3134                  architectural elements            0   \n",
       "3135                                    form            1   \n",
       "3136                  architectural elements            0   \n",
       "\n",
       "              category_stack  cat_id_stack      conf  category_same  labelled  \n",
       "0                   interior             3  0.784756           True      True  \n",
       "1                       form             1  0.625583           True     False  \n",
       "2                       form             1  0.481422          False     False  \n",
       "3                       form             1  0.365565          False     False  \n",
       "4                   interior             3  0.842258           True      True  \n",
       "...                      ...           ...       ...            ...       ...  \n",
       "3132               monuments             5  0.445106           True     False  \n",
       "3133                    form             1  0.634293           True     False  \n",
       "3134                    form             1  0.435263          False     False  \n",
       "3135                    form             1  0.553818           True     False  \n",
       "3136  architectural elements             0  0.442481           True     False  \n",
       "\n",
       "[3137 rows x 19 columns]"
      ]
     },
     "execution_count": 11,
     "metadata": {},
     "output_type": "execute_result"
    }
   ],
   "source": [
    "ATT_LAB"
   ]
  },
  {
   "cell_type": "code",
   "execution_count": 77,
   "id": "5886d760",
   "metadata": {},
   "outputs": [
    {
     "data": {
      "text/plain": [
       "(756, 1356, 361)"
      ]
     },
     "execution_count": 77,
     "metadata": {},
     "output_type": "execute_result"
    }
   ],
   "source": [
    "sum(VAL_LAB['labelled']), sum(ATT_LAB['labelled']), sum(ATT_LAB['labelled'] & VAL_LAB['labelled'])"
   ]
  },
  {
   "cell_type": "code",
   "execution_count": 7,
   "id": "d2fa426d",
   "metadata": {},
   "outputs": [
    {
     "data": {
      "text/plain": [
       "(1247, 1825, 639)"
      ]
     },
     "execution_count": 7,
     "metadata": {},
     "output_type": "execute_result"
    }
   ],
   "source": [
    "sum(VAL_LAB['labelled']), sum(ATT_LAB['labelled']), sum(ATT_LAB['labelled'] & VAL_LAB['labelled'])"
   ]
  },
  {
   "cell_type": "code",
   "execution_count": 12,
   "id": "42a21d76",
   "metadata": {},
   "outputs": [
    {
     "data": {
      "text/plain": [
       "(322, 1151, 118)"
      ]
     },
     "execution_count": 12,
     "metadata": {},
     "output_type": "execute_result"
    }
   ],
   "source": [
    "sum(VAL_LAB['labelled']), sum(ATT_LAB['labelled']), sum(ATT_LAB['labelled'] & VAL_LAB['labelled'])"
   ]
  },
  {
   "cell_type": "code",
   "execution_count": 41,
   "id": "006ee24c",
   "metadata": {},
   "outputs": [
    {
     "data": {
      "text/plain": [
       "(array(['Criteria i', 'Criteria ii', 'Criteria iii', 'Criteria iv',\n",
       "        'Criteria ix', 'Criteria v', 'Criteria vi', 'Criteria vii',\n",
       "        'Criteria x'], dtype=object),\n",
       " array([172, 188, 247, 261,   1,   7, 205,   1,   1]))"
      ]
     },
     "execution_count": 41,
     "metadata": {},
     "output_type": "execute_result"
    }
   ],
   "source": [
    "np.unique(np.array(VAL_LAB[(ATT_LAB['labelled'] & VAL_LAB['labelled'])][['max_1_col', 'max_2_col', 'max_3_col']]), return_counts=True)"
   ]
  },
  {
   "cell_type": "code",
   "execution_count": 44,
   "id": "ba16575e",
   "metadata": {},
   "outputs": [
    {
     "data": {
      "text/plain": [
       "(array(['architectural elements', 'form', 'gastronomy', 'interior',\n",
       "        'landscape scenery and natural features', 'monuments', 'people',\n",
       "        'product', 'urban scenery'], dtype=object),\n",
       " array([ 71, 101,   9,  25,  30,  69,  49,   1,   6]))"
      ]
     },
     "execution_count": 44,
     "metadata": {},
     "output_type": "execute_result"
    }
   ],
   "source": [
    "np.unique(np.array(ATT_LAB[(ATT_LAB['labelled'] & VAL_LAB['labelled'])][['category']]), return_counts=True)"
   ]
  },
  {
   "cell_type": "code",
   "execution_count": 105,
   "id": "345b5336",
   "metadata": {},
   "outputs": [
    {
     "data": {
      "text/plain": [
       "(361, 395, 450, 555)"
      ]
     },
     "execution_count": 105,
     "metadata": {},
     "output_type": "execute_result"
    }
   ],
   "source": [
    "sum((node_type==1) & (VAL_LAB['labelled'] & ATT_LAB['labelled'])), sum((node_type==1) & (VAL_LAB['labelled'] & ~ATT_LAB['labelled'])),  sum((node_type==1) & (~VAL_LAB['labelled'] & ATT_LAB['labelled'])) , sum((node_type==1) & (~VAL_LAB['labelled'] & ~ATT_LAB['labelled']))"
   ]
  },
  {
   "cell_type": "code",
   "execution_count": 106,
   "id": "08e21b91",
   "metadata": {},
   "outputs": [
    {
     "data": {
      "text/plain": [
       "(0, 0, 545, 645)"
      ]
     },
     "execution_count": 106,
     "metadata": {},
     "output_type": "execute_result"
    }
   ],
   "source": [
    "sum((node_type==0) & (VAL_LAB['labelled'] & ATT_LAB['labelled'])), sum((node_type==0) & (VAL_LAB['labelled'] & ~ATT_LAB['labelled'])),  sum((node_type==0) & (~VAL_LAB['labelled'] & ATT_LAB['labelled'])) , sum((node_type==0) & (~VAL_LAB['labelled'] & ~ATT_LAB['labelled']))"
   ]
  },
  {
   "cell_type": "code",
   "execution_count": 109,
   "id": "0af8cc8a",
   "metadata": {},
   "outputs": [
    {
     "data": {
      "text/plain": [
       "695.0"
      ]
     },
     "execution_count": 109,
     "metadata": {},
     "output_type": "execute_result"
    }
   ],
   "source": [
    "(395+450+545)/2"
   ]
  },
  {
   "cell_type": "code",
   "execution_count": 157,
   "id": "7f71cc71",
   "metadata": {},
   "outputs": [
    {
     "data": {
      "text/plain": [
       "array([   1,   28,   30,   34,   35,   42,   46,   47,   62,   64,   94,\n",
       "         95,  100,  101,  104,  106,  110,  120,  127,  151,  158,  160,\n",
       "        165,  178,  179,  199,  222,  245,  251,  252,  260,  261,  264,\n",
       "        284,  291,  292,  298,  304,  331,  346,  349,  362,  363,  364,\n",
       "        365,  375,  397,  404,  407,  409,  410,  413,  421,  451,  455,\n",
       "        456,  457,  458,  460,  462,  463,  466,  467,  468,  469,  474,\n",
       "        475,  493,  523,  525,  537,  541,  551,  558,  562,  563,  571,\n",
       "        593,  619,  646,  652,  665,  669,  682,  703,  705,  706,  707,\n",
       "        712,  715,  718,  727,  742,  750,  753,  757,  782,  798,  807,\n",
       "        810,  819,  826,  878,  913,  920,  926,  934,  935,  936,  937,\n",
       "        943,  946,  955,  964,  972,  974, 1003, 1004, 1005, 1058, 1063,\n",
       "       1077, 1078, 1095, 1096, 1099, 1106, 1115, 1116, 1130, 1134, 1149,\n",
       "       1163, 1165, 1166, 1168, 1183, 1185, 1200, 1207, 1208, 1209, 1210,\n",
       "       1211, 1213, 1219, 1221, 1222, 1224, 1233, 1236, 1238, 1243, 1248,\n",
       "       1276, 1277, 1280, 1309, 1313, 1324, 1343, 1344, 1347, 1348, 1350,\n",
       "       1352, 1363, 1376, 1378, 1379, 1380, 1382, 1393, 1394, 1395, 1401,\n",
       "       1412, 1451, 1462, 1470, 1475, 1478, 1491, 1492, 1516, 1525, 1527,\n",
       "       1535, 1538, 1542, 1546, 1562, 1567, 1576, 1594, 1602, 1605, 1606,\n",
       "       1613, 1621, 1622, 1627, 1640, 1641, 1644, 1645, 1648, 1657, 1658,\n",
       "       1663, 1665, 1666, 1668, 1684, 1710, 1719, 1721, 1740, 1745, 1756,\n",
       "       1757, 1766, 1767, 1770, 1774, 1775, 1787, 1812, 1831, 1840, 1842,\n",
       "       1845, 1851, 1874, 1886, 1887, 1897, 1898, 1925, 1931, 1933, 1934,\n",
       "       1937, 1938, 1939, 1940, 1941, 1947, 1963, 1976, 1978, 1992, 1994,\n",
       "       2028, 2051, 2054, 2069, 2072, 2090, 2093, 2100, 2126, 2132, 2133,\n",
       "       2148, 2153, 2160, 2164, 2188, 2194, 2199, 2200, 2201, 2203, 2208,\n",
       "       2215, 2231, 2233, 2247, 2261, 2277, 2287, 2301, 2303, 2311, 2317,\n",
       "       2340, 2342, 2365, 2371, 2376, 2379, 2380, 2381, 2399, 2408, 2431,\n",
       "       2441, 2448, 2450, 2474, 2480, 2492, 2502, 2506, 2515, 2516, 2517,\n",
       "       2521, 2522, 2532, 2534, 2563, 2567, 2568, 2570, 2594, 2603, 2604,\n",
       "       2606, 2610, 2611, 2617, 2625, 2650, 2652, 2655, 2658, 2671, 2675,\n",
       "       2688, 2691, 2702, 2706, 2707, 2722, 2748, 2762, 2765, 2769, 2772,\n",
       "       2773, 2779, 2782, 2806, 2807, 2810, 2815, 2820, 2829, 2833, 2858,\n",
       "       2861, 2865, 2866, 2872, 2874, 2925, 2927, 2934, 2950])"
      ]
     },
     "execution_count": 157,
     "metadata": {},
     "output_type": "execute_result"
    }
   ],
   "source": [
    "train_idx = np.array(VAL_LAB.index[(node_type==1) & (VAL_LAB['labelled'] & ATT_LAB['labelled'])])\n",
    "train_idx"
   ]
  },
  {
   "cell_type": "code",
   "execution_count": 163,
   "id": "66e93f13",
   "metadata": {},
   "outputs": [
    {
     "data": {
      "text/plain": [
       "array([   0,    2,    3, ..., 2947, 2948, 2949])"
      ]
     },
     "execution_count": 163,
     "metadata": {},
     "output_type": "execute_result"
    }
   ],
   "source": [
    "val_test = np.array(VAL_LAB.index[(VAL_LAB['labelled'] | ATT_LAB['labelled']) & ~(VAL_LAB['labelled'] & ATT_LAB['labelled'])])\n",
    "val_test"
   ]
  },
  {
   "cell_type": "code",
   "execution_count": 167,
   "id": "0363979a",
   "metadata": {},
   "outputs": [],
   "source": [
    "import random\n",
    "def set_seed_everywhere(seed):\n",
    "    np.random.seed(seed)\n",
    "    random.seed(seed)"
   ]
  },
  {
   "cell_type": "code",
   "execution_count": 169,
   "id": "cf0a832a",
   "metadata": {},
   "outputs": [
    {
     "data": {
      "text/plain": [
       "array([1171,  356,  516, ..., 2711, 1794, 2367])"
      ]
     },
     "execution_count": 169,
     "metadata": {},
     "output_type": "execute_result"
    }
   ],
   "source": [
    "set_seed_everywhere(42)\n",
    "val_test_p = np.random.permutation(val_test)\n",
    "val_test_p"
   ]
  },
  {
   "cell_type": "code",
   "execution_count": 172,
   "id": "e4ba9274",
   "metadata": {},
   "outputs": [
    {
     "data": {
      "text/plain": [
       "695"
      ]
     },
     "execution_count": 172,
     "metadata": {},
     "output_type": "execute_result"
    }
   ],
   "source": [
    "val_idx = val_test_p[:int(len(val_test)*.5)]\n",
    "len(val_idx)"
   ]
  },
  {
   "cell_type": "code",
   "execution_count": 173,
   "id": "a8f5baad",
   "metadata": {},
   "outputs": [],
   "source": [
    "test_idx = val_test_p[int(len(val_test)*.5):]"
   ]
  },
  {
   "cell_type": "code",
   "execution_count": 41,
   "id": "5dbf1423",
   "metadata": {},
   "outputs": [
    {
     "data": {
      "text/plain": [
       "(array(['Criteria i', 'Criteria ii', 'Criteria iii', 'Criteria iv',\n",
       "        'Criteria ix', 'Criteria v', 'Criteria vi', 'Criteria vii',\n",
       "        'Criteria x'], dtype=object),\n",
       " array([172, 188, 247, 261,   1,   7, 205,   1,   1]))"
      ]
     },
     "execution_count": 41,
     "metadata": {},
     "output_type": "execute_result"
    }
   ],
   "source": [
    "np.unique(np.array(VAL_LAB[(ATT_LAB['labelled'] & VAL_LAB['labelled'])][['max_1_col', 'max_2_col', 'max_3_col']]), return_counts=True)"
   ]
  },
  {
   "cell_type": "code",
   "execution_count": 174,
   "id": "8fcb4de7",
   "metadata": {},
   "outputs": [
    {
     "data": {
      "text/plain": [
       "(array(['Criteria i', 'Criteria ii', 'Criteria iii', 'Criteria iv',\n",
       "        'Criteria ix', 'Criteria v', 'Criteria vi', 'Criteria vii',\n",
       "        'Criteria x'], dtype=object),\n",
       " array([172, 188, 247, 261,   1,   7, 205,   1,   1]))"
      ]
     },
     "execution_count": 174,
     "metadata": {},
     "output_type": "execute_result"
    }
   ],
   "source": [
    "np.unique(np.array(VAL_LAB.loc[train_idx].loc[VAL_LAB['labelled']][['max_1_col', 'max_2_col', 'max_3_col']]), return_counts=True)"
   ]
  },
  {
   "cell_type": "code",
   "execution_count": 239,
   "id": "e211c9cf",
   "metadata": {},
   "outputs": [
    {
     "data": {
      "text/plain": [
       "array([0.1588181 , 0.17359187, 0.22807018, 0.24099723, 0.00092336,\n",
       "       0.00646353, 0.18928901, 0.00092336, 0.00092336])"
      ]
     },
     "execution_count": 239,
     "metadata": {},
     "output_type": "execute_result"
    }
   ],
   "source": [
    "np.unique(np.array(VAL_LAB[(ATT_LAB['labelled'] & VAL_LAB['labelled'])][['max_1_col', 'max_2_col', 'max_3_col']]), return_counts=True)[1]/361/3"
   ]
  },
  {
   "cell_type": "code",
   "execution_count": 176,
   "id": "3c852c86",
   "metadata": {},
   "outputs": [
    {
     "data": {
      "text/plain": [
       "(array(['Criteria i', 'Criteria ii', 'Criteria iii', 'Criteria iv',\n",
       "        'Criteria v', 'Criteria vi'], dtype=object),\n",
       " array([108, 107, 131, 142,   8, 113]))"
      ]
     },
     "execution_count": 176,
     "metadata": {},
     "output_type": "execute_result"
    }
   ],
   "source": [
    "np.unique(np.array(VAL_LAB.loc[val_idx].loc[VAL_LAB['labelled']][['max_1_col', 'max_2_col', 'max_3_col']]), return_counts=True)"
   ]
  },
  {
   "cell_type": "code",
   "execution_count": 177,
   "id": "a23cc250",
   "metadata": {},
   "outputs": [
    {
     "data": {
      "text/plain": [
       "(array(['Criteria i', 'Criteria ii', 'Criteria iii', 'Criteria iv',\n",
       "        'Criteria v', 'Criteria vi', 'Criteria vii', 'Criteria viii',\n",
       "        'Criteria x'], dtype=object),\n",
       " array([ 94, 103, 136, 133,   3, 103,   2,   1,   1]))"
      ]
     },
     "execution_count": 177,
     "metadata": {},
     "output_type": "execute_result"
    }
   ],
   "source": [
    "np.unique(np.array(VAL_LAB.loc[test_idx].loc[VAL_LAB['labelled']][['max_1_col', 'max_2_col', 'max_3_col']]), return_counts=True)"
   ]
  },
  {
   "cell_type": "code",
   "execution_count": 44,
   "id": "cffd6203",
   "metadata": {},
   "outputs": [
    {
     "data": {
      "text/plain": [
       "(array(['architectural elements', 'form', 'gastronomy', 'interior',\n",
       "        'landscape scenery and natural features', 'monuments', 'people',\n",
       "        'product', 'urban scenery'], dtype=object),\n",
       " array([ 71, 101,   9,  25,  30,  69,  49,   1,   6]))"
      ]
     },
     "execution_count": 44,
     "metadata": {},
     "output_type": "execute_result"
    }
   ],
   "source": [
    "np.unique(np.array(ATT_LAB[(ATT_LAB['labelled'] & VAL_LAB['labelled'])][['category']]), return_counts=True)"
   ]
  },
  {
   "cell_type": "code",
   "execution_count": 240,
   "id": "6382e218",
   "metadata": {},
   "outputs": [
    {
     "data": {
      "text/plain": [
       "array([0.1966759 , 0.27977839, 0.02493075, 0.06925208, 0.08310249,\n",
       "       0.19113573, 0.13573407, 0.00277008, 0.0166205 ])"
      ]
     },
     "execution_count": 240,
     "metadata": {},
     "output_type": "execute_result"
    }
   ],
   "source": [
    "np.unique(np.array(ATT_LAB[(ATT_LAB['labelled'] & VAL_LAB['labelled'])][['category']]), return_counts=True)[1]/361"
   ]
  },
  {
   "cell_type": "code",
   "execution_count": 175,
   "id": "e1c839a5",
   "metadata": {},
   "outputs": [
    {
     "data": {
      "text/plain": [
       "(array(['architectural elements', 'form', 'gastronomy', 'interior',\n",
       "        'landscape scenery and natural features', 'monuments', 'people',\n",
       "        'product', 'urban scenery'], dtype=object),\n",
       " array([ 71, 101,   9,  25,  30,  69,  49,   1,   6]))"
      ]
     },
     "execution_count": 175,
     "metadata": {},
     "output_type": "execute_result"
    }
   ],
   "source": [
    "np.unique(np.array(ATT_LAB.loc[train_idx][['category']]), return_counts=True)"
   ]
  },
  {
   "cell_type": "code",
   "execution_count": 179,
   "id": "49f7922c",
   "metadata": {},
   "outputs": [
    {
     "data": {
      "text/plain": [
       "(array(['None', 'architectural elements', 'form', 'gastronomy', 'interior',\n",
       "        'landscape scenery and natural features', 'monuments', 'people',\n",
       "        'product', 'urban scenery'], dtype=object),\n",
       " array([ 45,  85, 168,  14,  27,  99, 135,  94,  13,  15]))"
      ]
     },
     "execution_count": 179,
     "metadata": {},
     "output_type": "execute_result"
    }
   ],
   "source": [
    "np.unique(np.array(ATT_LAB.fillna('None').loc[val_idx][['category']]), return_counts=True)"
   ]
  },
  {
   "cell_type": "code",
   "execution_count": 180,
   "id": "c24ef972",
   "metadata": {},
   "outputs": [
    {
     "data": {
      "text/plain": [
       "(array(['None', 'architectural elements', 'form', 'gastronomy', 'interior',\n",
       "        'landscape scenery and natural features', 'monuments', 'people',\n",
       "        'product', 'urban scenery'], dtype=object),\n",
       " array([ 36,  92, 182,  15,  26,  81, 135, 100,  15,  13]))"
      ]
     },
     "execution_count": 180,
     "metadata": {},
     "output_type": "execute_result"
    }
   ],
   "source": [
    "np.unique(np.array(ATT_LAB.fillna('None').loc[test_idx][['category']]), return_counts=True)"
   ]
  },
  {
   "cell_type": "code",
   "execution_count": 187,
   "id": "27430abb",
   "metadata": {},
   "outputs": [
    {
     "data": {
      "text/plain": [
       "(276, 269)"
      ]
     },
     "execution_count": 187,
     "metadata": {},
     "output_type": "execute_result"
    }
   ],
   "source": [
    "len(VAL_LAB.iloc[val_idx].loc[VAL_LAB['text_bool']==False]),len(VAL_LAB.iloc[test_idx].loc[VAL_LAB['text_bool']==False])"
   ]
  },
  {
   "cell_type": "code",
   "execution_count": 190,
   "id": "818f7090",
   "metadata": {},
   "outputs": [
    {
     "data": {
      "text/plain": [
       "(203, 192)"
      ]
     },
     "execution_count": 190,
     "metadata": {},
     "output_type": "execute_result"
    }
   ],
   "source": [
    "len(VAL_LAB.iloc[val_idx].loc[VAL_LAB['text_bool']==True].loc[VAL_LAB['labelled']]),len(VAL_LAB.iloc[test_idx].loc[VAL_LAB['text_bool']==True].loc[VAL_LAB['labelled']])"
   ]
  },
  {
   "cell_type": "code",
   "execution_count": 192,
   "id": "36a25a0c",
   "metadata": {},
   "outputs": [
    {
     "data": {
      "text/plain": [
       "(216, 234)"
      ]
     },
     "execution_count": 192,
     "metadata": {},
     "output_type": "execute_result"
    }
   ],
   "source": [
    "len(VAL_LAB.iloc[val_idx].loc[VAL_LAB['text_bool']==True].loc[ATT_LAB['labelled']]),len(VAL_LAB.iloc[test_idx].loc[VAL_LAB['text_bool']==True].loc[ATT_LAB['labelled']])"
   ]
  },
  {
   "cell_type": "code",
   "execution_count": 193,
   "id": "3b8d4aaa",
   "metadata": {},
   "outputs": [],
   "source": [
    "np.savez('dataset_np/Venice/train_val_test_idx.npz', train_idx=train_idx, val_idx=val_idx, test_idx=test_idx)"
   ]
  },
  {
   "cell_type": "code",
   "execution_count": 91,
   "id": "8c634bbf",
   "metadata": {},
   "outputs": [
    {
     "data": {
      "text/plain": [
       "(array(['Criteria i', 'Criteria ii', 'Criteria iii', 'Criteria iv',\n",
       "        'Criteria ix', 'Criteria v', 'Criteria vi', 'Criteria vii',\n",
       "        'Criteria viii', 'Criteria x'], dtype=object),\n",
       " array([374, 398, 514, 536,   1,  18, 421,   3,   1,   2]))"
      ]
     },
     "execution_count": 91,
     "metadata": {},
     "output_type": "execute_result"
    }
   ],
   "source": [
    "np.unique(np.array(VAL_LAB.iloc[node_type==1].loc[VAL_LAB['labelled']][['max_1_col', 'max_2_col', 'max_3_col']]), return_counts=True)"
   ]
  },
  {
   "cell_type": "code",
   "execution_count": 89,
   "id": "671e179a",
   "metadata": {},
   "outputs": [
    {
     "data": {
      "text/plain": [
       "(array(['None', 'architectural elements', 'form', 'gastronomy', 'interior',\n",
       "        'landscape scenery and natural features', 'monuments', 'people',\n",
       "        'product', 'urban scenery'], dtype=object),\n",
       " array([204, 254, 375,  30,  67, 168, 323, 271,  36,  33]))"
      ]
     },
     "execution_count": 89,
     "metadata": {},
     "output_type": "execute_result"
    }
   ],
   "source": [
    "np.unique(np.array(ATT_LAB.iloc[node_type==1]['category'].fillna('None')), return_counts=True)"
   ]
  },
  {
   "cell_type": "code",
   "execution_count": 112,
   "id": "2ec20c46",
   "metadata": {},
   "outputs": [
    {
     "data": {
      "text/plain": [
       "(25771, 37289, 11569)"
      ]
     },
     "execution_count": 112,
     "metadata": {},
     "output_type": "execute_result"
    }
   ],
   "source": [
    "sum(VAL_LAB['labelled']), sum(ATT_LAB['labelled']), sum(ATT_LAB['labelled'] & VAL_LAB['labelled'])"
   ]
  },
  {
   "cell_type": "code",
   "execution_count": 48,
   "id": "cd241106",
   "metadata": {},
   "outputs": [
    {
     "data": {
      "text/plain": [
       "(array(['Criteria i', 'Criteria ii', 'Criteria iii', 'Criteria iv',\n",
       "        'Criteria ix', 'Criteria v', 'Criteria vi', 'Criteria vii',\n",
       "        'Criteria viii', 'Criteria x'], dtype=object),\n",
       " array([2463, 4704, 9864, 8578,   19,   54, 8921,   58,   18,   28]))"
      ]
     },
     "execution_count": 48,
     "metadata": {},
     "output_type": "execute_result"
    }
   ],
   "source": [
    "np.unique(np.array(VAL_LAB[(ATT_LAB['labelled'] & VAL_LAB['labelled'])][['max_1_col', 'max_2_col', 'max_3_col']]), return_counts=True)"
   ]
  },
  {
   "cell_type": "code",
   "execution_count": 50,
   "id": "1533ee20",
   "metadata": {
    "scrolled": true
   },
   "outputs": [
    {
     "data": {
      "text/plain": [
       "(array(['architectural elements', 'form', 'gastronomy', 'interior',\n",
       "        'landscape scenery and natural features', 'monuments', 'people',\n",
       "        'product', 'urban scenery'], dtype=object),\n",
       " array([1501, 2636,  139,  480, 2051, 1507, 2457,  685,  113]))"
      ]
     },
     "execution_count": 50,
     "metadata": {},
     "output_type": "execute_result"
    }
   ],
   "source": [
    "np.unique(np.array(ATT_LAB[(ATT_LAB['labelled'] & VAL_LAB['labelled'])][['category']]), return_counts=True)"
   ]
  },
  {
   "cell_type": "code",
   "execution_count": 115,
   "id": "9e09a1ef",
   "metadata": {},
   "outputs": [
    {
     "data": {
      "text/plain": [
       "(11569, 14202, 11243, 12809)"
      ]
     },
     "execution_count": 115,
     "metadata": {},
     "output_type": "execute_result"
    }
   ],
   "source": [
    "sum((node_type==1) & (VAL_LAB['labelled'] & ATT_LAB['labelled'])), sum((node_type==1) & (VAL_LAB['labelled'] & ~ATT_LAB['labelled'])),  sum((node_type==1) & (~VAL_LAB['labelled'] & ATT_LAB['labelled'])) , sum((node_type==1) & (~VAL_LAB['labelled'] & ~ATT_LAB['labelled']))"
   ]
  },
  {
   "cell_type": "code",
   "execution_count": 116,
   "id": "e1df3eff",
   "metadata": {},
   "outputs": [
    {
     "data": {
      "text/plain": [
       "(0, 0, 14477, 16663)"
      ]
     },
     "execution_count": 116,
     "metadata": {},
     "output_type": "execute_result"
    }
   ],
   "source": [
    "sum((node_type==0) & (VAL_LAB['labelled'] & ATT_LAB['labelled'])), sum((node_type==0) & (VAL_LAB['labelled'] & ~ATT_LAB['labelled'])),  sum((node_type==0) & (~VAL_LAB['labelled'] & ATT_LAB['labelled'])) , sum((node_type==0) & (~VAL_LAB['labelled'] & ~ATT_LAB['labelled']))"
   ]
  },
  {
   "cell_type": "code",
   "execution_count": 117,
   "id": "969d0a61",
   "metadata": {},
   "outputs": [
    {
     "data": {
      "text/plain": [
       "19961.0"
      ]
     },
     "execution_count": 117,
     "metadata": {},
     "output_type": "execute_result"
    }
   ],
   "source": [
    "(14202+11243+14477)/2"
   ]
  },
  {
   "cell_type": "code",
   "execution_count": 118,
   "id": "087a38d2",
   "metadata": {
    "scrolled": true
   },
   "outputs": [
    {
     "data": {
      "text/plain": [
       "29472"
      ]
     },
     "execution_count": 118,
     "metadata": {},
     "output_type": "execute_result"
    }
   ],
   "source": [
    "16663+12809"
   ]
  },
  {
   "cell_type": "code",
   "execution_count": 202,
   "id": "06b722f4",
   "metadata": {},
   "outputs": [
    {
     "data": {
      "text/plain": [
       "array([    4,     5,     8, ..., 80952, 80953, 80954])"
      ]
     },
     "execution_count": 202,
     "metadata": {},
     "output_type": "execute_result"
    }
   ],
   "source": [
    "train_idx = np.array(VAL_LAB.index[(node_type==1) & (VAL_LAB['labelled'] & ATT_LAB['labelled'])])\n",
    "train_idx"
   ]
  },
  {
   "cell_type": "code",
   "execution_count": 203,
   "id": "8cb4b8ea",
   "metadata": {},
   "outputs": [
    {
     "data": {
      "text/plain": [
       "array([    0,     1,     7, ..., 80959, 80960, 80962])"
      ]
     },
     "execution_count": 203,
     "metadata": {},
     "output_type": "execute_result"
    }
   ],
   "source": [
    "val_test = np.array(VAL_LAB.index[(VAL_LAB['labelled'] | ATT_LAB['labelled']) & ~(VAL_LAB['labelled'] & ATT_LAB['labelled'])])\n",
    "val_test"
   ]
  },
  {
   "cell_type": "code",
   "execution_count": 167,
   "id": "92e3f928",
   "metadata": {},
   "outputs": [],
   "source": [
    "import random\n",
    "def set_seed_everywhere(seed):\n",
    "    np.random.seed(seed)\n",
    "    random.seed(seed)"
   ]
  },
  {
   "cell_type": "code",
   "execution_count": 204,
   "id": "b135853b",
   "metadata": {},
   "outputs": [
    {
     "data": {
      "text/plain": [
       "array([53191,  9792, 28504, ..., 77461,  1718, 31520])"
      ]
     },
     "execution_count": 204,
     "metadata": {},
     "output_type": "execute_result"
    }
   ],
   "source": [
    "set_seed_everywhere(42)\n",
    "val_test_p = np.random.permutation(val_test)\n",
    "val_test_p"
   ]
  },
  {
   "cell_type": "code",
   "execution_count": 205,
   "id": "ec5d8d9f",
   "metadata": {},
   "outputs": [
    {
     "data": {
      "text/plain": [
       "19961"
      ]
     },
     "execution_count": 205,
     "metadata": {},
     "output_type": "execute_result"
    }
   ],
   "source": [
    "val_idx = val_test_p[:int(len(val_test)*.5)]\n",
    "len(val_idx)"
   ]
  },
  {
   "cell_type": "code",
   "execution_count": 206,
   "id": "027d999b",
   "metadata": {},
   "outputs": [],
   "source": [
    "test_idx = val_test_p[int(len(val_test)*.5):]"
   ]
  },
  {
   "cell_type": "code",
   "execution_count": 207,
   "id": "c5e23042",
   "metadata": {},
   "outputs": [
    {
     "data": {
      "text/plain": [
       "(array(['Criteria i', 'Criteria ii', 'Criteria iii', 'Criteria iv',\n",
       "        'Criteria ix', 'Criteria v', 'Criteria vi', 'Criteria vii',\n",
       "        'Criteria viii', 'Criteria x'], dtype=object),\n",
       " array([2463, 4704, 9864, 8578,   19,   54, 8921,   58,   18,   28]))"
      ]
     },
     "execution_count": 207,
     "metadata": {},
     "output_type": "execute_result"
    }
   ],
   "source": [
    "np.unique(np.array(VAL_LAB[(ATT_LAB['labelled'] & VAL_LAB['labelled'])][['max_1_col', 'max_2_col', 'max_3_col']]), return_counts=True)"
   ]
  },
  {
   "cell_type": "code",
   "execution_count": 208,
   "id": "7e9c8915",
   "metadata": {},
   "outputs": [
    {
     "data": {
      "text/plain": [
       "(array(['Criteria i', 'Criteria ii', 'Criteria iii', 'Criteria iv',\n",
       "        'Criteria ix', 'Criteria v', 'Criteria vi', 'Criteria vii',\n",
       "        'Criteria viii', 'Criteria x'], dtype=object),\n",
       " array([2463, 4704, 9864, 8578,   19,   54, 8921,   58,   18,   28]))"
      ]
     },
     "execution_count": 208,
     "metadata": {},
     "output_type": "execute_result"
    }
   ],
   "source": [
    "np.unique(np.array(VAL_LAB.loc[train_idx].loc[VAL_LAB['labelled']][['max_1_col', 'max_2_col', 'max_3_col']]), return_counts=True)"
   ]
  },
  {
   "cell_type": "code",
   "execution_count": 245,
   "id": "10b17956",
   "metadata": {},
   "outputs": [
    {
     "data": {
      "text/plain": [
       "array([0.07096551, 0.13553462, 0.2842078 , 0.24715475, 0.00054744,\n",
       "       0.00155588, 0.25703749, 0.00167113, 0.00051863, 0.00080675])"
      ]
     },
     "execution_count": 245,
     "metadata": {},
     "output_type": "execute_result"
    }
   ],
   "source": [
    "np.array([2463, 4704, 9864, 8578,   19,   54, 8921,   58,   18,   28])/11569/3"
   ]
  },
  {
   "cell_type": "code",
   "execution_count": 209,
   "id": "847125b3",
   "metadata": {},
   "outputs": [
    {
     "data": {
      "text/plain": [
       "(array(['Criteria i', 'Criteria ii', 'Criteria iii', 'Criteria iv',\n",
       "        'Criteria ix', 'Criteria v', 'Criteria vi', 'Criteria vii',\n",
       "        'Criteria viii', 'Criteria x'], dtype=object),\n",
       " array([1672, 2845, 5990, 5189,   16,   22, 5482,   40,    3,   17]))"
      ]
     },
     "execution_count": 209,
     "metadata": {},
     "output_type": "execute_result"
    }
   ],
   "source": [
    "np.unique(np.array(VAL_LAB.loc[val_idx].loc[VAL_LAB['labelled']][['max_1_col', 'max_2_col', 'max_3_col']]), return_counts=True)"
   ]
  },
  {
   "cell_type": "code",
   "execution_count": 210,
   "id": "b639f38d",
   "metadata": {},
   "outputs": [
    {
     "data": {
      "text/plain": [
       "(array(['Criteria i', 'Criteria ii', 'Criteria iii', 'Criteria iv',\n",
       "        'Criteria ix', 'Criteria v', 'Criteria vi', 'Criteria vii',\n",
       "        'Criteria viii', 'Criteria x'], dtype=object),\n",
       " array([1651, 2736, 6028, 5268,   14,   18, 5557,   32,    7,   19]))"
      ]
     },
     "execution_count": 210,
     "metadata": {},
     "output_type": "execute_result"
    }
   ],
   "source": [
    "np.unique(np.array(VAL_LAB.loc[test_idx].loc[VAL_LAB['labelled']][['max_1_col', 'max_2_col', 'max_3_col']]), return_counts=True)"
   ]
  },
  {
   "cell_type": "code",
   "execution_count": 211,
   "id": "489d58ed",
   "metadata": {},
   "outputs": [
    {
     "data": {
      "text/plain": [
       "(array(['architectural elements', 'form', 'gastronomy', 'interior',\n",
       "        'landscape scenery and natural features', 'monuments', 'people',\n",
       "        'product', 'urban scenery'], dtype=object),\n",
       " array([1501, 2636,  139,  480, 2051, 1507, 2457,  685,  113]))"
      ]
     },
     "execution_count": 211,
     "metadata": {},
     "output_type": "execute_result"
    }
   ],
   "source": [
    "np.unique(np.array(ATT_LAB[(ATT_LAB['labelled'] & VAL_LAB['labelled'])][['category']]), return_counts=True)"
   ]
  },
  {
   "cell_type": "code",
   "execution_count": 212,
   "id": "6b1ef9cd",
   "metadata": {},
   "outputs": [
    {
     "data": {
      "text/plain": [
       "(array(['architectural elements', 'form', 'gastronomy', 'interior',\n",
       "        'landscape scenery and natural features', 'monuments', 'people',\n",
       "        'product', 'urban scenery'], dtype=object),\n",
       " array([1501, 2636,  139,  480, 2051, 1507, 2457,  685,  113]))"
      ]
     },
     "execution_count": 212,
     "metadata": {},
     "output_type": "execute_result"
    }
   ],
   "source": [
    "np.unique(np.array(ATT_LAB.loc[train_idx][['category']]), return_counts=True)"
   ]
  },
  {
   "cell_type": "code",
   "execution_count": 244,
   "id": "b0b3de72",
   "metadata": {},
   "outputs": [
    {
     "data": {
      "text/plain": [
       "array([0.12974328, 0.22785029, 0.01201487, 0.04149019, 0.17728412,\n",
       "       0.13026191, 0.21237791, 0.05920996, 0.00976748])"
      ]
     },
     "execution_count": 244,
     "metadata": {},
     "output_type": "execute_result"
    }
   ],
   "source": [
    "np.array([1501, 2636,  139,  480, 2051, 1507, 2457,  685,  113])/11569"
   ]
  },
  {
   "cell_type": "code",
   "execution_count": 213,
   "id": "514f06bc",
   "metadata": {},
   "outputs": [
    {
     "data": {
      "text/plain": [
       "(array(['None', 'architectural elements', 'form', 'gastronomy', 'interior',\n",
       "        'landscape scenery and natural features', 'monuments', 'people',\n",
       "        'product', 'urban scenery'], dtype=object),\n",
       " array([1491, 2170, 4274,  396,  995, 3148, 2292, 3944, 1030,  221]))"
      ]
     },
     "execution_count": 213,
     "metadata": {},
     "output_type": "execute_result"
    }
   ],
   "source": [
    "np.unique(np.array(ATT_LAB.fillna('None').loc[val_idx][['category']]), return_counts=True)"
   ]
  },
  {
   "cell_type": "code",
   "execution_count": 214,
   "id": "c130bc4f",
   "metadata": {},
   "outputs": [
    {
     "data": {
      "text/plain": [
       "(array(['None', 'architectural elements', 'form', 'gastronomy', 'interior',\n",
       "        'landscape scenery and natural features', 'monuments', 'people',\n",
       "        'product', 'urban scenery'], dtype=object),\n",
       " array([1491, 2172, 4160,  380,  968, 3190, 2321, 4022, 1054,  203]))"
      ]
     },
     "execution_count": 214,
     "metadata": {},
     "output_type": "execute_result"
    }
   ],
   "source": [
    "np.unique(np.array(ATT_LAB.fillna('None').loc[test_idx][['category']]), return_counts=True)"
   ]
  },
  {
   "cell_type": "code",
   "execution_count": 215,
   "id": "891278be",
   "metadata": {},
   "outputs": [
    {
     "data": {
      "text/plain": [
       "(7236, 7241)"
      ]
     },
     "execution_count": 215,
     "metadata": {},
     "output_type": "execute_result"
    }
   ],
   "source": [
    "len(VAL_LAB.iloc[val_idx].loc[VAL_LAB['text_bool']==False]),len(VAL_LAB.iloc[test_idx].loc[VAL_LAB['text_bool']==False])"
   ]
  },
  {
   "cell_type": "code",
   "execution_count": 216,
   "id": "3138ceb7",
   "metadata": {},
   "outputs": [
    {
     "data": {
      "text/plain": [
       "(7092, 7110)"
      ]
     },
     "execution_count": 216,
     "metadata": {},
     "output_type": "execute_result"
    }
   ],
   "source": [
    "len(VAL_LAB.iloc[val_idx].loc[VAL_LAB['text_bool']==True].loc[VAL_LAB['labelled']]),len(VAL_LAB.iloc[test_idx].loc[VAL_LAB['text_bool']==True].loc[VAL_LAB['labelled']])"
   ]
  },
  {
   "cell_type": "code",
   "execution_count": 217,
   "id": "7142c311",
   "metadata": {},
   "outputs": [
    {
     "data": {
      "text/plain": [
       "(5633, 5610)"
      ]
     },
     "execution_count": 217,
     "metadata": {},
     "output_type": "execute_result"
    }
   ],
   "source": [
    "len(VAL_LAB.iloc[val_idx].loc[VAL_LAB['text_bool']==True].loc[ATT_LAB['labelled']]),len(VAL_LAB.iloc[test_idx].loc[VAL_LAB['text_bool']==True].loc[ATT_LAB['labelled']])"
   ]
  },
  {
   "cell_type": "code",
   "execution_count": 218,
   "id": "4acf08aa",
   "metadata": {},
   "outputs": [],
   "source": [
    "np.savez('dataset_np/Venice-XL/train_val_test_idx.npz', train_idx=train_idx, val_idx=val_idx, test_idx=test_idx)"
   ]
  },
  {
   "cell_type": "markdown",
   "id": "83947b47",
   "metadata": {},
   "source": [
    "## Extracting Training Data Labels for Verification"
   ]
  },
  {
   "cell_type": "code",
   "execution_count": 9,
   "id": "4616ec07",
   "metadata": {},
   "outputs": [
    {
     "data": {
      "text/plain": [
       "361"
      ]
     },
     "execution_count": 9,
     "metadata": {},
     "output_type": "execute_result"
    }
   ],
   "source": [
    "(ATT_LAB['labelled'] & VAL_LAB['labelled']).sum()"
   ]
  },
  {
   "cell_type": "code",
   "execution_count": 16,
   "id": "a40b1617",
   "metadata": {},
   "outputs": [
    {
     "data": {
      "text/html": [
       "<div>\n",
       "<style scoped>\n",
       "    .dataframe tbody tr th:only-of-type {\n",
       "        vertical-align: middle;\n",
       "    }\n",
       "\n",
       "    .dataframe tbody tr th {\n",
       "        vertical-align: top;\n",
       "    }\n",
       "\n",
       "    .dataframe thead th {\n",
       "        text-align: right;\n",
       "    }\n",
       "</style>\n",
       "<table border=\"1\" class=\"dataframe\">\n",
       "  <thead>\n",
       "    <tr style=\"text-align: right;\">\n",
       "      <th></th>\n",
       "      <th>ID</th>\n",
       "      <th>category</th>\n",
       "      <th>conf</th>\n",
       "    </tr>\n",
       "  </thead>\n",
       "  <tbody>\n",
       "    <tr>\n",
       "      <th>1</th>\n",
       "      <td>51871789478</td>\n",
       "      <td>urban scenery</td>\n",
       "      <td>0.899618</td>\n",
       "    </tr>\n",
       "    <tr>\n",
       "      <th>28</th>\n",
       "      <td>51847785831</td>\n",
       "      <td>people</td>\n",
       "      <td>0.788871</td>\n",
       "    </tr>\n",
       "    <tr>\n",
       "      <th>30</th>\n",
       "      <td>51843895627</td>\n",
       "      <td>monuments</td>\n",
       "      <td>0.912941</td>\n",
       "    </tr>\n",
       "    <tr>\n",
       "      <th>34</th>\n",
       "      <td>51844341038</td>\n",
       "      <td>architectural elements</td>\n",
       "      <td>0.807716</td>\n",
       "    </tr>\n",
       "    <tr>\n",
       "      <th>35</th>\n",
       "      <td>51844226641</td>\n",
       "      <td>architectural elements</td>\n",
       "      <td>0.763390</td>\n",
       "    </tr>\n",
       "    <tr>\n",
       "      <th>...</th>\n",
       "      <td>...</td>\n",
       "      <td>...</td>\n",
       "      <td>...</td>\n",
       "    </tr>\n",
       "    <tr>\n",
       "      <th>2874</th>\n",
       "      <td>51241724227</td>\n",
       "      <td>monuments</td>\n",
       "      <td>0.706842</td>\n",
       "    </tr>\n",
       "    <tr>\n",
       "      <th>2925</th>\n",
       "      <td>51234000589</td>\n",
       "      <td>form</td>\n",
       "      <td>0.840006</td>\n",
       "    </tr>\n",
       "    <tr>\n",
       "      <th>2927</th>\n",
       "      <td>51233219526</td>\n",
       "      <td>people</td>\n",
       "      <td>0.788442</td>\n",
       "    </tr>\n",
       "    <tr>\n",
       "      <th>2934</th>\n",
       "      <td>51234292385</td>\n",
       "      <td>form</td>\n",
       "      <td>0.854783</td>\n",
       "    </tr>\n",
       "    <tr>\n",
       "      <th>2950</th>\n",
       "      <td>51233434888</td>\n",
       "      <td>form</td>\n",
       "      <td>0.703556</td>\n",
       "    </tr>\n",
       "  </tbody>\n",
       "</table>\n",
       "<p>361 rows × 3 columns</p>\n",
       "</div>"
      ],
      "text/plain": [
       "               ID                category      conf\n",
       "1     51871789478           urban scenery  0.899618\n",
       "28    51847785831                  people  0.788871\n",
       "30    51843895627               monuments  0.912941\n",
       "34    51844341038  architectural elements  0.807716\n",
       "35    51844226641  architectural elements  0.763390\n",
       "...           ...                     ...       ...\n",
       "2874  51241724227               monuments  0.706842\n",
       "2925  51234000589                    form  0.840006\n",
       "2927  51233219526                  people  0.788442\n",
       "2934  51234292385                    form  0.854783\n",
       "2950  51233434888                    form  0.703556\n",
       "\n",
       "[361 rows x 3 columns]"
      ]
     },
     "execution_count": 16,
     "metadata": {},
     "output_type": "execute_result"
    }
   ],
   "source": [
    "df_A = ATT_LAB[(ATT_LAB['labelled'] & VAL_LAB['labelled'])][['ID', 'category', 'conf']]\n",
    "df_A"
   ]
  },
  {
   "cell_type": "code",
   "execution_count": 17,
   "id": "eb4dee79",
   "metadata": {},
   "outputs": [
    {
     "data": {
      "text/html": [
       "<div>\n",
       "<style scoped>\n",
       "    .dataframe tbody tr th:only-of-type {\n",
       "        vertical-align: middle;\n",
       "    }\n",
       "\n",
       "    .dataframe tbody tr th {\n",
       "        vertical-align: top;\n",
       "    }\n",
       "\n",
       "    .dataframe thead th {\n",
       "        text-align: right;\n",
       "    }\n",
       "</style>\n",
       "<table border=\"1\" class=\"dataframe\">\n",
       "  <thead>\n",
       "    <tr style=\"text-align: right;\">\n",
       "      <th></th>\n",
       "      <th>index</th>\n",
       "      <th>max_1_col</th>\n",
       "      <th>max_2_col</th>\n",
       "      <th>max_3_col</th>\n",
       "      <th>max_3</th>\n",
       "      <th>conf_3</th>\n",
       "    </tr>\n",
       "  </thead>\n",
       "  <tbody>\n",
       "    <tr>\n",
       "      <th>1</th>\n",
       "      <td>51871789478</td>\n",
       "      <td>Criteria ii</td>\n",
       "      <td>Criteria iii</td>\n",
       "      <td>Criteria i</td>\n",
       "      <td>0.769948</td>\n",
       "      <td>0.828654</td>\n",
       "    </tr>\n",
       "    <tr>\n",
       "      <th>28</th>\n",
       "      <td>51847785831</td>\n",
       "      <td>Criteria iv</td>\n",
       "      <td>Criteria vi</td>\n",
       "      <td>Criteria iii</td>\n",
       "      <td>0.798588</td>\n",
       "      <td>0.858456</td>\n",
       "    </tr>\n",
       "    <tr>\n",
       "      <th>30</th>\n",
       "      <td>51843895627</td>\n",
       "      <td>Criteria iv</td>\n",
       "      <td>Criteria ii</td>\n",
       "      <td>Criteria iii</td>\n",
       "      <td>0.776642</td>\n",
       "      <td>0.832910</td>\n",
       "    </tr>\n",
       "    <tr>\n",
       "      <th>34</th>\n",
       "      <td>51844341038</td>\n",
       "      <td>Criteria i</td>\n",
       "      <td>Criteria vi</td>\n",
       "      <td>Criteria iii</td>\n",
       "      <td>0.811616</td>\n",
       "      <td>0.845875</td>\n",
       "    </tr>\n",
       "    <tr>\n",
       "      <th>35</th>\n",
       "      <td>51844226641</td>\n",
       "      <td>Criteria i</td>\n",
       "      <td>Criteria vi</td>\n",
       "      <td>Criteria iii</td>\n",
       "      <td>0.810204</td>\n",
       "      <td>0.840927</td>\n",
       "    </tr>\n",
       "    <tr>\n",
       "      <th>...</th>\n",
       "      <td>...</td>\n",
       "      <td>...</td>\n",
       "      <td>...</td>\n",
       "      <td>...</td>\n",
       "      <td>...</td>\n",
       "      <td>...</td>\n",
       "    </tr>\n",
       "    <tr>\n",
       "      <th>2874</th>\n",
       "      <td>51241724227</td>\n",
       "      <td>Criteria iv</td>\n",
       "      <td>Criteria ii</td>\n",
       "      <td>Criteria i</td>\n",
       "      <td>0.879760</td>\n",
       "      <td>0.887064</td>\n",
       "    </tr>\n",
       "    <tr>\n",
       "      <th>2925</th>\n",
       "      <td>51234000589</td>\n",
       "      <td>Criteria i</td>\n",
       "      <td>Criteria iii</td>\n",
       "      <td>Criteria iv</td>\n",
       "      <td>0.749658</td>\n",
       "      <td>0.884200</td>\n",
       "    </tr>\n",
       "    <tr>\n",
       "      <th>2927</th>\n",
       "      <td>51233219526</td>\n",
       "      <td>Criteria i</td>\n",
       "      <td>Criteria iii</td>\n",
       "      <td>Criteria iv</td>\n",
       "      <td>0.749658</td>\n",
       "      <td>0.884200</td>\n",
       "    </tr>\n",
       "    <tr>\n",
       "      <th>2934</th>\n",
       "      <td>51234292385</td>\n",
       "      <td>Criteria i</td>\n",
       "      <td>Criteria iii</td>\n",
       "      <td>Criteria iv</td>\n",
       "      <td>0.749658</td>\n",
       "      <td>0.884200</td>\n",
       "    </tr>\n",
       "    <tr>\n",
       "      <th>2950</th>\n",
       "      <td>51233434888</td>\n",
       "      <td>Criteria i</td>\n",
       "      <td>Criteria iii</td>\n",
       "      <td>Criteria iv</td>\n",
       "      <td>0.749582</td>\n",
       "      <td>0.884197</td>\n",
       "    </tr>\n",
       "  </tbody>\n",
       "</table>\n",
       "<p>361 rows × 6 columns</p>\n",
       "</div>"
      ],
      "text/plain": [
       "            index    max_1_col     max_2_col     max_3_col     max_3    conf_3\n",
       "1     51871789478  Criteria ii  Criteria iii    Criteria i  0.769948  0.828654\n",
       "28    51847785831  Criteria iv   Criteria vi  Criteria iii  0.798588  0.858456\n",
       "30    51843895627  Criteria iv   Criteria ii  Criteria iii  0.776642  0.832910\n",
       "34    51844341038   Criteria i   Criteria vi  Criteria iii  0.811616  0.845875\n",
       "35    51844226641   Criteria i   Criteria vi  Criteria iii  0.810204  0.840927\n",
       "...           ...          ...           ...           ...       ...       ...\n",
       "2874  51241724227  Criteria iv   Criteria ii    Criteria i  0.879760  0.887064\n",
       "2925  51234000589   Criteria i  Criteria iii   Criteria iv  0.749658  0.884200\n",
       "2927  51233219526   Criteria i  Criteria iii   Criteria iv  0.749658  0.884200\n",
       "2934  51234292385   Criteria i  Criteria iii   Criteria iv  0.749658  0.884200\n",
       "2950  51233434888   Criteria i  Criteria iii   Criteria iv  0.749582  0.884197\n",
       "\n",
       "[361 rows x 6 columns]"
      ]
     },
     "execution_count": 17,
     "metadata": {},
     "output_type": "execute_result"
    }
   ],
   "source": [
    "df_B = VAL_LAB[(ATT_LAB['labelled'] & VAL_LAB['labelled'])][['index', 'max_1_col','max_2_col','max_3_col','max_3','conf_3']]\n",
    "df_B"
   ]
  },
  {
   "cell_type": "code",
   "execution_count": 24,
   "id": "b096e6e2",
   "metadata": {},
   "outputs": [],
   "source": [
    "df_C = df_A.merge(df_B, how='outer',left_on='ID',right_on='index').drop('index', axis=1).merge(TEX_FEAT[['revised_text','index']], \n",
    "                            how='left',left_on='ID',right_on='index').drop('index', axis=1)"
   ]
  },
  {
   "cell_type": "code",
   "execution_count": 25,
   "id": "043f4091",
   "metadata": {},
   "outputs": [
    {
     "data": {
      "text/html": [
       "<div>\n",
       "<style scoped>\n",
       "    .dataframe tbody tr th:only-of-type {\n",
       "        vertical-align: middle;\n",
       "    }\n",
       "\n",
       "    .dataframe tbody tr th {\n",
       "        vertical-align: top;\n",
       "    }\n",
       "\n",
       "    .dataframe thead th {\n",
       "        text-align: right;\n",
       "    }\n",
       "</style>\n",
       "<table border=\"1\" class=\"dataframe\">\n",
       "  <thead>\n",
       "    <tr style=\"text-align: right;\">\n",
       "      <th></th>\n",
       "      <th>ID</th>\n",
       "      <th>category</th>\n",
       "      <th>conf</th>\n",
       "      <th>max_1_col</th>\n",
       "      <th>max_2_col</th>\n",
       "      <th>max_3_col</th>\n",
       "      <th>max_3</th>\n",
       "      <th>conf_3</th>\n",
       "      <th>revised_text</th>\n",
       "    </tr>\n",
       "  </thead>\n",
       "  <tbody>\n",
       "    <tr>\n",
       "      <th>0</th>\n",
       "      <td>51871789478</td>\n",
       "      <td>urban scenery</td>\n",
       "      <td>0.899618</td>\n",
       "      <td>Criteria ii</td>\n",
       "      <td>Criteria iii</td>\n",
       "      <td>Criteria i</td>\n",
       "      <td>0.769948</td>\n",
       "      <td>0.828654</td>\n",
       "      <td>It has tags of adriaticsea, italy, venice</td>\n",
       "    </tr>\n",
       "    <tr>\n",
       "      <th>1</th>\n",
       "      <td>51847785831</td>\n",
       "      <td>people</td>\n",
       "      <td>0.788871</td>\n",
       "      <td>Criteria iv</td>\n",
       "      <td>Criteria vi</td>\n",
       "      <td>Criteria iii</td>\n",
       "      <td>0.798588</td>\n",
       "      <td>0.858456</td>\n",
       "      <td>It has title of Venice market, the fishmonger 4</td>\n",
       "    </tr>\n",
       "    <tr>\n",
       "      <th>2</th>\n",
       "      <td>51843895627</td>\n",
       "      <td>monuments</td>\n",
       "      <td>0.912941</td>\n",
       "      <td>Criteria iv</td>\n",
       "      <td>Criteria ii</td>\n",
       "      <td>Criteria iii</td>\n",
       "      <td>0.776642</td>\n",
       "      <td>0.832910</td>\n",
       "      <td>NOT ONLY THE SQUERO. The church is dedicated t...</td>\n",
       "    </tr>\n",
       "    <tr>\n",
       "      <th>3</th>\n",
       "      <td>51844341038</td>\n",
       "      <td>architectural elements</td>\n",
       "      <td>0.807716</td>\n",
       "      <td>Criteria i</td>\n",
       "      <td>Criteria vi</td>\n",
       "      <td>Criteria iii</td>\n",
       "      <td>0.811616</td>\n",
       "      <td>0.845875</td>\n",
       "      <td>It has title of San Zanipolo of Venice, chapel</td>\n",
       "    </tr>\n",
       "    <tr>\n",
       "      <th>4</th>\n",
       "      <td>51844226641</td>\n",
       "      <td>architectural elements</td>\n",
       "      <td>0.763390</td>\n",
       "      <td>Criteria i</td>\n",
       "      <td>Criteria vi</td>\n",
       "      <td>Criteria iii</td>\n",
       "      <td>0.810204</td>\n",
       "      <td>0.840927</td>\n",
       "      <td>It has title of San Zanipolo of Venice, clock</td>\n",
       "    </tr>\n",
       "    <tr>\n",
       "      <th>...</th>\n",
       "      <td>...</td>\n",
       "      <td>...</td>\n",
       "      <td>...</td>\n",
       "      <td>...</td>\n",
       "      <td>...</td>\n",
       "      <td>...</td>\n",
       "      <td>...</td>\n",
       "      <td>...</td>\n",
       "      <td>...</td>\n",
       "    </tr>\n",
       "    <tr>\n",
       "      <th>356</th>\n",
       "      <td>51241724227</td>\n",
       "      <td>monuments</td>\n",
       "      <td>0.706842</td>\n",
       "      <td>Criteria iv</td>\n",
       "      <td>Criteria ii</td>\n",
       "      <td>Criteria i</td>\n",
       "      <td>0.879760</td>\n",
       "      <td>0.887064</td>\n",
       "      <td>San Giorgio Maggiore (Church of San Giorgio Ma...</td>\n",
       "    </tr>\n",
       "    <tr>\n",
       "      <th>357</th>\n",
       "      <td>51234000589</td>\n",
       "      <td>form</td>\n",
       "      <td>0.840006</td>\n",
       "      <td>Criteria i</td>\n",
       "      <td>Criteria iii</td>\n",
       "      <td>Criteria iv</td>\n",
       "      <td>0.749658</td>\n",
       "      <td>0.884200</td>\n",
       "      <td>It has tags of biennale, architecture, archite...</td>\n",
       "    </tr>\n",
       "    <tr>\n",
       "      <th>358</th>\n",
       "      <td>51233219526</td>\n",
       "      <td>people</td>\n",
       "      <td>0.788442</td>\n",
       "      <td>Criteria i</td>\n",
       "      <td>Criteria iii</td>\n",
       "      <td>Criteria iv</td>\n",
       "      <td>0.749658</td>\n",
       "      <td>0.884200</td>\n",
       "      <td>It has tags of biennale, architecture, archite...</td>\n",
       "    </tr>\n",
       "    <tr>\n",
       "      <th>359</th>\n",
       "      <td>51234292385</td>\n",
       "      <td>form</td>\n",
       "      <td>0.854783</td>\n",
       "      <td>Criteria i</td>\n",
       "      <td>Criteria iii</td>\n",
       "      <td>Criteria iv</td>\n",
       "      <td>0.749658</td>\n",
       "      <td>0.884200</td>\n",
       "      <td>It has tags of biennale, architecture, archite...</td>\n",
       "    </tr>\n",
       "    <tr>\n",
       "      <th>360</th>\n",
       "      <td>51233434888</td>\n",
       "      <td>form</td>\n",
       "      <td>0.703556</td>\n",
       "      <td>Criteria i</td>\n",
       "      <td>Criteria iii</td>\n",
       "      <td>Criteria iv</td>\n",
       "      <td>0.749582</td>\n",
       "      <td>0.884197</td>\n",
       "      <td>It has tags of biennale, architecture, archite...</td>\n",
       "    </tr>\n",
       "  </tbody>\n",
       "</table>\n",
       "<p>361 rows × 9 columns</p>\n",
       "</div>"
      ],
      "text/plain": [
       "              ID                category      conf    max_1_col     max_2_col  \\\n",
       "0    51871789478           urban scenery  0.899618  Criteria ii  Criteria iii   \n",
       "1    51847785831                  people  0.788871  Criteria iv   Criteria vi   \n",
       "2    51843895627               monuments  0.912941  Criteria iv   Criteria ii   \n",
       "3    51844341038  architectural elements  0.807716   Criteria i   Criteria vi   \n",
       "4    51844226641  architectural elements  0.763390   Criteria i   Criteria vi   \n",
       "..           ...                     ...       ...          ...           ...   \n",
       "356  51241724227               monuments  0.706842  Criteria iv   Criteria ii   \n",
       "357  51234000589                    form  0.840006   Criteria i  Criteria iii   \n",
       "358  51233219526                  people  0.788442   Criteria i  Criteria iii   \n",
       "359  51234292385                    form  0.854783   Criteria i  Criteria iii   \n",
       "360  51233434888                    form  0.703556   Criteria i  Criteria iii   \n",
       "\n",
       "        max_3_col     max_3    conf_3  \\\n",
       "0      Criteria i  0.769948  0.828654   \n",
       "1    Criteria iii  0.798588  0.858456   \n",
       "2    Criteria iii  0.776642  0.832910   \n",
       "3    Criteria iii  0.811616  0.845875   \n",
       "4    Criteria iii  0.810204  0.840927   \n",
       "..            ...       ...       ...   \n",
       "356    Criteria i  0.879760  0.887064   \n",
       "357   Criteria iv  0.749658  0.884200   \n",
       "358   Criteria iv  0.749658  0.884200   \n",
       "359   Criteria iv  0.749658  0.884200   \n",
       "360   Criteria iv  0.749582  0.884197   \n",
       "\n",
       "                                          revised_text  \n",
       "0            It has tags of adriaticsea, italy, venice  \n",
       "1      It has title of Venice market, the fishmonger 4  \n",
       "2    NOT ONLY THE SQUERO. The church is dedicated t...  \n",
       "3       It has title of San Zanipolo of Venice, chapel  \n",
       "4        It has title of San Zanipolo of Venice, clock  \n",
       "..                                                 ...  \n",
       "356  San Giorgio Maggiore (Church of San Giorgio Ma...  \n",
       "357  It has tags of biennale, architecture, archite...  \n",
       "358  It has tags of biennale, architecture, archite...  \n",
       "359  It has tags of biennale, architecture, archite...  \n",
       "360  It has tags of biennale, architecture, archite...  \n",
       "\n",
       "[361 rows x 9 columns]"
      ]
     },
     "execution_count": 25,
     "metadata": {},
     "output_type": "execute_result"
    }
   ],
   "source": [
    "df_C"
   ]
  },
  {
   "cell_type": "code",
   "execution_count": 26,
   "id": "e1212eba",
   "metadata": {},
   "outputs": [],
   "source": [
    "df_C.to_csv('Venezia/data_storage/training_data.csv', sep='\\t')"
   ]
  },
  {
   "cell_type": "code",
   "execution_count": 28,
   "id": "c93d2eca",
   "metadata": {},
   "outputs": [
    {
     "name": "stdout",
     "output_type": "stream",
     "text": [
      "Collecting xlsxwriter\n",
      "\u001b[?25l  Downloading https://files.pythonhosted.org/packages/ef/95/30f6ee57f10232e2055a85c3e4c8db7d38ab5f1349b6cdced85cb8acd5e6/XlsxWriter-3.0.3-py3-none-any.whl (149kB)\n",
      "\u001b[K     |████████████████████████████████| 153kB 3.4MB/s eta 0:00:01\n",
      "\u001b[?25hInstalling collected packages: xlsxwriter\n",
      "Successfully installed xlsxwriter-3.0.3\n"
     ]
    }
   ],
   "source": [
    "!pip install xlsxwriter"
   ]
  },
  {
   "cell_type": "code",
   "execution_count": 29,
   "id": "92cfe6bd",
   "metadata": {},
   "outputs": [],
   "source": [
    "import xlsxwriter"
   ]
  },
  {
   "cell_type": "code",
   "execution_count": 43,
   "id": "e1d6ae04",
   "metadata": {},
   "outputs": [],
   "source": [
    "import os\n",
    "import os.path as osp"
   ]
  },
  {
   "cell_type": "code",
   "execution_count": 44,
   "id": "d5c9bdda",
   "metadata": {},
   "outputs": [
    {
     "data": {
      "text/plain": [
       "'/Users/nbai/surfdrive/TUD/Paper/Venice_Flickr'"
      ]
     },
     "execution_count": 44,
     "metadata": {},
     "output_type": "execute_result"
    }
   ],
   "source": [
    "os.getcwd()"
   ]
  },
  {
   "cell_type": "code",
   "execution_count": 62,
   "id": "e426719c",
   "metadata": {},
   "outputs": [],
   "source": [
    "# Create an new Excel file and add a worksheet.\n",
    "workbook = xlsxwriter.Workbook('Venezia/data_storage/training_data_verification_1.xlsx')\n",
    "worksheet = workbook.add_worksheet()\n",
    "\n",
    "# Widen the first column to make the text clearer.\n",
    "for i in range(len(df_C)):\n",
    "    worksheet.set_row(i, 130)\n",
    "    ID_image = (df_C['ID'].iloc[i])\n",
    "    worksheet.insert_image('A'+str(i+1), os.getcwd()+f'/Venezia/data_storage/images/150/{ID_image}.jpg', {'x_scale': 1, \n",
    "                                        'y_scale': 1, 'x_offset': 10, 'y_offset': 10})\n",
    "worksheet.set_column('A:A', 25)\n",
    "\n",
    "# Insert an image with scaling.\n",
    "\n",
    "workbook.close()"
   ]
  },
  {
   "cell_type": "code",
   "execution_count": 31,
   "id": "85896fa5",
   "metadata": {},
   "outputs": [
    {
     "data": {
      "text/plain": [
       "51871789478"
      ]
     },
     "execution_count": 31,
     "metadata": {},
     "output_type": "execute_result"
    }
   ],
   "source": [
    "df_C['ID'].iloc[0]"
   ]
  },
  {
   "cell_type": "code",
   "execution_count": null,
   "id": "4b6124a1",
   "metadata": {},
   "outputs": [],
   "source": []
  }
 ],
 "metadata": {
  "kernelspec": {
   "display_name": "Python 3 (ipykernel)",
   "language": "python",
   "name": "python3"
  },
  "language_info": {
   "codemirror_mode": {
    "name": "ipython",
    "version": 3
   },
   "file_extension": ".py",
   "mimetype": "text/x-python",
   "name": "python",
   "nbconvert_exporter": "python",
   "pygments_lexer": "ipython3",
   "version": "3.10.9"
  }
 },
 "nbformat": 4,
 "nbformat_minor": 5
}
