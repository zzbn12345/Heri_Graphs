{
 "cells": [
  {
   "cell_type": "markdown",
   "id": "abcf3839",
   "metadata": {},
   "source": [
    "# Construct Social Links of Users\n",
    "\n",
    "by Nan BAI"
   ]
  },
  {
   "cell_type": "code",
   "execution_count": 1,
   "id": "2182da1a",
   "metadata": {},
   "outputs": [],
   "source": [
    "import json\n",
    "import pandas as pd\n",
    "import numpy as np\n",
    "from argparse import Namespace\n",
    "from collections import Counter\n",
    "import pickle\n",
    "import os\n",
    "import urllib\n",
    "import flickrapi\n",
    "\n",
    "import json\n",
    "\n",
    "args = Namespace(\n",
    "    # Data and Path information\n",
    "    api_key = u'9e32e17383e134335b5cabf2eb186b7a',\n",
    "    api_secret = u'781aa9cac0a656c9',\n",
    "    radius = 5,\n",
    "    save_dir = 'data_storage/',\n",
    "    tags = None,\n",
    "    len_grid = 1,\n",
    "    image_dir = 'data_storage/images/'\n",
    "    #tags = 'landscape,urban,heritage,culture,building,architecture,park,street'\n",
    ")"
   ]
  },
  {
   "cell_type": "code",
   "execution_count": 91,
   "id": "74ed9581",
   "metadata": {},
   "outputs": [],
   "source": [
    "size_df = pd.read_csv('Amsterdam/data_storage/metadata.csv',sep='\\t').rename(columns={'Unnamed: 0':'index'})"
   ]
  },
  {
   "cell_type": "code",
   "execution_count": 110,
   "id": "b48e51df",
   "metadata": {},
   "outputs": [],
   "source": [
    "size_df = pd.read_csv('Suzhou/data_storage/metadata.csv',sep='\\t').rename(columns={'Unnamed: 0':'index'})"
   ]
  },
  {
   "cell_type": "code",
   "execution_count": 2,
   "id": "6bbb6562",
   "metadata": {},
   "outputs": [],
   "source": [
    "size_df = pd.read_csv('Venezia/data_storage/metadata.csv',sep='\\t').rename(columns={'Unnamed: 0':'index'})"
   ]
  },
  {
   "cell_type": "code",
   "execution_count": 130,
   "id": "e3d7f29d",
   "metadata": {},
   "outputs": [],
   "source": [
    "size_df = pd.read_csv('data_storage/images/metadata.csv',sep='\\t').rename(columns={'Unnamed: 0':'index'})"
   ]
  },
  {
   "cell_type": "code",
   "execution_count": 131,
   "id": "a7a85744",
   "metadata": {},
   "outputs": [],
   "source": [
    "owners = size_df['owner'].unique()"
   ]
  },
  {
   "cell_type": "code",
   "execution_count": 132,
   "id": "2055fd1d",
   "metadata": {},
   "outputs": [
    {
     "data": {
      "text/plain": [
       "6077"
      ]
     },
     "execution_count": 132,
     "metadata": {},
     "output_type": "execute_result"
    }
   ],
   "source": [
    "len(owners)"
   ]
  },
  {
   "cell_type": "code",
   "execution_count": 250,
   "id": "22c96c01",
   "metadata": {},
   "outputs": [],
   "source": [
    "flickr = flickrapi.FlickrAPI(args.api_key, args.api_secret, format='json')\n",
    "contacts = {}\n",
    "groups = {}"
   ]
  },
  {
   "cell_type": "code",
   "execution_count": 251,
   "id": "098b498a",
   "metadata": {},
   "outputs": [
    {
     "name": "stdout",
     "output_type": "stream",
     "text": [
      "1/95 collections finished\n",
      "'contact'\n",
      "11/95 collections finished\n",
      "'contact'\n",
      "'contact'\n",
      "21/95 collections finished\n",
      "'contact'\n",
      "31/95 collections finished\n",
      "'contact'\n",
      "41/95 collections finished\n",
      "'contact'\n",
      "'contact'\n",
      "51/95 collections finished\n",
      "61/95 collections finished\n",
      "'contact'\n",
      "'contact'\n",
      "'contact'\n",
      "'contact'\n",
      "71/95 collections finished\n",
      "'contact'\n",
      "81/95 collections finished\n"
     ]
    }
   ],
   "source": [
    "for owner in owners:\n",
    "    if not owner in contacts:\n",
    "        try:\n",
    "            contact_json = flickr.contacts.getPublicList(user_id=owner)\n",
    "            group_json = flickr.people.getPublicGroups(user_id=owner)\n",
    "\n",
    "            contacts[owner] = json.loads(contact_json.decode('utf-8'))['contacts']['contact']\n",
    "            groups[owner] = json.loads(group_json.decode('utf-8'))['groups']['group']\n",
    "        except Exception as e:\n",
    "            print(e)\n",
    "            continue\n",
    "    if len(contacts)%10==1:\n",
    "        print('{}/{} collections finished'.format(len(contacts),len(owners)))"
   ]
  },
  {
   "cell_type": "code",
   "execution_count": 252,
   "id": "952dd129",
   "metadata": {},
   "outputs": [
    {
     "data": {
      "text/plain": [
       "83"
      ]
     },
     "execution_count": 252,
     "metadata": {},
     "output_type": "execute_result"
    }
   ],
   "source": [
    "len(contacts)"
   ]
  },
  {
   "cell_type": "code",
   "execution_count": 253,
   "id": "033a4acd",
   "metadata": {},
   "outputs": [
    {
     "data": {
      "text/plain": [
       "83"
      ]
     },
     "execution_count": 253,
     "metadata": {},
     "output_type": "execute_result"
    }
   ],
   "source": [
    "len(groups)"
   ]
  },
  {
   "cell_type": "code",
   "execution_count": 151,
   "id": "e2f280d4",
   "metadata": {},
   "outputs": [
    {
     "data": {
      "text/plain": [
       "{'nsid': '88562734@N00',\n",
       " 'username': '! / dino olivieri /',\n",
       " 'iconserver': '7831',\n",
       " 'iconfarm': 8,\n",
       " 'ignored': 0,\n",
       " 'rev_ignored': 0}"
      ]
     },
     "execution_count": 151,
     "metadata": {},
     "output_type": "execute_result"
    }
   ],
   "source": [
    "contacts[owners[0]][0]"
   ]
  },
  {
   "cell_type": "code",
   "execution_count": 152,
   "id": "0a6399c9",
   "metadata": {},
   "outputs": [
    {
     "data": {
      "text/plain": [
       "{'nsid': '3191023@N20',\n",
       " 'name': '!           Fotografiando con Elena y Ricardo.',\n",
       " 'iconfarm': 66,\n",
       " 'iconserver': '65535',\n",
       " 'admin': False,\n",
       " 'eighteenplus': 0,\n",
       " 'invitation_only': 0,\n",
       " 'members': '1404',\n",
       " 'pool_count': '194256'}"
      ]
     },
     "execution_count": 152,
     "metadata": {},
     "output_type": "execute_result"
    }
   ],
   "source": [
    "groups[owners[0]][0]"
   ]
  },
  {
   "cell_type": "code",
   "execution_count": 254,
   "id": "47493f4a",
   "metadata": {},
   "outputs": [],
   "source": [
    "contact_pair = [(owner,contact['nsid']) for owner in contacts for contact in contacts[owner]]"
   ]
  },
  {
   "cell_type": "code",
   "execution_count": 255,
   "id": "78e4f182",
   "metadata": {},
   "outputs": [],
   "source": [
    "group_pair = [(owner,group['nsid'],group['name'],group['eighteenplus'],group['members'],group['pool_count']) for owner in groups for group in groups[owner]]"
   ]
  },
  {
   "cell_type": "code",
   "execution_count": 256,
   "id": "d0a015c7",
   "metadata": {},
   "outputs": [
    {
     "data": {
      "text/plain": [
       "70"
      ]
     },
     "execution_count": 256,
     "metadata": {},
     "output_type": "execute_result"
    }
   ],
   "source": [
    "len(set([owner for owner in groups for group in groups[owner]]))"
   ]
  },
  {
   "cell_type": "code",
   "execution_count": 257,
   "id": "cee85f86",
   "metadata": {},
   "outputs": [
    {
     "data": {
      "text/plain": [
       "83"
      ]
     },
     "execution_count": 257,
     "metadata": {},
     "output_type": "execute_result"
    }
   ],
   "source": [
    "len(set([owner for owner in groups]))"
   ]
  },
  {
   "cell_type": "code",
   "execution_count": 242,
   "id": "6f6c2aad",
   "metadata": {},
   "outputs": [
    {
     "data": {
      "text/plain": [
       "17"
      ]
     },
     "execution_count": 242,
     "metadata": {},
     "output_type": "execute_result"
    }
   ],
   "source": [
    "len(set([owner for owner in groups]).difference(set([owner for owner in groups for group in groups[owner]])))"
   ]
  },
  {
   "cell_type": "code",
   "execution_count": 243,
   "id": "d90c2433",
   "metadata": {},
   "outputs": [
    {
     "data": {
      "text/plain": [
       "[]"
      ]
     },
     "execution_count": 243,
     "metadata": {},
     "output_type": "execute_result"
    }
   ],
   "source": [
    "groups[list(set([owner for owner in groups]).difference(set([owner for owner in groups for group in groups[owner]])))[-1]]"
   ]
  },
  {
   "cell_type": "code",
   "execution_count": 209,
   "id": "608c8537",
   "metadata": {},
   "outputs": [
    {
     "data": {
      "text/plain": [
       "68971"
      ]
     },
     "execution_count": 209,
     "metadata": {},
     "output_type": "execute_result"
    }
   ],
   "source": [
    "len([groups[owner] for owner in groups for group in groups[owner]])"
   ]
  },
  {
   "cell_type": "code",
   "execution_count": 191,
   "id": "ee236675",
   "metadata": {},
   "outputs": [
    {
     "data": {
      "text/plain": [
       "92158"
      ]
     },
     "execution_count": 191,
     "metadata": {},
     "output_type": "execute_result"
    }
   ],
   "source": [
    "len(contact_pair)"
   ]
  },
  {
   "cell_type": "code",
   "execution_count": 192,
   "id": "0d5e0b87",
   "metadata": {},
   "outputs": [
    {
     "data": {
      "text/plain": [
       "68971"
      ]
     },
     "execution_count": 192,
     "metadata": {},
     "output_type": "execute_result"
    }
   ],
   "source": [
    "len(group_pair)"
   ]
  },
  {
   "cell_type": "code",
   "execution_count": 258,
   "id": "c9766841",
   "metadata": {},
   "outputs": [
    {
     "data": {
      "text/html": [
       "<div>\n",
       "<style scoped>\n",
       "    .dataframe tbody tr th:only-of-type {\n",
       "        vertical-align: middle;\n",
       "    }\n",
       "\n",
       "    .dataframe tbody tr th {\n",
       "        vertical-align: top;\n",
       "    }\n",
       "\n",
       "    .dataframe thead th {\n",
       "        text-align: right;\n",
       "    }\n",
       "</style>\n",
       "<table border=\"1\" class=\"dataframe\">\n",
       "  <thead>\n",
       "    <tr style=\"text-align: right;\">\n",
       "      <th></th>\n",
       "      <th>0</th>\n",
       "      <th>1</th>\n",
       "    </tr>\n",
       "  </thead>\n",
       "  <tbody>\n",
       "    <tr>\n",
       "      <th>0</th>\n",
       "      <td>57210421@N04</td>\n",
       "      <td>38162415@N07</td>\n",
       "    </tr>\n",
       "    <tr>\n",
       "      <th>1</th>\n",
       "      <td>57210421@N04</td>\n",
       "      <td>50621563@N02</td>\n",
       "    </tr>\n",
       "    <tr>\n",
       "      <th>2</th>\n",
       "      <td>57210421@N04</td>\n",
       "      <td>39723413@N06</td>\n",
       "    </tr>\n",
       "    <tr>\n",
       "      <th>3</th>\n",
       "      <td>57210421@N04</td>\n",
       "      <td>40340253@N03</td>\n",
       "    </tr>\n",
       "    <tr>\n",
       "      <th>4</th>\n",
       "      <td>57210421@N04</td>\n",
       "      <td>8569584@N08</td>\n",
       "    </tr>\n",
       "    <tr>\n",
       "      <th>...</th>\n",
       "      <td>...</td>\n",
       "      <td>...</td>\n",
       "    </tr>\n",
       "    <tr>\n",
       "      <th>9303</th>\n",
       "      <td>15047208@N00</td>\n",
       "      <td>42271181@N02</td>\n",
       "    </tr>\n",
       "    <tr>\n",
       "      <th>9304</th>\n",
       "      <td>15047208@N00</td>\n",
       "      <td>41062051@N00</td>\n",
       "    </tr>\n",
       "    <tr>\n",
       "      <th>9305</th>\n",
       "      <td>15047208@N00</td>\n",
       "      <td>31837011@N00</td>\n",
       "    </tr>\n",
       "    <tr>\n",
       "      <th>9306</th>\n",
       "      <td>15047208@N00</td>\n",
       "      <td>11900545@N02</td>\n",
       "    </tr>\n",
       "    <tr>\n",
       "      <th>9307</th>\n",
       "      <td>15047208@N00</td>\n",
       "      <td>14346216@N07</td>\n",
       "    </tr>\n",
       "  </tbody>\n",
       "</table>\n",
       "<p>9308 rows × 2 columns</p>\n",
       "</div>"
      ],
      "text/plain": [
       "                 0             1\n",
       "0     57210421@N04  38162415@N07\n",
       "1     57210421@N04  50621563@N02\n",
       "2     57210421@N04  39723413@N06\n",
       "3     57210421@N04  40340253@N03\n",
       "4     57210421@N04   8569584@N08\n",
       "...            ...           ...\n",
       "9303  15047208@N00  42271181@N02\n",
       "9304  15047208@N00  41062051@N00\n",
       "9305  15047208@N00  31837011@N00\n",
       "9306  15047208@N00  11900545@N02\n",
       "9307  15047208@N00  14346216@N07\n",
       "\n",
       "[9308 rows x 2 columns]"
      ]
     },
     "execution_count": 258,
     "metadata": {},
     "output_type": "execute_result"
    }
   ],
   "source": [
    "contact_df = pd.DataFrame(contact_pair)\n",
    "contact_df"
   ]
  },
  {
   "cell_type": "code",
   "execution_count": 245,
   "id": "5b8e4a07",
   "metadata": {},
   "outputs": [
    {
     "data": {
      "text/plain": [
       "191"
      ]
     },
     "execution_count": 245,
     "metadata": {},
     "output_type": "execute_result"
    }
   ],
   "source": [
    "len(contact_df[0].unique())"
   ]
  },
  {
   "cell_type": "code",
   "execution_count": 195,
   "id": "282cb89f",
   "metadata": {},
   "outputs": [],
   "source": [
    "contact_df['inside'] = contact_df.apply(lambda x: x[1] in owners, axis=1)"
   ]
  },
  {
   "cell_type": "code",
   "execution_count": 196,
   "id": "89116d86",
   "metadata": {},
   "outputs": [
    {
     "data": {
      "text/html": [
       "<div>\n",
       "<style scoped>\n",
       "    .dataframe tbody tr th:only-of-type {\n",
       "        vertical-align: middle;\n",
       "    }\n",
       "\n",
       "    .dataframe tbody tr th {\n",
       "        vertical-align: top;\n",
       "    }\n",
       "\n",
       "    .dataframe thead th {\n",
       "        text-align: right;\n",
       "    }\n",
       "</style>\n",
       "<table border=\"1\" class=\"dataframe\">\n",
       "  <thead>\n",
       "    <tr style=\"text-align: right;\">\n",
       "      <th></th>\n",
       "      <th>Source</th>\n",
       "      <th>Target</th>\n",
       "      <th>inside</th>\n",
       "    </tr>\n",
       "  </thead>\n",
       "  <tbody>\n",
       "    <tr>\n",
       "      <th>64</th>\n",
       "      <td>47954272@N06</td>\n",
       "      <td>53400673@N08</td>\n",
       "      <td>True</td>\n",
       "    </tr>\n",
       "    <tr>\n",
       "      <th>186</th>\n",
       "      <td>64148082@N02</td>\n",
       "      <td>88380809@N07</td>\n",
       "      <td>True</td>\n",
       "    </tr>\n",
       "    <tr>\n",
       "      <th>218</th>\n",
       "      <td>64148082@N02</td>\n",
       "      <td>72647602@N04</td>\n",
       "      <td>True</td>\n",
       "    </tr>\n",
       "    <tr>\n",
       "      <th>234</th>\n",
       "      <td>64148082@N02</td>\n",
       "      <td>96099495@N05</td>\n",
       "      <td>True</td>\n",
       "    </tr>\n",
       "    <tr>\n",
       "      <th>339</th>\n",
       "      <td>186704588@N07</td>\n",
       "      <td>37472264@N04</td>\n",
       "      <td>True</td>\n",
       "    </tr>\n",
       "    <tr>\n",
       "      <th>...</th>\n",
       "      <td>...</td>\n",
       "      <td>...</td>\n",
       "      <td>...</td>\n",
       "    </tr>\n",
       "    <tr>\n",
       "      <th>91576</th>\n",
       "      <td>127547040@N07</td>\n",
       "      <td>53400673@N08</td>\n",
       "      <td>True</td>\n",
       "    </tr>\n",
       "    <tr>\n",
       "      <th>91802</th>\n",
       "      <td>87413031@N03</td>\n",
       "      <td>33650137@N05</td>\n",
       "      <td>True</td>\n",
       "    </tr>\n",
       "    <tr>\n",
       "      <th>91856</th>\n",
       "      <td>112273443@N02</td>\n",
       "      <td>145895983@N08</td>\n",
       "      <td>True</td>\n",
       "    </tr>\n",
       "    <tr>\n",
       "      <th>91894</th>\n",
       "      <td>112273443@N02</td>\n",
       "      <td>123016824@N05</td>\n",
       "      <td>True</td>\n",
       "    </tr>\n",
       "    <tr>\n",
       "      <th>91995</th>\n",
       "      <td>112273443@N02</td>\n",
       "      <td>141840400@N04</td>\n",
       "      <td>True</td>\n",
       "    </tr>\n",
       "  </tbody>\n",
       "</table>\n",
       "<p>373 rows × 3 columns</p>\n",
       "</div>"
      ],
      "text/plain": [
       "              Source         Target  inside\n",
       "64      47954272@N06   53400673@N08    True\n",
       "186     64148082@N02   88380809@N07    True\n",
       "218     64148082@N02   72647602@N04    True\n",
       "234     64148082@N02   96099495@N05    True\n",
       "339    186704588@N07   37472264@N04    True\n",
       "...              ...            ...     ...\n",
       "91576  127547040@N07   53400673@N08    True\n",
       "91802   87413031@N03   33650137@N05    True\n",
       "91856  112273443@N02  145895983@N08    True\n",
       "91894  112273443@N02  123016824@N05    True\n",
       "91995  112273443@N02  141840400@N04    True\n",
       "\n",
       "[373 rows x 3 columns]"
      ]
     },
     "execution_count": 196,
     "metadata": {},
     "output_type": "execute_result"
    }
   ],
   "source": [
    "friendship = contact_df[contact_df['inside']].rename(columns={0:'Source',1:'Target'})\n",
    "friendship"
   ]
  },
  {
   "cell_type": "code",
   "execution_count": 197,
   "id": "4b4cbd92",
   "metadata": {},
   "outputs": [
    {
     "data": {
      "text/plain": [
       "135"
      ]
     },
     "execution_count": 197,
     "metadata": {},
     "output_type": "execute_result"
    }
   ],
   "source": [
    "len(friendship['Source'].unique())"
   ]
  },
  {
   "cell_type": "code",
   "execution_count": 160,
   "id": "c7f59866",
   "metadata": {},
   "outputs": [
    {
     "data": {
      "text/html": [
       "<div>\n",
       "<style scoped>\n",
       "    .dataframe tbody tr th:only-of-type {\n",
       "        vertical-align: middle;\n",
       "    }\n",
       "\n",
       "    .dataframe tbody tr th {\n",
       "        vertical-align: top;\n",
       "    }\n",
       "\n",
       "    .dataframe thead th {\n",
       "        text-align: right;\n",
       "    }\n",
       "</style>\n",
       "<table border=\"1\" class=\"dataframe\">\n",
       "  <thead>\n",
       "    <tr style=\"text-align: right;\">\n",
       "      <th></th>\n",
       "      <th>Source</th>\n",
       "      <th>Target</th>\n",
       "      <th>Group_Name</th>\n",
       "      <th>18+</th>\n",
       "      <th>Members</th>\n",
       "      <th>Pool_Counts</th>\n",
       "    </tr>\n",
       "  </thead>\n",
       "  <tbody>\n",
       "    <tr>\n",
       "      <th>0</th>\n",
       "      <td>148125504@N04</td>\n",
       "      <td>3191023@N20</td>\n",
       "      <td>!           Fotografiando con Elena y Ricardo.</td>\n",
       "      <td>0</td>\n",
       "      <td>1404</td>\n",
       "      <td>194256</td>\n",
       "    </tr>\n",
       "    <tr>\n",
       "      <th>1</th>\n",
       "      <td>148125504@N04</td>\n",
       "      <td>1183996@N23</td>\n",
       "      <td>! ! ! CÁNTABROS Y CANTABRIA¡ ¡ ¡</td>\n",
       "      <td>0</td>\n",
       "      <td>1369</td>\n",
       "      <td>44966</td>\n",
       "    </tr>\n",
       "    <tr>\n",
       "      <th>2</th>\n",
       "      <td>148125504@N04</td>\n",
       "      <td>1167706@N24</td>\n",
       "      <td>! !^A Little Bit of Soap Level 1</td>\n",
       "      <td>0</td>\n",
       "      <td>2762</td>\n",
       "      <td>90985</td>\n",
       "    </tr>\n",
       "    <tr>\n",
       "      <th>3</th>\n",
       "      <td>148125504@N04</td>\n",
       "      <td>2759861@N21</td>\n",
       "      <td>! !^A Little Bit of Soap Level 2</td>\n",
       "      <td>0</td>\n",
       "      <td>1307</td>\n",
       "      <td>21229</td>\n",
       "    </tr>\n",
       "    <tr>\n",
       "      <th>4</th>\n",
       "      <td>148125504@N04</td>\n",
       "      <td>2769605@N21</td>\n",
       "      <td>! !^A Little Bit of Soap Level 3</td>\n",
       "      <td>0</td>\n",
       "      <td>994</td>\n",
       "      <td>11667</td>\n",
       "    </tr>\n",
       "    <tr>\n",
       "      <th>...</th>\n",
       "      <td>...</td>\n",
       "      <td>...</td>\n",
       "      <td>...</td>\n",
       "      <td>...</td>\n",
       "      <td>...</td>\n",
       "      <td>...</td>\n",
       "    </tr>\n",
       "    <tr>\n",
       "      <th>583867</th>\n",
       "      <td>48150664@N07</td>\n",
       "      <td>10758046@N00</td>\n",
       "      <td>~ PENTAX Cameras ~</td>\n",
       "      <td>0</td>\n",
       "      <td>8548</td>\n",
       "      <td>773628</td>\n",
       "    </tr>\n",
       "    <tr>\n",
       "      <th>583868</th>\n",
       "      <td>48150664@N07</td>\n",
       "      <td>64788317@N00</td>\n",
       "      <td>~*~Atmosphere~*~</td>\n",
       "      <td>0</td>\n",
       "      <td>11480</td>\n",
       "      <td>549670</td>\n",
       "    </tr>\n",
       "    <tr>\n",
       "      <th>583869</th>\n",
       "      <td>48150664@N07</td>\n",
       "      <td>83292375@N00</td>\n",
       "      <td>α - Sony Alpha Cameras</td>\n",
       "      <td>0</td>\n",
       "      <td>24637</td>\n",
       "      <td>1245522</td>\n",
       "    </tr>\n",
       "    <tr>\n",
       "      <th>583870</th>\n",
       "      <td>48150664@N07</td>\n",
       "      <td>1389174@N21</td>\n",
       "      <td>≈ monochrome ≈</td>\n",
       "      <td>0</td>\n",
       "      <td>21773</td>\n",
       "      <td>926884</td>\n",
       "    </tr>\n",
       "    <tr>\n",
       "      <th>583871</th>\n",
       "      <td>48150664@N07</td>\n",
       "      <td>68841873@N00</td>\n",
       "      <td>☼Nature: Madre Tierra☼</td>\n",
       "      <td>0</td>\n",
       "      <td>4000</td>\n",
       "      <td>137869</td>\n",
       "    </tr>\n",
       "  </tbody>\n",
       "</table>\n",
       "<p>583872 rows × 6 columns</p>\n",
       "</div>"
      ],
      "text/plain": [
       "               Source        Target  \\\n",
       "0       148125504@N04   3191023@N20   \n",
       "1       148125504@N04   1183996@N23   \n",
       "2       148125504@N04   1167706@N24   \n",
       "3       148125504@N04   2759861@N21   \n",
       "4       148125504@N04   2769605@N21   \n",
       "...               ...           ...   \n",
       "583867   48150664@N07  10758046@N00   \n",
       "583868   48150664@N07  64788317@N00   \n",
       "583869   48150664@N07  83292375@N00   \n",
       "583870   48150664@N07   1389174@N21   \n",
       "583871   48150664@N07  68841873@N00   \n",
       "\n",
       "                                            Group_Name  18+ Members  \\\n",
       "0       !           Fotografiando con Elena y Ricardo.    0    1404   \n",
       "1                     ! ! ! CÁNTABROS Y CANTABRIA¡ ¡ ¡    0    1369   \n",
       "2                     ! !^A Little Bit of Soap Level 1    0    2762   \n",
       "3                     ! !^A Little Bit of Soap Level 2    0    1307   \n",
       "4                     ! !^A Little Bit of Soap Level 3    0     994   \n",
       "...                                                ...  ...     ...   \n",
       "583867                              ~ PENTAX Cameras ~    0    8548   \n",
       "583868                                ~*~Atmosphere~*~    0   11480   \n",
       "583869                          α - Sony Alpha Cameras    0   24637   \n",
       "583870                                  ≈ monochrome ≈    0   21773   \n",
       "583871                          ☼Nature: Madre Tierra☼    0    4000   \n",
       "\n",
       "       Pool_Counts  \n",
       "0           194256  \n",
       "1            44966  \n",
       "2            90985  \n",
       "3            21229  \n",
       "4            11667  \n",
       "...            ...  \n",
       "583867      773628  \n",
       "583868      549670  \n",
       "583869     1245522  \n",
       "583870      926884  \n",
       "583871      137869  \n",
       "\n",
       "[583872 rows x 6 columns]"
      ]
     },
     "execution_count": 160,
     "metadata": {},
     "output_type": "execute_result"
    }
   ],
   "source": [
    "interest = pd.DataFrame(group_pair).rename(columns={0:'Source',1:'Target',2:'Group_Name',3:'18+',4:'Members',5:'Pool_Counts'})\n",
    "interest"
   ]
  },
  {
   "cell_type": "code",
   "execution_count": 201,
   "id": "23461032",
   "metadata": {},
   "outputs": [
    {
     "data": {
      "text/plain": [
       "293"
      ]
     },
     "execution_count": 201,
     "metadata": {},
     "output_type": "execute_result"
    }
   ],
   "source": [
    "len(interest['Source'].unique())"
   ]
  },
  {
   "cell_type": "code",
   "execution_count": 246,
   "id": "e8031ffb",
   "metadata": {},
   "outputs": [],
   "source": [
    "contact_df.to_csv('Amsterdam/data_storage/contacts.csv',sep='\\t')"
   ]
  },
  {
   "cell_type": "code",
   "execution_count": 118,
   "id": "427da1c6",
   "metadata": {},
   "outputs": [],
   "source": [
    "friendship.to_csv('Amsterdam/data_storage/friendship.csv',sep='\\t')\n",
    "interest.to_csv('Amsterdam/data_storage/interest.csv',sep='\\t')"
   ]
  },
  {
   "cell_type": "code",
   "execution_count": 259,
   "id": "e97faaf1",
   "metadata": {},
   "outputs": [],
   "source": [
    "contact_df.to_csv('Suzhou/data_storage/contacts.csv',sep='\\t')"
   ]
  },
  {
   "cell_type": "code",
   "execution_count": 131,
   "id": "ec66182c",
   "metadata": {},
   "outputs": [],
   "source": [
    "friendship.to_csv('Suzhou/data_storage/friendship.csv',sep='\\t')\n",
    "interest.to_csv('Suzhou/data_storage/interest.csv',sep='\\t')"
   ]
  },
  {
   "cell_type": "code",
   "execution_count": 198,
   "id": "41928666",
   "metadata": {},
   "outputs": [],
   "source": [
    "contact_df.to_csv('Venezia/data_storage/contacts.csv',sep='\\t')\n",
    "friendship.to_csv('Venezia/data_storage/friendship.csv',sep='\\t')\n",
    "interest.to_csv('Venezia/data_storage/interest.csv',sep='\\t')"
   ]
  },
  {
   "cell_type": "code",
   "execution_count": 161,
   "id": "a0fc18cf",
   "metadata": {},
   "outputs": [],
   "source": [
    "contact_df.to_csv('data_storage/images/contacts.csv',sep='\\t')\n",
    "friendship.to_csv('data_storage/images/friendship.csv',sep='\\t')\n",
    "interest.to_csv('data_storage/images/interest.csv',sep='\\t')"
   ]
  },
  {
   "cell_type": "code",
   "execution_count": 200,
   "id": "bfb29faa",
   "metadata": {},
   "outputs": [
    {
     "data": {
      "text/html": [
       "<div>\n",
       "<style scoped>\n",
       "    .dataframe tbody tr th:only-of-type {\n",
       "        vertical-align: middle;\n",
       "    }\n",
       "\n",
       "    .dataframe tbody tr th {\n",
       "        vertical-align: top;\n",
       "    }\n",
       "\n",
       "    .dataframe thead th {\n",
       "        text-align: right;\n",
       "    }\n",
       "</style>\n",
       "<table border=\"1\" class=\"dataframe\">\n",
       "  <thead>\n",
       "    <tr style=\"text-align: right;\">\n",
       "      <th></th>\n",
       "      <th>Source</th>\n",
       "      <th>Target</th>\n",
       "      <th>inside</th>\n",
       "    </tr>\n",
       "  </thead>\n",
       "  <tbody>\n",
       "    <tr>\n",
       "      <th>0</th>\n",
       "      <td>47954272@N06</td>\n",
       "      <td>53400673@N08</td>\n",
       "      <td>True</td>\n",
       "    </tr>\n",
       "    <tr>\n",
       "      <th>1</th>\n",
       "      <td>64148082@N02</td>\n",
       "      <td>88380809@N07</td>\n",
       "      <td>True</td>\n",
       "    </tr>\n",
       "    <tr>\n",
       "      <th>2</th>\n",
       "      <td>64148082@N02</td>\n",
       "      <td>72647602@N04</td>\n",
       "      <td>True</td>\n",
       "    </tr>\n",
       "    <tr>\n",
       "      <th>3</th>\n",
       "      <td>64148082@N02</td>\n",
       "      <td>96099495@N05</td>\n",
       "      <td>True</td>\n",
       "    </tr>\n",
       "    <tr>\n",
       "      <th>4</th>\n",
       "      <td>186704588@N07</td>\n",
       "      <td>37472264@N04</td>\n",
       "      <td>True</td>\n",
       "    </tr>\n",
       "    <tr>\n",
       "      <th>...</th>\n",
       "      <td>...</td>\n",
       "      <td>...</td>\n",
       "      <td>...</td>\n",
       "    </tr>\n",
       "    <tr>\n",
       "      <th>368</th>\n",
       "      <td>127547040@N07</td>\n",
       "      <td>53400673@N08</td>\n",
       "      <td>True</td>\n",
       "    </tr>\n",
       "    <tr>\n",
       "      <th>369</th>\n",
       "      <td>87413031@N03</td>\n",
       "      <td>33650137@N05</td>\n",
       "      <td>True</td>\n",
       "    </tr>\n",
       "    <tr>\n",
       "      <th>370</th>\n",
       "      <td>112273443@N02</td>\n",
       "      <td>145895983@N08</td>\n",
       "      <td>True</td>\n",
       "    </tr>\n",
       "    <tr>\n",
       "      <th>371</th>\n",
       "      <td>112273443@N02</td>\n",
       "      <td>123016824@N05</td>\n",
       "      <td>True</td>\n",
       "    </tr>\n",
       "    <tr>\n",
       "      <th>372</th>\n",
       "      <td>112273443@N02</td>\n",
       "      <td>141840400@N04</td>\n",
       "      <td>True</td>\n",
       "    </tr>\n",
       "  </tbody>\n",
       "</table>\n",
       "<p>373 rows × 3 columns</p>\n",
       "</div>"
      ],
      "text/plain": [
       "            Source         Target  inside\n",
       "0     47954272@N06   53400673@N08    True\n",
       "1     64148082@N02   88380809@N07    True\n",
       "2     64148082@N02   72647602@N04    True\n",
       "3     64148082@N02   96099495@N05    True\n",
       "4    186704588@N07   37472264@N04    True\n",
       "..             ...            ...     ...\n",
       "368  127547040@N07   53400673@N08    True\n",
       "369   87413031@N03   33650137@N05    True\n",
       "370  112273443@N02  145895983@N08    True\n",
       "371  112273443@N02  123016824@N05    True\n",
       "372  112273443@N02  141840400@N04    True\n",
       "\n",
       "[373 rows x 3 columns]"
      ]
     },
     "execution_count": 200,
     "metadata": {},
     "output_type": "execute_result"
    }
   ],
   "source": [
    "friendship"
   ]
  },
  {
   "cell_type": "code",
   "execution_count": 5,
   "id": "9ef979f8",
   "metadata": {},
   "outputs": [],
   "source": [
    "contact_df = pd.read_csv('Venezia/data_storage/contacts.csv',sep='\\t').drop('Unnamed: 0',axis=1)\n",
    "interest = pd.read_csv('Venezia/data_storage/interest.csv',sep='\\t').drop('Unnamed: 0',axis=1)\n",
    "friendship = pd.read_csv('Venezia/data_storage/friendship.csv',sep='\\t').drop('Unnamed: 0',axis=1)"
   ]
  },
  {
   "cell_type": "code",
   "execution_count": 94,
   "id": "02faefed",
   "metadata": {},
   "outputs": [],
   "source": [
    "contact_df = pd.read_csv('Amsterdam/data_storage/contacts.csv',sep='\\t').drop('Unnamed: 0',axis=1)\n",
    "interest = pd.read_csv('Amsterdam/data_storage/interest.csv',sep='\\t').drop('Unnamed: 0',axis=1)\n",
    "friendship = pd.read_csv('Amsterdam/data_storage/friendship.csv',sep='\\t').drop('Unnamed: 0',axis=1)"
   ]
  },
  {
   "cell_type": "code",
   "execution_count": 113,
   "id": "727b7197",
   "metadata": {},
   "outputs": [],
   "source": [
    "contact_df = pd.read_csv('Suzhou/data_storage/contacts.csv',sep='\\t').drop('Unnamed: 0',axis=1)\n",
    "interest = pd.read_csv('Suzhou/data_storage/interest.csv',sep='\\t').drop('Unnamed: 0',axis=1)\n",
    "friendship = pd.read_csv('Suzhou/data_storage/friendship.csv',sep='\\t').drop('Unnamed: 0',axis=1)"
   ]
  },
  {
   "cell_type": "code",
   "execution_count": 133,
   "id": "fdd51ed8",
   "metadata": {},
   "outputs": [],
   "source": [
    "contact_df = pd.read_csv('data_storage/images/contacts.csv',sep='\\t').drop('Unnamed: 0',axis=1)\n",
    "interest = pd.read_csv('data_storage/images/interest.csv',sep='\\t').drop('Unnamed: 0',axis=1)\n",
    "friendship = pd.read_csv('data_storage/images/friendship.csv',sep='\\t').drop('Unnamed: 0',axis=1)"
   ]
  },
  {
   "cell_type": "code",
   "execution_count": 134,
   "id": "d56b0734",
   "metadata": {},
   "outputs": [
    {
     "data": {
      "text/html": [
       "<div>\n",
       "<style scoped>\n",
       "    .dataframe tbody tr th:only-of-type {\n",
       "        vertical-align: middle;\n",
       "    }\n",
       "\n",
       "    .dataframe tbody tr th {\n",
       "        vertical-align: top;\n",
       "    }\n",
       "\n",
       "    .dataframe thead th {\n",
       "        text-align: right;\n",
       "    }\n",
       "</style>\n",
       "<table border=\"1\" class=\"dataframe\">\n",
       "  <thead>\n",
       "    <tr style=\"text-align: right;\">\n",
       "      <th></th>\n",
       "      <th>0</th>\n",
       "      <th>1</th>\n",
       "      <th>inside</th>\n",
       "    </tr>\n",
       "  </thead>\n",
       "  <tbody>\n",
       "    <tr>\n",
       "      <th>0</th>\n",
       "      <td>148125504@N04</td>\n",
       "      <td>88562734@N00</td>\n",
       "      <td>False</td>\n",
       "    </tr>\n",
       "    <tr>\n",
       "      <th>1</th>\n",
       "      <td>148125504@N04</td>\n",
       "      <td>140284390@N04</td>\n",
       "      <td>False</td>\n",
       "    </tr>\n",
       "    <tr>\n",
       "      <th>2</th>\n",
       "      <td>148125504@N04</td>\n",
       "      <td>28132554@N00</td>\n",
       "      <td>True</td>\n",
       "    </tr>\n",
       "    <tr>\n",
       "      <th>3</th>\n",
       "      <td>148125504@N04</td>\n",
       "      <td>155663969@N02</td>\n",
       "      <td>False</td>\n",
       "    </tr>\n",
       "    <tr>\n",
       "      <th>4</th>\n",
       "      <td>148125504@N04</td>\n",
       "      <td>131256966@N08</td>\n",
       "      <td>False</td>\n",
       "    </tr>\n",
       "    <tr>\n",
       "      <th>...</th>\n",
       "      <td>...</td>\n",
       "      <td>...</td>\n",
       "      <td>...</td>\n",
       "    </tr>\n",
       "    <tr>\n",
       "      <th>894716</th>\n",
       "      <td>48150664@N07</td>\n",
       "      <td>59649937@N05</td>\n",
       "      <td>False</td>\n",
       "    </tr>\n",
       "    <tr>\n",
       "      <th>894717</th>\n",
       "      <td>48150664@N07</td>\n",
       "      <td>64497386@N02</td>\n",
       "      <td>False</td>\n",
       "    </tr>\n",
       "    <tr>\n",
       "      <th>894718</th>\n",
       "      <td>48150664@N07</td>\n",
       "      <td>121585339@N03</td>\n",
       "      <td>False</td>\n",
       "    </tr>\n",
       "    <tr>\n",
       "      <th>894719</th>\n",
       "      <td>48150664@N07</td>\n",
       "      <td>101974306@N08</td>\n",
       "      <td>False</td>\n",
       "    </tr>\n",
       "    <tr>\n",
       "      <th>894720</th>\n",
       "      <td>48150664@N07</td>\n",
       "      <td>59230164@N07</td>\n",
       "      <td>False</td>\n",
       "    </tr>\n",
       "  </tbody>\n",
       "</table>\n",
       "<p>894721 rows × 3 columns</p>\n",
       "</div>"
      ],
      "text/plain": [
       "                    0              1  inside\n",
       "0       148125504@N04   88562734@N00   False\n",
       "1       148125504@N04  140284390@N04   False\n",
       "2       148125504@N04   28132554@N00    True\n",
       "3       148125504@N04  155663969@N02   False\n",
       "4       148125504@N04  131256966@N08   False\n",
       "...               ...            ...     ...\n",
       "894716   48150664@N07   59649937@N05   False\n",
       "894717   48150664@N07   64497386@N02   False\n",
       "894718   48150664@N07  121585339@N03   False\n",
       "894719   48150664@N07  101974306@N08   False\n",
       "894720   48150664@N07   59230164@N07   False\n",
       "\n",
       "[894721 rows x 3 columns]"
      ]
     },
     "execution_count": 134,
     "metadata": {},
     "output_type": "execute_result"
    }
   ],
   "source": [
    "contact_df"
   ]
  },
  {
   "cell_type": "code",
   "execution_count": 135,
   "id": "c0b34941",
   "metadata": {},
   "outputs": [
    {
     "data": {
      "text/plain": [
       "(117908, 117883)"
      ]
     },
     "execution_count": 135,
     "metadata": {},
     "output_type": "execute_result"
    }
   ],
   "source": [
    "len(interest['Target'].unique()),len(interest['Group_Name'].unique())"
   ]
  },
  {
   "cell_type": "code",
   "execution_count": 136,
   "id": "72d4e97f",
   "metadata": {},
   "outputs": [
    {
     "data": {
      "text/plain": [
       "(4883, 2454, 5627)"
      ]
     },
     "execution_count": 136,
     "metadata": {},
     "output_type": "execute_result"
    }
   ],
   "source": [
    "len(interest['Source'].unique()),len(friendship['Source'].unique()),len(contact_df['0'].unique())"
   ]
  },
  {
   "cell_type": "code",
   "execution_count": 137,
   "id": "ceda372b",
   "metadata": {},
   "outputs": [
    {
     "data": {
      "text/plain": [
       "6077"
      ]
     },
     "execution_count": 137,
     "metadata": {},
     "output_type": "execute_result"
    }
   ],
   "source": [
    "len(owners)"
   ]
  },
  {
   "cell_type": "code",
   "execution_count": 10,
   "id": "027c011b",
   "metadata": {},
   "outputs": [],
   "source": [
    "import networkx as nx"
   ]
  },
  {
   "cell_type": "code",
   "execution_count": 138,
   "id": "cd23f47f",
   "metadata": {},
   "outputs": [],
   "source": [
    "G1 = nx.from_pandas_edgelist(friendship, source='Source',target='Target')\n",
    "G2 = nx.from_pandas_edgelist(interest, source='Source',target='Target')"
   ]
  },
  {
   "cell_type": "code",
   "execution_count": 139,
   "id": "4e4b6fa2",
   "metadata": {},
   "outputs": [
    {
     "data": {
      "text/plain": [
       "(8526, 809)"
      ]
     },
     "execution_count": 139,
     "metadata": {},
     "output_type": "execute_result"
    }
   ],
   "source": [
    "len(G1.edges()),len(G3.edges())"
   ]
  },
  {
   "cell_type": "code",
   "execution_count": 140,
   "id": "29aa6315",
   "metadata": {},
   "outputs": [],
   "source": [
    "G3 = nx.bipartite.overlap_weighted_projected_graph(G2, interest['Source'].unique())"
   ]
  },
  {
   "cell_type": "code",
   "execution_count": 121,
   "id": "151fe4d4",
   "metadata": {},
   "outputs": [
    {
     "data": {
      "text/html": [
       "<div>\n",
       "<style scoped>\n",
       "    .dataframe tbody tr th:only-of-type {\n",
       "        vertical-align: middle;\n",
       "    }\n",
       "\n",
       "    .dataframe tbody tr th {\n",
       "        vertical-align: top;\n",
       "    }\n",
       "\n",
       "    .dataframe thead th {\n",
       "        text-align: right;\n",
       "    }\n",
       "</style>\n",
       "<table border=\"1\" class=\"dataframe\">\n",
       "  <thead>\n",
       "    <tr style=\"text-align: right;\">\n",
       "      <th></th>\n",
       "      <th>source</th>\n",
       "      <th>target</th>\n",
       "    </tr>\n",
       "  </thead>\n",
       "  <tbody>\n",
       "    <tr>\n",
       "      <th>0</th>\n",
       "      <td>128337749@N02</td>\n",
       "      <td>28571579@N03</td>\n",
       "    </tr>\n",
       "  </tbody>\n",
       "</table>\n",
       "</div>"
      ],
      "text/plain": [
       "          source        target\n",
       "0  128337749@N02  28571579@N03"
      ]
     },
     "execution_count": 121,
     "metadata": {},
     "output_type": "execute_result"
    }
   ],
   "source": [
    "nx.to_pandas_edgelist(G1)"
   ]
  },
  {
   "cell_type": "code",
   "execution_count": 122,
   "id": "4a39ad7a",
   "metadata": {},
   "outputs": [
    {
     "data": {
      "text/html": [
       "<div>\n",
       "<style scoped>\n",
       "    .dataframe tbody tr th:only-of-type {\n",
       "        vertical-align: middle;\n",
       "    }\n",
       "\n",
       "    .dataframe tbody tr th {\n",
       "        vertical-align: top;\n",
       "    }\n",
       "\n",
       "    .dataframe thead th {\n",
       "        text-align: right;\n",
       "    }\n",
       "</style>\n",
       "<table border=\"1\" class=\"dataframe\">\n",
       "  <thead>\n",
       "    <tr style=\"text-align: right;\">\n",
       "      <th></th>\n",
       "      <th>source</th>\n",
       "      <th>target</th>\n",
       "      <th>weight</th>\n",
       "    </tr>\n",
       "  </thead>\n",
       "  <tbody>\n",
       "    <tr>\n",
       "      <th>0</th>\n",
       "      <td>57210421@N04</td>\n",
       "      <td>117372933@N07</td>\n",
       "      <td>0.058824</td>\n",
       "    </tr>\n",
       "    <tr>\n",
       "      <th>1</th>\n",
       "      <td>57210421@N04</td>\n",
       "      <td>63829447@N04</td>\n",
       "      <td>0.028571</td>\n",
       "    </tr>\n",
       "    <tr>\n",
       "      <th>2</th>\n",
       "      <td>57210421@N04</td>\n",
       "      <td>13325044@N05</td>\n",
       "      <td>0.066667</td>\n",
       "    </tr>\n",
       "    <tr>\n",
       "      <th>3</th>\n",
       "      <td>57210421@N04</td>\n",
       "      <td>98402793@N00</td>\n",
       "      <td>0.007407</td>\n",
       "    </tr>\n",
       "    <tr>\n",
       "      <th>4</th>\n",
       "      <td>57210421@N04</td>\n",
       "      <td>50658691@N04</td>\n",
       "      <td>0.500000</td>\n",
       "    </tr>\n",
       "    <tr>\n",
       "      <th>...</th>\n",
       "      <td>...</td>\n",
       "      <td>...</td>\n",
       "      <td>...</td>\n",
       "    </tr>\n",
       "    <tr>\n",
       "      <th>804</th>\n",
       "      <td>98489626@N02</td>\n",
       "      <td>95645163@N00</td>\n",
       "      <td>0.014493</td>\n",
       "    </tr>\n",
       "    <tr>\n",
       "      <th>805</th>\n",
       "      <td>95645163@N00</td>\n",
       "      <td>79721788@N00</td>\n",
       "      <td>0.023585</td>\n",
       "    </tr>\n",
       "    <tr>\n",
       "      <th>806</th>\n",
       "      <td>95645163@N00</td>\n",
       "      <td>145351882@N07</td>\n",
       "      <td>0.012195</td>\n",
       "    </tr>\n",
       "    <tr>\n",
       "      <th>807</th>\n",
       "      <td>95645163@N00</td>\n",
       "      <td>91698536@N04</td>\n",
       "      <td>0.014925</td>\n",
       "    </tr>\n",
       "    <tr>\n",
       "      <th>808</th>\n",
       "      <td>79721788@N00</td>\n",
       "      <td>91698536@N04</td>\n",
       "      <td>0.006667</td>\n",
       "    </tr>\n",
       "  </tbody>\n",
       "</table>\n",
       "<p>809 rows × 3 columns</p>\n",
       "</div>"
      ],
      "text/plain": [
       "           source         target    weight\n",
       "0    57210421@N04  117372933@N07  0.058824\n",
       "1    57210421@N04   63829447@N04  0.028571\n",
       "2    57210421@N04   13325044@N05  0.066667\n",
       "3    57210421@N04   98402793@N00  0.007407\n",
       "4    57210421@N04   50658691@N04  0.500000\n",
       "..            ...            ...       ...\n",
       "804  98489626@N02   95645163@N00  0.014493\n",
       "805  95645163@N00   79721788@N00  0.023585\n",
       "806  95645163@N00  145351882@N07  0.012195\n",
       "807  95645163@N00   91698536@N04  0.014925\n",
       "808  79721788@N00   91698536@N04  0.006667\n",
       "\n",
       "[809 rows x 3 columns]"
      ]
     },
     "execution_count": 122,
     "metadata": {},
     "output_type": "execute_result"
    }
   ],
   "source": [
    "nx.to_pandas_edgelist(G3)"
   ]
  },
  {
   "cell_type": "code",
   "execution_count": 178,
   "id": "02a804be",
   "metadata": {},
   "outputs": [
    {
     "data": {
      "text/html": [
       "<div>\n",
       "<style scoped>\n",
       "    .dataframe tbody tr th:only-of-type {\n",
       "        vertical-align: middle;\n",
       "    }\n",
       "\n",
       "    .dataframe tbody tr th {\n",
       "        vertical-align: top;\n",
       "    }\n",
       "\n",
       "    .dataframe thead th {\n",
       "        text-align: right;\n",
       "    }\n",
       "</style>\n",
       "<table border=\"1\" class=\"dataframe\">\n",
       "  <thead>\n",
       "    <tr style=\"text-align: right;\">\n",
       "      <th></th>\n",
       "      <th>Target</th>\n",
       "      <th>Group_Name</th>\n",
       "      <th>18+</th>\n",
       "      <th>Members</th>\n",
       "      <th>Pool_Counts</th>\n",
       "    </tr>\n",
       "    <tr>\n",
       "      <th>Source</th>\n",
       "      <th></th>\n",
       "      <th></th>\n",
       "      <th></th>\n",
       "      <th></th>\n",
       "      <th></th>\n",
       "    </tr>\n",
       "  </thead>\n",
       "  <tbody>\n",
       "    <tr>\n",
       "      <th>10028574@N02</th>\n",
       "      <td>123</td>\n",
       "      <td>123</td>\n",
       "      <td>123</td>\n",
       "      <td>123</td>\n",
       "      <td>123</td>\n",
       "    </tr>\n",
       "    <tr>\n",
       "      <th>100629421@N07</th>\n",
       "      <td>217</td>\n",
       "      <td>217</td>\n",
       "      <td>217</td>\n",
       "      <td>217</td>\n",
       "      <td>217</td>\n",
       "    </tr>\n",
       "    <tr>\n",
       "      <th>10101620@N07</th>\n",
       "      <td>17</td>\n",
       "      <td>17</td>\n",
       "      <td>17</td>\n",
       "      <td>17</td>\n",
       "      <td>17</td>\n",
       "    </tr>\n",
       "    <tr>\n",
       "      <th>10419801@N06</th>\n",
       "      <td>3</td>\n",
       "      <td>3</td>\n",
       "      <td>3</td>\n",
       "      <td>3</td>\n",
       "      <td>3</td>\n",
       "    </tr>\n",
       "    <tr>\n",
       "      <th>10471762@N02</th>\n",
       "      <td>3</td>\n",
       "      <td>3</td>\n",
       "      <td>3</td>\n",
       "      <td>3</td>\n",
       "      <td>3</td>\n",
       "    </tr>\n",
       "    <tr>\n",
       "      <th>...</th>\n",
       "      <td>...</td>\n",
       "      <td>...</td>\n",
       "      <td>...</td>\n",
       "      <td>...</td>\n",
       "      <td>...</td>\n",
       "    </tr>\n",
       "    <tr>\n",
       "      <th>97904844@N08</th>\n",
       "      <td>64</td>\n",
       "      <td>64</td>\n",
       "      <td>64</td>\n",
       "      <td>64</td>\n",
       "      <td>64</td>\n",
       "    </tr>\n",
       "    <tr>\n",
       "      <th>98508400@N04</th>\n",
       "      <td>398</td>\n",
       "      <td>398</td>\n",
       "      <td>398</td>\n",
       "      <td>398</td>\n",
       "      <td>398</td>\n",
       "    </tr>\n",
       "    <tr>\n",
       "      <th>98649929@N04</th>\n",
       "      <td>131</td>\n",
       "      <td>131</td>\n",
       "      <td>131</td>\n",
       "      <td>131</td>\n",
       "      <td>131</td>\n",
       "    </tr>\n",
       "    <tr>\n",
       "      <th>99098557@N06</th>\n",
       "      <td>23</td>\n",
       "      <td>23</td>\n",
       "      <td>23</td>\n",
       "      <td>23</td>\n",
       "      <td>23</td>\n",
       "    </tr>\n",
       "    <tr>\n",
       "      <th>99186974@N00</th>\n",
       "      <td>156</td>\n",
       "      <td>156</td>\n",
       "      <td>156</td>\n",
       "      <td>156</td>\n",
       "      <td>156</td>\n",
       "    </tr>\n",
       "  </tbody>\n",
       "</table>\n",
       "<p>293 rows × 5 columns</p>\n",
       "</div>"
      ],
      "text/plain": [
       "               Target  Group_Name  18+  Members  Pool_Counts\n",
       "Source                                                      \n",
       "10028574@N02      123         123  123      123          123\n",
       "100629421@N07     217         217  217      217          217\n",
       "10101620@N07       17          17   17       17           17\n",
       "10419801@N06        3           3    3        3            3\n",
       "10471762@N02        3           3    3        3            3\n",
       "...               ...         ...  ...      ...          ...\n",
       "97904844@N08       64          64   64       64           64\n",
       "98508400@N04      398         398  398      398          398\n",
       "98649929@N04      131         131  131      131          131\n",
       "99098557@N06       23          23   23       23           23\n",
       "99186974@N00      156         156  156      156          156\n",
       "\n",
       "[293 rows x 5 columns]"
      ]
     },
     "execution_count": 178,
     "metadata": {},
     "output_type": "execute_result"
    }
   ],
   "source": [
    "interest.groupby('Source').count()"
   ]
  },
  {
   "cell_type": "code",
   "execution_count": 36,
   "id": "29375e25",
   "metadata": {},
   "outputs": [],
   "source": [
    "s = '64148082@N02'\n",
    "t = '72647602@N04'"
   ]
  },
  {
   "cell_type": "code",
   "execution_count": 50,
   "id": "3583bed8",
   "metadata": {},
   "outputs": [
    {
     "data": {
      "text/plain": [
       "0.09836065573770492"
      ]
     },
     "execution_count": 50,
     "metadata": {},
     "output_type": "execute_result"
    }
   ],
   "source": [
    "G3.edges[(s,t)]['weight']"
   ]
  },
  {
   "cell_type": "code",
   "execution_count": 141,
   "id": "db955ee6",
   "metadata": {},
   "outputs": [],
   "source": [
    "social_dict = {}\n",
    "for s in owners:\n",
    "    for t in owners:\n",
    "        social_dict[(s,t)] = {}\n",
    "        if s==t:\n",
    "            social_dict[(s,t)]['self'] = 1\n",
    "            social_dict[(s,t)]['friend'] = 1\n",
    "            social_dict[(s,t)]['interest'] = 1\n",
    "        else:\n",
    "            social_dict[(s,t)]['self'] = 0\n",
    "            social_dict[(s,t)]['friend'] = (s,t) in G1.edges()\n",
    "            if (s,t) in G3.edges():\n",
    "                social_dict[(s,t)]['interest'] = G3.edges[(s,t)]['weight']\n",
    "            else:\n",
    "                social_dict[(s,t)]['interest'] = 0"
   ]
  },
  {
   "cell_type": "code",
   "execution_count": 142,
   "id": "c08dbd54",
   "metadata": {},
   "outputs": [],
   "source": [
    "social_df = pd.DataFrame(social_dict).T"
   ]
  },
  {
   "cell_type": "code",
   "execution_count": 148,
   "id": "61d78e32",
   "metadata": {},
   "outputs": [
    {
     "data": {
      "text/plain": [
       "<AxesSubplot:>"
      ]
     },
     "execution_count": 148,
     "metadata": {},
     "output_type": "execute_result"
    },
    {
     "data": {
      "image/png": "[encoded data removed]",
      "text/plain": [
       "<Figure size 432x288 with 1 Axes>"
      ]
     },
     "metadata": {
      "needs_background": "light"
     },
     "output_type": "display_data"
    }
   ],
   "source": [
    "social_df[social_df.interest>0].loc[social_df.interest<1]['interest'].hist(log=True)"
   ]
  },
  {
   "cell_type": "code",
   "execution_count": 146,
   "id": "96d411fe",
   "metadata": {},
   "outputs": [
    {
     "data": {
      "text/html": [
       "<div>\n",
       "<style scoped>\n",
       "    .dataframe tbody tr th:only-of-type {\n",
       "        vertical-align: middle;\n",
       "    }\n",
       "\n",
       "    .dataframe tbody tr th {\n",
       "        vertical-align: top;\n",
       "    }\n",
       "\n",
       "    .dataframe thead th {\n",
       "        text-align: right;\n",
       "    }\n",
       "</style>\n",
       "<table border=\"1\" class=\"dataframe\">\n",
       "  <thead>\n",
       "    <tr style=\"text-align: right;\">\n",
       "      <th></th>\n",
       "      <th></th>\n",
       "      <th>self</th>\n",
       "      <th>friend</th>\n",
       "      <th>interest</th>\n",
       "      <th>mutual</th>\n",
       "    </tr>\n",
       "  </thead>\n",
       "  <tbody>\n",
       "    <tr>\n",
       "      <th rowspan=\"5\" valign=\"top\">148125504@N04</th>\n",
       "      <th>30996501@N07</th>\n",
       "      <td>0</td>\n",
       "      <td>False</td>\n",
       "      <td>0.100789</td>\n",
       "      <td>True</td>\n",
       "    </tr>\n",
       "    <tr>\n",
       "      <th>103963823@N07</th>\n",
       "      <td>0</td>\n",
       "      <td>False</td>\n",
       "      <td>0.113518</td>\n",
       "      <td>True</td>\n",
       "    </tr>\n",
       "    <tr>\n",
       "      <th>131220333@N05</th>\n",
       "      <td>0</td>\n",
       "      <td>False</td>\n",
       "      <td>0.165109</td>\n",
       "      <td>True</td>\n",
       "    </tr>\n",
       "    <tr>\n",
       "      <th>38795342@N06</th>\n",
       "      <td>0</td>\n",
       "      <td>False</td>\n",
       "      <td>0.101571</td>\n",
       "      <td>True</td>\n",
       "    </tr>\n",
       "    <tr>\n",
       "      <th>130345501@N04</th>\n",
       "      <td>0</td>\n",
       "      <td>True</td>\n",
       "      <td>0.103535</td>\n",
       "      <td>True</td>\n",
       "    </tr>\n",
       "    <tr>\n",
       "      <th>...</th>\n",
       "      <th>...</th>\n",
       "      <td>...</td>\n",
       "      <td>...</td>\n",
       "      <td>...</td>\n",
       "      <td>...</td>\n",
       "    </tr>\n",
       "    <tr>\n",
       "      <th rowspan=\"5\" valign=\"top\">48150664@N07</th>\n",
       "      <th>134836250@N02</th>\n",
       "      <td>0</td>\n",
       "      <td>True</td>\n",
       "      <td>0.135729</td>\n",
       "      <td>True</td>\n",
       "    </tr>\n",
       "    <tr>\n",
       "      <th>121844793@N05</th>\n",
       "      <td>0</td>\n",
       "      <td>False</td>\n",
       "      <td>0.123953</td>\n",
       "      <td>True</td>\n",
       "    </tr>\n",
       "    <tr>\n",
       "      <th>116860703@N02</th>\n",
       "      <td>0</td>\n",
       "      <td>False</td>\n",
       "      <td>0.101227</td>\n",
       "      <td>True</td>\n",
       "    </tr>\n",
       "    <tr>\n",
       "      <th>130365893@N05</th>\n",
       "      <td>0</td>\n",
       "      <td>False</td>\n",
       "      <td>0.102041</td>\n",
       "      <td>True</td>\n",
       "    </tr>\n",
       "    <tr>\n",
       "      <th>127641458@N06</th>\n",
       "      <td>0</td>\n",
       "      <td>False</td>\n",
       "      <td>0.118987</td>\n",
       "      <td>True</td>\n",
       "    </tr>\n",
       "  </tbody>\n",
       "</table>\n",
       "<p>35320 rows × 4 columns</p>\n",
       "</div>"
      ],
      "text/plain": [
       "                            self friend  interest  mutual\n",
       "148125504@N04 30996501@N07     0  False  0.100789    True\n",
       "              103963823@N07    0  False  0.113518    True\n",
       "              131220333@N05    0  False  0.165109    True\n",
       "              38795342@N06     0  False  0.101571    True\n",
       "              130345501@N04    0   True  0.103535    True\n",
       "...                          ...    ...       ...     ...\n",
       "48150664@N07  134836250@N02    0   True  0.135729    True\n",
       "              121844793@N05    0  False  0.123953    True\n",
       "              116860703@N02    0  False  0.101227    True\n",
       "              130365893@N05    0  False  0.102041    True\n",
       "              127641458@N06    0  False  0.118987    True\n",
       "\n",
       "[35320 rows x 4 columns]"
      ]
     },
     "execution_count": 146,
     "metadata": {},
     "output_type": "execute_result"
    }
   ],
   "source": [
    "social_df[social_df.interest>0.1].loc[social_df.interest<1]"
   ]
  },
  {
   "cell_type": "code",
   "execution_count": 144,
   "id": "9f956c84",
   "metadata": {},
   "outputs": [],
   "source": [
    "social_df['mutual'] = social_df['interest'] > 0.1"
   ]
  },
  {
   "cell_type": "code",
   "execution_count": 145,
   "id": "709e9e0d",
   "metadata": {},
   "outputs": [
    {
     "data": {
      "text/html": [
       "<div>\n",
       "<style scoped>\n",
       "    .dataframe tbody tr th:only-of-type {\n",
       "        vertical-align: middle;\n",
       "    }\n",
       "\n",
       "    .dataframe tbody tr th {\n",
       "        vertical-align: top;\n",
       "    }\n",
       "\n",
       "    .dataframe thead th {\n",
       "        text-align: right;\n",
       "    }\n",
       "</style>\n",
       "<table border=\"1\" class=\"dataframe\">\n",
       "  <thead>\n",
       "    <tr style=\"text-align: right;\">\n",
       "      <th></th>\n",
       "      <th></th>\n",
       "      <th>self</th>\n",
       "      <th>friend</th>\n",
       "      <th>interest</th>\n",
       "      <th>mutual</th>\n",
       "    </tr>\n",
       "  </thead>\n",
       "  <tbody>\n",
       "    <tr>\n",
       "      <th rowspan=\"5\" valign=\"top\">148125504@N04</th>\n",
       "      <th>148125504@N04</th>\n",
       "      <td>1</td>\n",
       "      <td>1</td>\n",
       "      <td>1</td>\n",
       "      <td>True</td>\n",
       "    </tr>\n",
       "    <tr>\n",
       "      <th>32980384@N05</th>\n",
       "      <td>0</td>\n",
       "      <td>False</td>\n",
       "      <td>0.004769</td>\n",
       "      <td>False</td>\n",
       "    </tr>\n",
       "    <tr>\n",
       "      <th>96038677@N06</th>\n",
       "      <td>0</td>\n",
       "      <td>False</td>\n",
       "      <td>0</td>\n",
       "      <td>False</td>\n",
       "    </tr>\n",
       "    <tr>\n",
       "      <th>88380809@N07</th>\n",
       "      <td>0</td>\n",
       "      <td>False</td>\n",
       "      <td>0.012162</td>\n",
       "      <td>False</td>\n",
       "    </tr>\n",
       "    <tr>\n",
       "      <th>138486769@N02</th>\n",
       "      <td>0</td>\n",
       "      <td>False</td>\n",
       "      <td>0.033613</td>\n",
       "      <td>False</td>\n",
       "    </tr>\n",
       "    <tr>\n",
       "      <th>...</th>\n",
       "      <th>...</th>\n",
       "      <td>...</td>\n",
       "      <td>...</td>\n",
       "      <td>...</td>\n",
       "      <td>...</td>\n",
       "    </tr>\n",
       "    <tr>\n",
       "      <th rowspan=\"5\" valign=\"top\">48150664@N07</th>\n",
       "      <th>46856873@N05</th>\n",
       "      <td>0</td>\n",
       "      <td>False</td>\n",
       "      <td>0.087719</td>\n",
       "      <td>False</td>\n",
       "    </tr>\n",
       "    <tr>\n",
       "      <th>142199786@N05</th>\n",
       "      <td>0</td>\n",
       "      <td>False</td>\n",
       "      <td>0</td>\n",
       "      <td>False</td>\n",
       "    </tr>\n",
       "    <tr>\n",
       "      <th>132571827@N06</th>\n",
       "      <td>0</td>\n",
       "      <td>False</td>\n",
       "      <td>0.047859</td>\n",
       "      <td>False</td>\n",
       "    </tr>\n",
       "    <tr>\n",
       "      <th>29127542@N04</th>\n",
       "      <td>0</td>\n",
       "      <td>False</td>\n",
       "      <td>0</td>\n",
       "      <td>False</td>\n",
       "    </tr>\n",
       "    <tr>\n",
       "      <th>48150664@N07</th>\n",
       "      <td>1</td>\n",
       "      <td>1</td>\n",
       "      <td>1</td>\n",
       "      <td>True</td>\n",
       "    </tr>\n",
       "  </tbody>\n",
       "</table>\n",
       "<p>36929929 rows × 4 columns</p>\n",
       "</div>"
      ],
      "text/plain": [
       "                            self friend  interest  mutual\n",
       "148125504@N04 148125504@N04    1      1         1    True\n",
       "              32980384@N05     0  False  0.004769   False\n",
       "              96038677@N06     0  False         0   False\n",
       "              88380809@N07     0  False  0.012162   False\n",
       "              138486769@N02    0  False  0.033613   False\n",
       "...                          ...    ...       ...     ...\n",
       "48150664@N07  46856873@N05     0  False  0.087719   False\n",
       "              142199786@N05    0  False         0   False\n",
       "              132571827@N06    0  False  0.047859   False\n",
       "              29127542@N04     0  False         0   False\n",
       "              48150664@N07     1      1         1    True\n",
       "\n",
       "[36929929 rows x 4 columns]"
      ]
     },
     "execution_count": 145,
     "metadata": {},
     "output_type": "execute_result"
    }
   ],
   "source": [
    "social_df"
   ]
  },
  {
   "cell_type": "code",
   "execution_count": 90,
   "id": "562a2d84",
   "metadata": {},
   "outputs": [],
   "source": [
    "social_df.to_csv('Venezia/data_storage/social_links.csv',sep='\\t')"
   ]
  },
  {
   "cell_type": "code",
   "execution_count": 109,
   "id": "51b3752e",
   "metadata": {},
   "outputs": [],
   "source": [
    "social_df.to_csv('Amsterdam/data_storage/social_links.csv',sep='\\t')"
   ]
  },
  {
   "cell_type": "code",
   "execution_count": 129,
   "id": "374e4763",
   "metadata": {},
   "outputs": [],
   "source": [
    "social_df.to_csv('Suzhou/data_storage/social_links.csv',sep='\\t')"
   ]
  },
  {
   "cell_type": "code",
   "execution_count": 147,
   "id": "c2ea87dc",
   "metadata": {},
   "outputs": [],
   "source": [
    "social_df.to_csv('data_storage/images/social_links.csv',sep='\\t')"
   ]
  },
  {
   "cell_type": "code",
   "execution_count": null,
   "id": "9e48ef94",
   "metadata": {},
   "outputs": [],
   "source": []
  }
 ],
 "metadata": {
  "kernelspec": {
   "display_name": "Python (env)",
   "language": "python",
   "name": "env"
  },
  "language_info": {
   "codemirror_mode": {
    "name": "ipython",
    "version": 3
   },
   "file_extension": ".py",
   "mimetype": "text/x-python",
   "name": "python",
   "nbconvert_exporter": "python",
   "pygments_lexer": "ipython3",
   "version": "3.8.8"
  }
 },
 "nbformat": 4,
 "nbformat_minor": 5
}
